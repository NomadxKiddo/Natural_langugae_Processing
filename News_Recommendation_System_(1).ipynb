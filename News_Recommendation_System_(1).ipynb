{
 "cells": [
  {
   "cell_type": "markdown",
   "id": "76ba3296",
   "metadata": {
    "id": "76ba3296"
   },
   "source": [
    "### Necessary libraries"
   ]
  },
  {
   "cell_type": "code",
   "execution_count": 2,
   "id": "zVGwuxIoVETy",
   "metadata": {
    "colab": {
     "base_uri": "https://localhost:8080/"
    },
    "id": "zVGwuxIoVETy",
    "outputId": "7e00a5a1-c592-4969-c5c6-fef938b359bd"
   },
   "outputs": [],
   "source": [
    "# from google.colab import drive\n",
    "# drive.mount('/content/drive')"
   ]
  },
  {
   "cell_type": "code",
   "execution_count": 3,
   "id": "1216a0ed",
   "metadata": {
    "id": "1216a0ed"
   },
   "outputs": [],
   "source": [
    "import numpy as np, pandas as pd\n",
    "import seaborn as sns\n",
    "import matplotlib.pyplot as plt\n",
    "\n",
    "from sklearn.metrics.pairwise import pairwise_distances\n",
    "\n",
    "from math import sqrt\n",
    "from sklearn.metrics import mean_squared_error\n",
    "from sklearn.metrics import mean_absolute_error\n",
    "from sklearn.metrics import accuracy_score\n",
    "from sklearn.model_selection import train_test_split\n",
    "\n",
    "from gensim.corpora.dictionary import Dictionary\n",
    "from gensim.models.tfidfmodel import TfidfModel\n",
    "from gensim.similarities import MatrixSimilarity\n"
   ]
  },
  {
   "cell_type": "markdown",
   "id": "9f2a11f8",
   "metadata": {
    "id": "9f2a11f8"
   },
   "source": [
    "### Loading the given data"
   ]
  },
  {
   "cell_type": "code",
   "execution_count": 4,
   "id": "2f65194c",
   "metadata": {
    "colab": {
     "base_uri": "https://localhost:8080/",
     "height": 346
    },
    "id": "2f65194c",
    "outputId": "0e8bc9d2-7dd2-48c1-f50d-e241d433d44a"
   },
   "outputs": [
    {
     "name": "stderr",
     "output_type": "stream",
     "text": [
      "C:\\Users\\A719084\\AppData\\Local\\Temp\\ipykernel_20616\\3117678637.py:1: DtypeWarning: Columns (4) have mixed types. Specify dtype option on import or set low_memory=False.\n",
      "  user_data = pd.read_csv('consumer_transanctions.csv')\n"
     ]
    }
   ],
   "source": [
    "user_data = pd.read_csv('consumer_transanctions.csv')\n",
    "item_data = pd.read_csv('platform_content.csv')"
   ]
  },
  {
   "cell_type": "markdown",
   "id": "f322b51a",
   "metadata": {
    "id": "f322b51a"
   },
   "source": [
    "### Lets Inspect the given data"
   ]
  },
  {
   "cell_type": "code",
   "execution_count": 5,
   "id": "0ec429b2",
   "metadata": {
    "id": "0ec429b2"
   },
   "outputs": [
    {
     "data": {
      "text/html": [
       "<div>\n",
       "<style scoped>\n",
       "    .dataframe tbody tr th:only-of-type {\n",
       "        vertical-align: middle;\n",
       "    }\n",
       "\n",
       "    .dataframe tbody tr th {\n",
       "        vertical-align: top;\n",
       "    }\n",
       "\n",
       "    .dataframe thead th {\n",
       "        text-align: right;\n",
       "    }\n",
       "</style>\n",
       "<table border=\"1\" class=\"dataframe\">\n",
       "  <thead>\n",
       "    <tr style=\"text-align: right;\">\n",
       "      <th></th>\n",
       "      <th>event_timestamp</th>\n",
       "      <th>interaction_type</th>\n",
       "      <th>item_id</th>\n",
       "      <th>consumer_id</th>\n",
       "      <th>consumer_session_id</th>\n",
       "      <th>consumer_device_info</th>\n",
       "      <th>consumer_location</th>\n",
       "      <th>country</th>\n",
       "    </tr>\n",
       "  </thead>\n",
       "  <tbody>\n",
       "    <tr>\n",
       "      <th>0</th>\n",
       "      <td>1465413032</td>\n",
       "      <td>content_watched</td>\n",
       "      <td>-3499919498720038879</td>\n",
       "      <td>-8845298781299428018</td>\n",
       "      <td>1264196770339959068</td>\n",
       "      <td>NaN</td>\n",
       "      <td>NaN</td>\n",
       "      <td>NaN</td>\n",
       "    </tr>\n",
       "    <tr>\n",
       "      <th>1</th>\n",
       "      <td>1465412560</td>\n",
       "      <td>content_watched</td>\n",
       "      <td>8890720798209849691</td>\n",
       "      <td>-1032019229384696495</td>\n",
       "      <td>3621737643587579081</td>\n",
       "      <td>Mozilla/5.0 (Macintosh; Intel Mac OS X 10_11_2...</td>\n",
       "      <td>NY</td>\n",
       "      <td>US</td>\n",
       "    </tr>\n",
       "    <tr>\n",
       "      <th>2</th>\n",
       "      <td>1465416190</td>\n",
       "      <td>content_watched</td>\n",
       "      <td>310515487419366995</td>\n",
       "      <td>-1130272294246983140</td>\n",
       "      <td>2631864456530402479</td>\n",
       "      <td>NaN</td>\n",
       "      <td>NaN</td>\n",
       "      <td>NaN</td>\n",
       "    </tr>\n",
       "    <tr>\n",
       "      <th>3</th>\n",
       "      <td>1465413895</td>\n",
       "      <td>content_followed</td>\n",
       "      <td>310515487419366995</td>\n",
       "      <td>344280948527967603</td>\n",
       "      <td>-3167637573980064150</td>\n",
       "      <td>NaN</td>\n",
       "      <td>NaN</td>\n",
       "      <td>NaN</td>\n",
       "    </tr>\n",
       "    <tr>\n",
       "      <th>4</th>\n",
       "      <td>1465412290</td>\n",
       "      <td>content_watched</td>\n",
       "      <td>-7820640624231356730</td>\n",
       "      <td>-445337111692715325</td>\n",
       "      <td>561148 1178424124714</td>\n",
       "      <td>NaN</td>\n",
       "      <td>NaN</td>\n",
       "      <td>NaN</td>\n",
       "    </tr>\n",
       "  </tbody>\n",
       "</table>\n",
       "</div>"
      ],
      "text/plain": [
       "   event_timestamp  interaction_type              item_id  \\\n",
       "0       1465413032   content_watched -3499919498720038879   \n",
       "1       1465412560   content_watched  8890720798209849691   \n",
       "2       1465416190   content_watched   310515487419366995   \n",
       "3       1465413895  content_followed   310515487419366995   \n",
       "4       1465412290   content_watched -7820640624231356730   \n",
       "\n",
       "           consumer_id   consumer_session_id  \\\n",
       "0 -8845298781299428018   1264196770339959068   \n",
       "1 -1032019229384696495   3621737643587579081   \n",
       "2 -1130272294246983140   2631864456530402479   \n",
       "3   344280948527967603  -3167637573980064150   \n",
       "4  -445337111692715325  561148 1178424124714   \n",
       "\n",
       "                                consumer_device_info consumer_location country  \n",
       "0                                                NaN               NaN     NaN  \n",
       "1  Mozilla/5.0 (Macintosh; Intel Mac OS X 10_11_2...                NY      US  \n",
       "2                                                NaN               NaN     NaN  \n",
       "3                                                NaN               NaN     NaN  \n",
       "4                                                NaN               NaN     NaN  "
      ]
     },
     "execution_count": 5,
     "metadata": {},
     "output_type": "execute_result"
    }
   ],
   "source": [
    "user_data.head()"
   ]
  },
  {
   "cell_type": "code",
   "execution_count": 6,
   "id": "28b7fa84",
   "metadata": {
    "id": "28b7fa84"
   },
   "outputs": [
    {
     "name": "stdout",
     "output_type": "stream",
     "text": [
      "<class 'pandas.core.frame.DataFrame'>\n",
      "RangeIndex: 72312 entries, 0 to 72311\n",
      "Data columns (total 8 columns):\n",
      " #   Column                Non-Null Count  Dtype \n",
      "---  ------                --------------  ----- \n",
      " 0   event_timestamp       72312 non-null  int64 \n",
      " 1   interaction_type      72312 non-null  object\n",
      " 2   item_id               72312 non-null  int64 \n",
      " 3   consumer_id           72312 non-null  int64 \n",
      " 4   consumer_session_id   72312 non-null  object\n",
      " 5   consumer_device_info  56918 non-null  object\n",
      " 6   consumer_location     56907 non-null  object\n",
      " 7   country               56918 non-null  object\n",
      "dtypes: int64(3), object(5)\n",
      "memory usage: 4.4+ MB\n"
     ]
    }
   ],
   "source": [
    "user_data.info()"
   ]
  },
  {
   "cell_type": "code",
   "execution_count": 7,
   "id": "c956acce",
   "metadata": {
    "id": "c956acce"
   },
   "outputs": [
    {
     "data": {
      "text/html": [
       "<div>\n",
       "<style scoped>\n",
       "    .dataframe tbody tr th:only-of-type {\n",
       "        vertical-align: middle;\n",
       "    }\n",
       "\n",
       "    .dataframe tbody tr th {\n",
       "        vertical-align: top;\n",
       "    }\n",
       "\n",
       "    .dataframe thead th {\n",
       "        text-align: right;\n",
       "    }\n",
       "</style>\n",
       "<table border=\"1\" class=\"dataframe\">\n",
       "  <thead>\n",
       "    <tr style=\"text-align: right;\">\n",
       "      <th></th>\n",
       "      <th>event_timestamp</th>\n",
       "      <th>item_id</th>\n",
       "      <th>consumer_id</th>\n",
       "    </tr>\n",
       "  </thead>\n",
       "  <tbody>\n",
       "    <tr>\n",
       "      <th>count</th>\n",
       "      <td>7.231200e+04</td>\n",
       "      <td>7.231200e+04</td>\n",
       "      <td>7.231200e+04</td>\n",
       "    </tr>\n",
       "    <tr>\n",
       "      <th>mean</th>\n",
       "      <td>1.470103e+09</td>\n",
       "      <td>-3.033423e+16</td>\n",
       "      <td>1.252026e+16</td>\n",
       "    </tr>\n",
       "    <tr>\n",
       "      <th>std</th>\n",
       "      <td>7.258130e+06</td>\n",
       "      <td>5.344755e+18</td>\n",
       "      <td>5.022333e+18</td>\n",
       "    </tr>\n",
       "    <tr>\n",
       "      <th>min</th>\n",
       "      <td>1.457964e+09</td>\n",
       "      <td>-9.222795e+18</td>\n",
       "      <td>-9.223122e+18</td>\n",
       "    </tr>\n",
       "    <tr>\n",
       "      <th>25%</th>\n",
       "      <td>1.464876e+09</td>\n",
       "      <td>-4.726309e+18</td>\n",
       "      <td>-3.596627e+18</td>\n",
       "    </tr>\n",
       "    <tr>\n",
       "      <th>50%</th>\n",
       "      <td>1.468343e+09</td>\n",
       "      <td>1.893099e+16</td>\n",
       "      <td>-1.088422e+17</td>\n",
       "    </tr>\n",
       "    <tr>\n",
       "      <th>75%</th>\n",
       "      <td>1.474461e+09</td>\n",
       "      <td>4.441012e+18</td>\n",
       "      <td>3.766319e+18</td>\n",
       "    </tr>\n",
       "    <tr>\n",
       "      <th>max</th>\n",
       "      <td>1.488310e+09</td>\n",
       "      <td>9.222265e+18</td>\n",
       "      <td>9.210531e+18</td>\n",
       "    </tr>\n",
       "  </tbody>\n",
       "</table>\n",
       "</div>"
      ],
      "text/plain": [
       "       event_timestamp       item_id   consumer_id\n",
       "count     7.231200e+04  7.231200e+04  7.231200e+04\n",
       "mean      1.470103e+09 -3.033423e+16  1.252026e+16\n",
       "std       7.258130e+06  5.344755e+18  5.022333e+18\n",
       "min       1.457964e+09 -9.222795e+18 -9.223122e+18\n",
       "25%       1.464876e+09 -4.726309e+18 -3.596627e+18\n",
       "50%       1.468343e+09  1.893099e+16 -1.088422e+17\n",
       "75%       1.474461e+09  4.441012e+18  3.766319e+18\n",
       "max       1.488310e+09  9.222265e+18  9.210531e+18"
      ]
     },
     "execution_count": 7,
     "metadata": {},
     "output_type": "execute_result"
    }
   ],
   "source": [
    "user_data.describe()"
   ]
  },
  {
   "cell_type": "code",
   "execution_count": 8,
   "id": "71e70b9a",
   "metadata": {
    "id": "71e70b9a"
   },
   "outputs": [
    {
     "data": {
      "text/plain": [
       "(72312, 8)"
      ]
     },
     "execution_count": 8,
     "metadata": {},
     "output_type": "execute_result"
    }
   ],
   "source": [
    "user_data.shape"
   ]
  },
  {
   "cell_type": "code",
   "execution_count": 9,
   "id": "7b7f11b1",
   "metadata": {
    "id": "7b7f11b1"
   },
   "outputs": [
    {
     "data": {
      "text/html": [
       "<div>\n",
       "<style scoped>\n",
       "    .dataframe tbody tr th:only-of-type {\n",
       "        vertical-align: middle;\n",
       "    }\n",
       "\n",
       "    .dataframe tbody tr th {\n",
       "        vertical-align: top;\n",
       "    }\n",
       "\n",
       "    .dataframe thead th {\n",
       "        text-align: right;\n",
       "    }\n",
       "</style>\n",
       "<table border=\"1\" class=\"dataframe\">\n",
       "  <thead>\n",
       "    <tr style=\"text-align: right;\">\n",
       "      <th></th>\n",
       "      <th>event_timestamp</th>\n",
       "      <th>interaction_type</th>\n",
       "      <th>item_id</th>\n",
       "      <th>producer_id</th>\n",
       "      <th>producer_session_id</th>\n",
       "      <th>producer_device_info</th>\n",
       "      <th>producer_location</th>\n",
       "      <th>producer_country</th>\n",
       "      <th>item_type</th>\n",
       "      <th>item_url</th>\n",
       "      <th>title</th>\n",
       "      <th>text_description</th>\n",
       "      <th>language</th>\n",
       "    </tr>\n",
       "  </thead>\n",
       "  <tbody>\n",
       "    <tr>\n",
       "      <th>0</th>\n",
       "      <td>1459192779</td>\n",
       "      <td>content_pulled_out</td>\n",
       "      <td>-6451309518266745024</td>\n",
       "      <td>4340306774493623681</td>\n",
       "      <td>8940341205206233829</td>\n",
       "      <td>NaN</td>\n",
       "      <td>NaN</td>\n",
       "      <td>NaN</td>\n",
       "      <td>HTML</td>\n",
       "      <td>http://www.nytimes.com/2016/03/28/business/dea...</td>\n",
       "      <td>Ethereum, a Virtual Currency, Enables Transact...</td>\n",
       "      <td>All of this work is still very early. The firs...</td>\n",
       "      <td>en</td>\n",
       "    </tr>\n",
       "    <tr>\n",
       "      <th>1</th>\n",
       "      <td>1459193988</td>\n",
       "      <td>content_present</td>\n",
       "      <td>-4110354420726924665</td>\n",
       "      <td>4340306774493623681</td>\n",
       "      <td>8940341205206233829</td>\n",
       "      <td>NaN</td>\n",
       "      <td>NaN</td>\n",
       "      <td>NaN</td>\n",
       "      <td>HTML</td>\n",
       "      <td>http://www.nytimes.com/2016/03/28/business/dea...</td>\n",
       "      <td>Ethereum, a Virtual Currency, Enables Transact...</td>\n",
       "      <td>All of this work is still very early. The firs...</td>\n",
       "      <td>en</td>\n",
       "    </tr>\n",
       "    <tr>\n",
       "      <th>2</th>\n",
       "      <td>1459194146</td>\n",
       "      <td>content_present</td>\n",
       "      <td>-7292285110016212249</td>\n",
       "      <td>4340306774493623681</td>\n",
       "      <td>8940341205206233829</td>\n",
       "      <td>NaN</td>\n",
       "      <td>NaN</td>\n",
       "      <td>NaN</td>\n",
       "      <td>HTML</td>\n",
       "      <td>http://cointelegraph.com/news/bitcoin-future-w...</td>\n",
       "      <td>Bitcoin Future: When GBPcoin of Branson Wins O...</td>\n",
       "      <td>The alarm clock wakes me at 8:00 with stream o...</td>\n",
       "      <td>en</td>\n",
       "    </tr>\n",
       "    <tr>\n",
       "      <th>3</th>\n",
       "      <td>1459194474</td>\n",
       "      <td>content_present</td>\n",
       "      <td>-6151852268067518688</td>\n",
       "      <td>3891637997717104548</td>\n",
       "      <td>-1457532940883382585</td>\n",
       "      <td>NaN</td>\n",
       "      <td>NaN</td>\n",
       "      <td>NaN</td>\n",
       "      <td>HTML</td>\n",
       "      <td>https://cloudplatform.googleblog.com/2016/03/G...</td>\n",
       "      <td>Google Data Center 360° Tour</td>\n",
       "      <td>We're excited to share the Google Data Center ...</td>\n",
       "      <td>en</td>\n",
       "    </tr>\n",
       "    <tr>\n",
       "      <th>4</th>\n",
       "      <td>1459194497</td>\n",
       "      <td>content_present</td>\n",
       "      <td>2448026894306402386</td>\n",
       "      <td>4340306774493623681</td>\n",
       "      <td>8940341205206233829</td>\n",
       "      <td>NaN</td>\n",
       "      <td>NaN</td>\n",
       "      <td>NaN</td>\n",
       "      <td>HTML</td>\n",
       "      <td>https://bitcoinmagazine.com/articles/ibm-wants...</td>\n",
       "      <td>IBM Wants to \"Evolve the Internet\" With Blockc...</td>\n",
       "      <td>The Aite Group projects the blockchain market ...</td>\n",
       "      <td>en</td>\n",
       "    </tr>\n",
       "  </tbody>\n",
       "</table>\n",
       "</div>"
      ],
      "text/plain": [
       "   event_timestamp    interaction_type              item_id  \\\n",
       "0       1459192779  content_pulled_out -6451309518266745024   \n",
       "1       1459193988     content_present -4110354420726924665   \n",
       "2       1459194146     content_present -7292285110016212249   \n",
       "3       1459194474     content_present -6151852268067518688   \n",
       "4       1459194497     content_present  2448026894306402386   \n",
       "\n",
       "           producer_id  producer_session_id producer_device_info  \\\n",
       "0  4340306774493623681  8940341205206233829                  NaN   \n",
       "1  4340306774493623681  8940341205206233829                  NaN   \n",
       "2  4340306774493623681  8940341205206233829                  NaN   \n",
       "3  3891637997717104548 -1457532940883382585                  NaN   \n",
       "4  4340306774493623681  8940341205206233829                  NaN   \n",
       "\n",
       "  producer_location producer_country item_type  \\\n",
       "0               NaN              NaN      HTML   \n",
       "1               NaN              NaN      HTML   \n",
       "2               NaN              NaN      HTML   \n",
       "3               NaN              NaN      HTML   \n",
       "4               NaN              NaN      HTML   \n",
       "\n",
       "                                            item_url  \\\n",
       "0  http://www.nytimes.com/2016/03/28/business/dea...   \n",
       "1  http://www.nytimes.com/2016/03/28/business/dea...   \n",
       "2  http://cointelegraph.com/news/bitcoin-future-w...   \n",
       "3  https://cloudplatform.googleblog.com/2016/03/G...   \n",
       "4  https://bitcoinmagazine.com/articles/ibm-wants...   \n",
       "\n",
       "                                               title  \\\n",
       "0  Ethereum, a Virtual Currency, Enables Transact...   \n",
       "1  Ethereum, a Virtual Currency, Enables Transact...   \n",
       "2  Bitcoin Future: When GBPcoin of Branson Wins O...   \n",
       "3                       Google Data Center 360° Tour   \n",
       "4  IBM Wants to \"Evolve the Internet\" With Blockc...   \n",
       "\n",
       "                                    text_description language  \n",
       "0  All of this work is still very early. The firs...       en  \n",
       "1  All of this work is still very early. The firs...       en  \n",
       "2  The alarm clock wakes me at 8:00 with stream o...       en  \n",
       "3  We're excited to share the Google Data Center ...       en  \n",
       "4  The Aite Group projects the blockchain market ...       en  "
      ]
     },
     "execution_count": 9,
     "metadata": {},
     "output_type": "execute_result"
    }
   ],
   "source": [
    "item_data.head()"
   ]
  },
  {
   "cell_type": "code",
   "execution_count": 10,
   "id": "b299131b",
   "metadata": {
    "id": "b299131b"
   },
   "outputs": [
    {
     "name": "stdout",
     "output_type": "stream",
     "text": [
      "<class 'pandas.core.frame.DataFrame'>\n",
      "RangeIndex: 3122 entries, 0 to 3121\n",
      "Data columns (total 13 columns):\n",
      " #   Column                Non-Null Count  Dtype \n",
      "---  ------                --------------  ----- \n",
      " 0   event_timestamp       3122 non-null   int64 \n",
      " 1   interaction_type      3122 non-null   object\n",
      " 2   item_id               3122 non-null   int64 \n",
      " 3   producer_id           3122 non-null   int64 \n",
      " 4   producer_session_id   3122 non-null   int64 \n",
      " 5   producer_device_info  680 non-null    object\n",
      " 6   producer_location     680 non-null    object\n",
      " 7   producer_country      680 non-null    object\n",
      " 8   item_type             3122 non-null   object\n",
      " 9   item_url              3122 non-null   object\n",
      " 10  title                 3122 non-null   object\n",
      " 11  text_description      3122 non-null   object\n",
      " 12  language              3122 non-null   object\n",
      "dtypes: int64(4), object(9)\n",
      "memory usage: 317.2+ KB\n"
     ]
    }
   ],
   "source": [
    "item_data.info()"
   ]
  },
  {
   "cell_type": "code",
   "execution_count": 11,
   "id": "c0f1599c",
   "metadata": {
    "id": "c0f1599c"
   },
   "outputs": [
    {
     "data": {
      "text/html": [
       "<div>\n",
       "<style scoped>\n",
       "    .dataframe tbody tr th:only-of-type {\n",
       "        vertical-align: middle;\n",
       "    }\n",
       "\n",
       "    .dataframe tbody tr th {\n",
       "        vertical-align: top;\n",
       "    }\n",
       "\n",
       "    .dataframe thead th {\n",
       "        text-align: right;\n",
       "    }\n",
       "</style>\n",
       "<table border=\"1\" class=\"dataframe\">\n",
       "  <thead>\n",
       "    <tr style=\"text-align: right;\">\n",
       "      <th></th>\n",
       "      <th>event_timestamp</th>\n",
       "      <th>item_id</th>\n",
       "      <th>producer_id</th>\n",
       "      <th>producer_session_id</th>\n",
       "    </tr>\n",
       "  </thead>\n",
       "  <tbody>\n",
       "    <tr>\n",
       "      <th>count</th>\n",
       "      <td>3.122000e+03</td>\n",
       "      <td>3.122000e+03</td>\n",
       "      <td>3.122000e+03</td>\n",
       "      <td>3.122000e+03</td>\n",
       "    </tr>\n",
       "    <tr>\n",
       "      <th>mean</th>\n",
       "      <td>1.468804e+09</td>\n",
       "      <td>3.284110e+16</td>\n",
       "      <td>3.984819e+17</td>\n",
       "      <td>1.976675e+17</td>\n",
       "    </tr>\n",
       "    <tr>\n",
       "      <th>std</th>\n",
       "      <td>7.571512e+06</td>\n",
       "      <td>5.383734e+18</td>\n",
       "      <td>4.387115e+18</td>\n",
       "      <td>5.403753e+18</td>\n",
       "    </tr>\n",
       "    <tr>\n",
       "      <th>min</th>\n",
       "      <td>1.459193e+09</td>\n",
       "      <td>-9.222795e+18</td>\n",
       "      <td>-9.120686e+18</td>\n",
       "      <td>-9.212055e+18</td>\n",
       "    </tr>\n",
       "    <tr>\n",
       "      <th>25%</th>\n",
       "      <td>1.462369e+09</td>\n",
       "      <td>-4.660869e+18</td>\n",
       "      <td>-1.578288e+18</td>\n",
       "      <td>-4.651280e+18</td>\n",
       "    </tr>\n",
       "    <tr>\n",
       "      <th>50%</th>\n",
       "      <td>1.467136e+09</td>\n",
       "      <td>4.436584e+16</td>\n",
       "      <td>-7.092877e+17</td>\n",
       "      <td>4.154103e+17</td>\n",
       "    </tr>\n",
       "    <tr>\n",
       "      <th>75%</th>\n",
       "      <td>1.473873e+09</td>\n",
       "      <td>4.745617e+18</td>\n",
       "      <td>3.609194e+18</td>\n",
       "      <td>4.841644e+18</td>\n",
       "    </tr>\n",
       "    <tr>\n",
       "      <th>max</th>\n",
       "      <td>1.488308e+09</td>\n",
       "      <td>9.222265e+18</td>\n",
       "      <td>9.210531e+18</td>\n",
       "      <td>9.221043e+18</td>\n",
       "    </tr>\n",
       "  </tbody>\n",
       "</table>\n",
       "</div>"
      ],
      "text/plain": [
       "       event_timestamp       item_id   producer_id  producer_session_id\n",
       "count     3.122000e+03  3.122000e+03  3.122000e+03         3.122000e+03\n",
       "mean      1.468804e+09  3.284110e+16  3.984819e+17         1.976675e+17\n",
       "std       7.571512e+06  5.383734e+18  4.387115e+18         5.403753e+18\n",
       "min       1.459193e+09 -9.222795e+18 -9.120686e+18        -9.212055e+18\n",
       "25%       1.462369e+09 -4.660869e+18 -1.578288e+18        -4.651280e+18\n",
       "50%       1.467136e+09  4.436584e+16 -7.092877e+17         4.154103e+17\n",
       "75%       1.473873e+09  4.745617e+18  3.609194e+18         4.841644e+18\n",
       "max       1.488308e+09  9.222265e+18  9.210531e+18         9.221043e+18"
      ]
     },
     "execution_count": 11,
     "metadata": {},
     "output_type": "execute_result"
    }
   ],
   "source": [
    "item_data.describe()"
   ]
  },
  {
   "cell_type": "code",
   "execution_count": 12,
   "id": "cd29c849",
   "metadata": {
    "id": "cd29c849"
   },
   "outputs": [
    {
     "data": {
      "text/plain": [
       "(3122, 13)"
      ]
     },
     "execution_count": 12,
     "metadata": {},
     "output_type": "execute_result"
    }
   ],
   "source": [
    "item_data.shape"
   ]
  },
  {
   "cell_type": "markdown",
   "id": "60603e7e",
   "metadata": {
    "id": "60603e7e"
   },
   "source": [
    "### Exploratory Data Analysis"
   ]
  },
  {
   "cell_type": "markdown",
   "id": "214bd1e6",
   "metadata": {
    "id": "214bd1e6"
   },
   "source": [
    "#### For consumer_transaction data"
   ]
  },
  {
   "cell_type": "code",
   "execution_count": 13,
   "id": "01fdd16f",
   "metadata": {
    "id": "01fdd16f"
   },
   "outputs": [
    {
     "name": "stdout",
     "output_type": "stream",
     "text": [
      "No. of unique Item IDs - 2987\n",
      "No. of unique Consumer IDs - 1895\n",
      "No. of unique Consumer Session IDs - 28909\n"
     ]
    }
   ],
   "source": [
    "# Insights\n",
    "\n",
    "print('No. of unique Item IDs - ' + str(user_data['item_id'].nunique()))\n",
    "print('No. of unique Consumer IDs - ' + str(user_data['consumer_id'].nunique()))\n",
    "print('No. of unique Consumer Session IDs - ' + str(user_data.consumer_session_id.nunique()))"
   ]
  },
  {
   "cell_type": "code",
   "execution_count": 14,
   "id": "6e148582",
   "metadata": {
    "id": "6e148582"
   },
   "outputs": [
    {
     "data": {
      "text/plain": [
       "Android - Native Mobile App                                                                                                                          6761\n",
       "Mozilla/5.0 (Windows NT 10.0; WOW64) AppleWebKit/537.36 (KHTML, like Gecko) Chrome/51.0.2704.103 Safari/537.36                                       1823\n",
       "Mozilla/5.0 (Windows NT 10.0; WOW64) AppleWebKit/537.36 (KHTML, like Gecko) Chrome/52.0.2743.116 Safari/537.36                                       1146\n",
       "Mozilla/5.0 (X11; Linux x86_64) AppleWebKit/537.36 (KHTML, like Gecko) Chrome/52.0.2743.116 Safari/537.36                                            1076\n",
       "Mozilla/5.0 (Windows NT 6.1; WOW64) AppleWebKit/537.36 (KHTML, like Gecko) Chrome/51.0.2704.103 Safari/537.36                                        1059\n",
       "                                                                                                                                                     ... \n",
       "Mozilla/5.0 (Windows NT 6.1; WOW64) AppleWebKit/537.36 (KHTML, like Gecko) Chrome/54.0.2832.2 Safari/537.36                                             1\n",
       "Mozilla/5.0 (Macintosh; Intel Mac OS X 10_11_6) AppleWebKit/537.36 (KHTML, like Gecko) Chrome/48.0.2564.48 Safari/537.36                                1\n",
       "Mozilla/5.0 (Macintosh; Intel Mac OS X 10_11_6) AppleWebKit/537.36 (KHTML, like Gecko) Chrome/53.0.2785.46 Safari/537.36                                1\n",
       "Mozilla/5.0 (Windows NT 6.1; Win64; x64) AppleWebKit/537.36 (KHTML, like Gecko) Chrome/53.0.2785.46 Safari/537.36                                       1\n",
       "Mozilla/5.0 (Linux; Android 6.0.1; SAMSUNG-SM-N920A Build/MMB29K) AppleWebKit/537.36 (KHTML, like Gecko) Chrome/55.0.2883.91 Mobile Safari/537.36       1\n",
       "Name: consumer_device_info, Length: 1090, dtype: int64"
      ]
     },
     "execution_count": 14,
     "metadata": {},
     "output_type": "execute_result"
    }
   ],
   "source": [
    "# Consumer Device\n",
    "\n",
    "user_data.consumer_device_info.value_counts()"
   ]
  },
  {
   "cell_type": "code",
   "execution_count": 15,
   "id": "a147417f",
   "metadata": {
    "id": "a147417f"
   },
   "outputs": [
    {
     "data": {
      "text/plain": [
       "15394"
      ]
     },
     "execution_count": 15,
     "metadata": {},
     "output_type": "execute_result"
    }
   ],
   "source": [
    "sum(user_data.consumer_device_info.isna())"
   ]
  },
  {
   "cell_type": "code",
   "execution_count": 16,
   "id": "6b1fb106",
   "metadata": {
    "id": "6b1fb106"
   },
   "outputs": [
    {
     "data": {
      "text/plain": [
       "SP     40164\n",
       "NaN    15405\n",
       "MG     10229\n",
       "NY      1257\n",
       "TX       923\n",
       "       ...  \n",
       "R          1\n",
       "CE         1\n",
       "NH         1\n",
       "MN         1\n",
       "CL         1\n",
       "Name: consumer_location, Length: 72, dtype: int64"
      ]
     },
     "execution_count": 16,
     "metadata": {},
     "output_type": "execute_result"
    }
   ],
   "source": [
    "# Consumer Location\n",
    "\n",
    "user_data.consumer_location.value_counts(dropna= False)"
   ]
  },
  {
   "cell_type": "code",
   "execution_count": 17,
   "id": "f83e4b14",
   "metadata": {
    "id": "f83e4b14"
   },
   "outputs": [],
   "source": [
    "# Consumer Country\n",
    "\n",
    "geo_stats = user_data.country.value_counts(normalize= True, dropna= False)*100"
   ]
  },
  {
   "cell_type": "code",
   "execution_count": 18,
   "id": "b1b28218",
   "metadata": {
    "id": "b1b28218"
   },
   "outputs": [],
   "source": [
    "geo_stats = pd.DataFrame(geo_stats).reset_index()"
   ]
  },
  {
   "cell_type": "code",
   "execution_count": 19,
   "id": "7490390c",
   "metadata": {
    "id": "7490390c"
   },
   "outputs": [],
   "source": [
    "geo_stats.columns = ['Country', 'Values']"
   ]
  },
  {
   "cell_type": "code",
   "execution_count": 20,
   "id": "8ec726e8",
   "metadata": {
    "id": "8ec726e8"
   },
   "outputs": [
    {
     "data": {
      "text/html": [
       "<div>\n",
       "<style scoped>\n",
       "    .dataframe tbody tr th:only-of-type {\n",
       "        vertical-align: middle;\n",
       "    }\n",
       "\n",
       "    .dataframe tbody tr th {\n",
       "        vertical-align: top;\n",
       "    }\n",
       "\n",
       "    .dataframe thead th {\n",
       "        text-align: right;\n",
       "    }\n",
       "</style>\n",
       "<table border=\"1\" class=\"dataframe\">\n",
       "  <thead>\n",
       "    <tr style=\"text-align: right;\">\n",
       "      <th></th>\n",
       "      <th>Country</th>\n",
       "      <th>Values</th>\n",
       "    </tr>\n",
       "  </thead>\n",
       "  <tbody>\n",
       "    <tr>\n",
       "      <th>0</th>\n",
       "      <td>BR</td>\n",
       "      <td>71.075340</td>\n",
       "    </tr>\n",
       "    <tr>\n",
       "      <th>1</th>\n",
       "      <td>NaN</td>\n",
       "      <td>21.288306</td>\n",
       "    </tr>\n",
       "    <tr>\n",
       "      <th>2</th>\n",
       "      <td>US</td>\n",
       "      <td>6.440148</td>\n",
       "    </tr>\n",
       "    <tr>\n",
       "      <th>3</th>\n",
       "      <td>KR</td>\n",
       "      <td>0.330512</td>\n",
       "    </tr>\n",
       "    <tr>\n",
       "      <th>4</th>\n",
       "      <td>CA</td>\n",
       "      <td>0.312535</td>\n",
       "    </tr>\n",
       "    <tr>\n",
       "      <th>5</th>\n",
       "      <td>JP</td>\n",
       "      <td>0.199137</td>\n",
       "    </tr>\n",
       "    <tr>\n",
       "      <th>6</th>\n",
       "      <td>AU</td>\n",
       "      <td>0.190840</td>\n",
       "    </tr>\n",
       "    <tr>\n",
       "      <th>7</th>\n",
       "      <td>GB</td>\n",
       "      <td>0.030424</td>\n",
       "    </tr>\n",
       "    <tr>\n",
       "      <th>8</th>\n",
       "      <td>DE</td>\n",
       "      <td>0.026275</td>\n",
       "    </tr>\n",
       "    <tr>\n",
       "      <th>9</th>\n",
       "      <td>IE</td>\n",
       "      <td>0.019361</td>\n",
       "    </tr>\n",
       "    <tr>\n",
       "      <th>10</th>\n",
       "      <td>IS</td>\n",
       "      <td>0.017978</td>\n",
       "    </tr>\n",
       "    <tr>\n",
       "      <th>11</th>\n",
       "      <td>ZZ</td>\n",
       "      <td>0.015212</td>\n",
       "    </tr>\n",
       "    <tr>\n",
       "      <th>12</th>\n",
       "      <td>SG</td>\n",
       "      <td>0.015212</td>\n",
       "    </tr>\n",
       "    <tr>\n",
       "      <th>13</th>\n",
       "      <td>AR</td>\n",
       "      <td>0.009680</td>\n",
       "    </tr>\n",
       "    <tr>\n",
       "      <th>14</th>\n",
       "      <td>PT</td>\n",
       "      <td>0.008297</td>\n",
       "    </tr>\n",
       "    <tr>\n",
       "      <th>15</th>\n",
       "      <td>ES</td>\n",
       "      <td>0.004149</td>\n",
       "    </tr>\n",
       "    <tr>\n",
       "      <th>16</th>\n",
       "      <td>IN</td>\n",
       "      <td>0.004149</td>\n",
       "    </tr>\n",
       "    <tr>\n",
       "      <th>17</th>\n",
       "      <td>MY</td>\n",
       "      <td>0.002766</td>\n",
       "    </tr>\n",
       "    <tr>\n",
       "      <th>18</th>\n",
       "      <td>IT</td>\n",
       "      <td>0.002766</td>\n",
       "    </tr>\n",
       "    <tr>\n",
       "      <th>19</th>\n",
       "      <td>CN</td>\n",
       "      <td>0.001383</td>\n",
       "    </tr>\n",
       "    <tr>\n",
       "      <th>20</th>\n",
       "      <td>NL</td>\n",
       "      <td>0.001383</td>\n",
       "    </tr>\n",
       "    <tr>\n",
       "      <th>21</th>\n",
       "      <td>CL</td>\n",
       "      <td>0.001383</td>\n",
       "    </tr>\n",
       "    <tr>\n",
       "      <th>22</th>\n",
       "      <td>CO</td>\n",
       "      <td>0.001383</td>\n",
       "    </tr>\n",
       "    <tr>\n",
       "      <th>23</th>\n",
       "      <td>CH</td>\n",
       "      <td>0.001383</td>\n",
       "    </tr>\n",
       "  </tbody>\n",
       "</table>\n",
       "</div>"
      ],
      "text/plain": [
       "   Country     Values\n",
       "0       BR  71.075340\n",
       "1      NaN  21.288306\n",
       "2       US   6.440148\n",
       "3       KR   0.330512\n",
       "4       CA   0.312535\n",
       "5       JP   0.199137\n",
       "6       AU   0.190840\n",
       "7       GB   0.030424\n",
       "8       DE   0.026275\n",
       "9       IE   0.019361\n",
       "10      IS   0.017978\n",
       "11      ZZ   0.015212\n",
       "12      SG   0.015212\n",
       "13      AR   0.009680\n",
       "14      PT   0.008297\n",
       "15      ES   0.004149\n",
       "16      IN   0.004149\n",
       "17      MY   0.002766\n",
       "18      IT   0.002766\n",
       "19      CN   0.001383\n",
       "20      NL   0.001383\n",
       "21      CL   0.001383\n",
       "22      CO   0.001383\n",
       "23      CH   0.001383"
      ]
     },
     "execution_count": 20,
     "metadata": {},
     "output_type": "execute_result"
    }
   ],
   "source": [
    "geo_stats"
   ]
  },
  {
   "cell_type": "code",
   "execution_count": 21,
   "id": "1ac7e7de",
   "metadata": {
    "id": "1ac7e7de"
   },
   "outputs": [
    {
     "data": {
      "text/plain": [
       "<AxesSubplot:>"
      ]
     },
     "execution_count": 21,
     "metadata": {},
     "output_type": "execute_result"
    },
    {
     "data": {
      "image/png": "[encoded data removed]",
      "text/plain": [
       "<Figure size 640x480 with 1 Axes>"
      ]
     },
     "metadata": {},
     "output_type": "display_data"
    }
   ],
   "source": [
    "geo_stats.plot()"
   ]
  },
  {
   "cell_type": "code",
   "execution_count": 22,
   "id": "5c0909fb",
   "metadata": {
    "id": "5c0909fb"
   },
   "outputs": [],
   "source": [
    "# Lets remove the coloumns less usefull\n",
    "\n",
    "user_data = user_data[['consumer_id' , 'item_id', 'interaction_type']]"
   ]
  },
  {
   "cell_type": "code",
   "execution_count": 23,
   "id": "02d879de",
   "metadata": {
    "id": "02d879de"
   },
   "outputs": [
    {
     "data": {
      "text/html": [
       "<div>\n",
       "<style scoped>\n",
       "    .dataframe tbody tr th:only-of-type {\n",
       "        vertical-align: middle;\n",
       "    }\n",
       "\n",
       "    .dataframe tbody tr th {\n",
       "        vertical-align: top;\n",
       "    }\n",
       "\n",
       "    .dataframe thead th {\n",
       "        text-align: right;\n",
       "    }\n",
       "</style>\n",
       "<table border=\"1\" class=\"dataframe\">\n",
       "  <thead>\n",
       "    <tr style=\"text-align: right;\">\n",
       "      <th></th>\n",
       "      <th>consumer_id</th>\n",
       "      <th>item_id</th>\n",
       "      <th>interaction_type</th>\n",
       "    </tr>\n",
       "  </thead>\n",
       "  <tbody>\n",
       "    <tr>\n",
       "      <th>0</th>\n",
       "      <td>-8845298781299428018</td>\n",
       "      <td>-3499919498720038879</td>\n",
       "      <td>content_watched</td>\n",
       "    </tr>\n",
       "    <tr>\n",
       "      <th>1</th>\n",
       "      <td>-1032019229384696495</td>\n",
       "      <td>8890720798209849691</td>\n",
       "      <td>content_watched</td>\n",
       "    </tr>\n",
       "    <tr>\n",
       "      <th>2</th>\n",
       "      <td>-1130272294246983140</td>\n",
       "      <td>310515487419366995</td>\n",
       "      <td>content_watched</td>\n",
       "    </tr>\n",
       "    <tr>\n",
       "      <th>3</th>\n",
       "      <td>344280948527967603</td>\n",
       "      <td>310515487419366995</td>\n",
       "      <td>content_followed</td>\n",
       "    </tr>\n",
       "    <tr>\n",
       "      <th>4</th>\n",
       "      <td>-445337111692715325</td>\n",
       "      <td>-7820640624231356730</td>\n",
       "      <td>content_watched</td>\n",
       "    </tr>\n",
       "  </tbody>\n",
       "</table>\n",
       "</div>"
      ],
      "text/plain": [
       "           consumer_id              item_id  interaction_type\n",
       "0 -8845298781299428018 -3499919498720038879   content_watched\n",
       "1 -1032019229384696495  8890720798209849691   content_watched\n",
       "2 -1130272294246983140   310515487419366995   content_watched\n",
       "3   344280948527967603   310515487419366995  content_followed\n",
       "4  -445337111692715325 -7820640624231356730   content_watched"
      ]
     },
     "execution_count": 23,
     "metadata": {},
     "output_type": "execute_result"
    }
   ],
   "source": [
    "user_data.head()"
   ]
  },
  {
   "cell_type": "code",
   "execution_count": 24,
   "id": "66d290db",
   "metadata": {
    "id": "66d290db"
   },
   "outputs": [
    {
     "data": {
      "text/plain": [
       "content_watched         61086\n",
       "content_liked            5745\n",
       "content_saved            2463\n",
       "content_commented_on     1611\n",
       "content_followed         1407\n",
       "Name: interaction_type, dtype: int64"
      ]
     },
     "execution_count": 24,
     "metadata": {},
     "output_type": "execute_result"
    }
   ],
   "source": [
    "# Interaction type\n",
    "\n",
    "user_data.interaction_type.value_counts(dropna= False)"
   ]
  },
  {
   "cell_type": "code",
   "execution_count": 25,
   "id": "8897417d",
   "metadata": {
    "id": "8897417d"
   },
   "outputs": [
    {
     "data": {
      "text/html": [
       "<div>\n",
       "<style scoped>\n",
       "    .dataframe tbody tr th:only-of-type {\n",
       "        vertical-align: middle;\n",
       "    }\n",
       "\n",
       "    .dataframe tbody tr th {\n",
       "        vertical-align: top;\n",
       "    }\n",
       "\n",
       "    .dataframe thead th {\n",
       "        text-align: right;\n",
       "    }\n",
       "</style>\n",
       "<table border=\"1\" class=\"dataframe\">\n",
       "  <thead>\n",
       "    <tr style=\"text-align: right;\">\n",
       "      <th></th>\n",
       "      <th>Interaction Type</th>\n",
       "      <th>Values</th>\n",
       "    </tr>\n",
       "  </thead>\n",
       "  <tbody>\n",
       "    <tr>\n",
       "      <th>0</th>\n",
       "      <td>content_watched</td>\n",
       "      <td>84.475606</td>\n",
       "    </tr>\n",
       "    <tr>\n",
       "      <th>1</th>\n",
       "      <td>content_liked</td>\n",
       "      <td>7.944739</td>\n",
       "    </tr>\n",
       "    <tr>\n",
       "      <th>2</th>\n",
       "      <td>content_saved</td>\n",
       "      <td>3.406074</td>\n",
       "    </tr>\n",
       "    <tr>\n",
       "      <th>3</th>\n",
       "      <td>content_commented_on</td>\n",
       "      <td>2.227846</td>\n",
       "    </tr>\n",
       "    <tr>\n",
       "      <th>4</th>\n",
       "      <td>content_followed</td>\n",
       "      <td>1.945735</td>\n",
       "    </tr>\n",
       "  </tbody>\n",
       "</table>\n",
       "</div>"
      ],
      "text/plain": [
       "       Interaction Type     Values\n",
       "0       content_watched  84.475606\n",
       "1         content_liked   7.944739\n",
       "2         content_saved   3.406074\n",
       "3  content_commented_on   2.227846\n",
       "4      content_followed   1.945735"
      ]
     },
     "execution_count": 25,
     "metadata": {},
     "output_type": "execute_result"
    }
   ],
   "source": [
    "interaction_stats = user_data.interaction_type.value_counts(normalize=True, dropna=False)*100\n",
    "interaction_stats = pd.DataFrame(interaction_stats).reset_index()\n",
    "interaction_stats.columns = ['Interaction Type', 'Values']\n",
    "interaction_stats"
   ]
  },
  {
   "cell_type": "code",
   "execution_count": 26,
   "id": "a3ce965f",
   "metadata": {
    "id": "a3ce965f"
   },
   "outputs": [
    {
     "data": {
      "image/png": "[encoded data removed]",
      "text/plain": [
       "<Figure size 800x600 with 1 Axes>"
      ]
     },
     "metadata": {},
     "output_type": "display_data"
    }
   ],
   "source": [
    "# Catgorize interaction type to arrive at ratings\n",
    "plt.figure(figsize=(8,6))\n",
    "plt.xticks(rotation=75)\n",
    "plt.bar(x = interaction_stats['Interaction Type'], height=interaction_stats.Values)\n",
    "plt.title('Interaction Type')\n",
    "plt.show()"
   ]
  },
  {
   "cell_type": "markdown",
   "id": "f77c4c2e",
   "metadata": {
    "id": "f77c4c2e"
   },
   "source": [
    "#### For platform_content data"
   ]
  },
  {
   "cell_type": "code",
   "execution_count": 27,
   "id": "2399c2be",
   "metadata": {
    "id": "2399c2be"
   },
   "outputs": [
    {
     "data": {
      "text/plain": [
       "NaN    2442\n",
       "SP      533\n",
       "MG       75\n",
       "NY       20\n",
       "NJ       16\n",
       "GA        7\n",
       "IL        6\n",
       "RJ        4\n",
       "ON        4\n",
       "NSW       2\n",
       "TX        2\n",
       "?         2\n",
       "SC        2\n",
       "RI        1\n",
       "AB        1\n",
       "FL        1\n",
       "13        1\n",
       "WA        1\n",
       "CA        1\n",
       "MS        1\n",
       "Name: producer_location, dtype: int64"
      ]
     },
     "execution_count": 27,
     "metadata": {},
     "output_type": "execute_result"
    }
   ],
   "source": [
    "# Producer Location\n",
    "\n",
    "item_data.producer_location.value_counts(dropna=False)"
   ]
  },
  {
   "cell_type": "code",
   "execution_count": 28,
   "id": "67a25af9",
   "metadata": {
    "id": "67a25af9"
   },
   "outputs": [
    {
     "data": {
      "text/html": [
       "<div>\n",
       "<style scoped>\n",
       "    .dataframe tbody tr th:only-of-type {\n",
       "        vertical-align: middle;\n",
       "    }\n",
       "\n",
       "    .dataframe tbody tr th {\n",
       "        vertical-align: top;\n",
       "    }\n",
       "\n",
       "    .dataframe thead th {\n",
       "        text-align: right;\n",
       "    }\n",
       "</style>\n",
       "<table border=\"1\" class=\"dataframe\">\n",
       "  <thead>\n",
       "    <tr style=\"text-align: right;\">\n",
       "      <th></th>\n",
       "      <th>event_timestamp</th>\n",
       "      <th>interaction_type</th>\n",
       "      <th>item_id</th>\n",
       "      <th>producer_id</th>\n",
       "      <th>producer_session_id</th>\n",
       "      <th>producer_device_info</th>\n",
       "      <th>producer_location</th>\n",
       "      <th>producer_country</th>\n",
       "      <th>item_type</th>\n",
       "      <th>item_url</th>\n",
       "      <th>title</th>\n",
       "      <th>text_description</th>\n",
       "      <th>language</th>\n",
       "    </tr>\n",
       "  </thead>\n",
       "  <tbody>\n",
       "    <tr>\n",
       "      <th>2968</th>\n",
       "      <td>1484666440</td>\n",
       "      <td>content_present</td>\n",
       "      <td>5135371516547401748</td>\n",
       "      <td>2416280733544962613</td>\n",
       "      <td>5817055449267712130</td>\n",
       "      <td>Mozilla/5.0 (Macintosh; Intel Mac OS X 10_11_6...</td>\n",
       "      <td>?</td>\n",
       "      <td>US</td>\n",
       "      <td>HTML</td>\n",
       "      <td>http://buytaert.net/acquia-retrospective-2016</td>\n",
       "      <td>Dries Buytaert</td>\n",
       "      <td>As my loyal blog readers know, at the beginnin...</td>\n",
       "      <td>en</td>\n",
       "    </tr>\n",
       "    <tr>\n",
       "      <th>3006</th>\n",
       "      <td>1485316870</td>\n",
       "      <td>content_present</td>\n",
       "      <td>-3900870368325485697</td>\n",
       "      <td>-2726721797588771398</td>\n",
       "      <td>-1022963948596515475</td>\n",
       "      <td>Mozilla/5.0 (Macintosh; Intel Mac OS X 10_12_2...</td>\n",
       "      <td>?</td>\n",
       "      <td>US</td>\n",
       "      <td>HTML</td>\n",
       "      <td>http://www.cmswire.com/digital-experience/adob...</td>\n",
       "      <td>Adobe, Acquia, Episerver Lead New Forrester WC...</td>\n",
       "      <td>Forrester's WCM Wave favors Adobe, Acquia and ...</td>\n",
       "      <td>en</td>\n",
       "    </tr>\n",
       "  </tbody>\n",
       "</table>\n",
       "</div>"
      ],
      "text/plain": [
       "      event_timestamp interaction_type              item_id  \\\n",
       "2968       1484666440  content_present  5135371516547401748   \n",
       "3006       1485316870  content_present -3900870368325485697   \n",
       "\n",
       "              producer_id  producer_session_id  \\\n",
       "2968  2416280733544962613  5817055449267712130   \n",
       "3006 -2726721797588771398 -1022963948596515475   \n",
       "\n",
       "                                   producer_device_info producer_location  \\\n",
       "2968  Mozilla/5.0 (Macintosh; Intel Mac OS X 10_11_6...                 ?   \n",
       "3006  Mozilla/5.0 (Macintosh; Intel Mac OS X 10_12_2...                 ?   \n",
       "\n",
       "     producer_country item_type  \\\n",
       "2968               US      HTML   \n",
       "3006               US      HTML   \n",
       "\n",
       "                                               item_url  \\\n",
       "2968      http://buytaert.net/acquia-retrospective-2016   \n",
       "3006  http://www.cmswire.com/digital-experience/adob...   \n",
       "\n",
       "                                                  title  \\\n",
       "2968                                     Dries Buytaert   \n",
       "3006  Adobe, Acquia, Episerver Lead New Forrester WC...   \n",
       "\n",
       "                                       text_description language  \n",
       "2968  As my loyal blog readers know, at the beginnin...       en  \n",
       "3006  Forrester's WCM Wave favors Adobe, Acquia and ...       en  "
      ]
     },
     "execution_count": 28,
     "metadata": {},
     "output_type": "execute_result"
    }
   ],
   "source": [
    "# Found two values with '?'\n",
    "\n",
    "item_data[item_data.producer_location == '?']"
   ]
  },
  {
   "cell_type": "code",
   "execution_count": 29,
   "id": "2e319154",
   "metadata": {
    "id": "2e319154"
   },
   "outputs": [
    {
     "data": {
      "text/plain": [
       "NY    20\n",
       "NJ    16\n",
       "GA     7\n",
       "IL     6\n",
       "TX     2\n",
       "?      2\n",
       "SC     2\n",
       "RI     1\n",
       "FL     1\n",
       "WA     1\n",
       "CA     1\n",
       "Name: producer_location, dtype: int64"
      ]
     },
     "execution_count": 29,
     "metadata": {},
     "output_type": "execute_result"
    }
   ],
   "source": [
    "# Lets check the heighest count\n",
    "\n",
    "(item_data.producer_location[item_data.producer_country == 'US']).value_counts()"
   ]
  },
  {
   "cell_type": "code",
   "execution_count": 30,
   "id": "2b5f1272",
   "metadata": {
    "id": "2b5f1272"
   },
   "outputs": [
    {
     "name": "stderr",
     "output_type": "stream",
     "text": [
      "C:\\Users\\A719084\\AppData\\Local\\Temp\\ipykernel_20616\\189911641.py:3: SettingWithCopyWarning: \n",
      "A value is trying to be set on a copy of a slice from a DataFrame\n",
      "\n",
      "See the caveats in the documentation: https://pandas.pydata.org/pandas-docs/stable/user_guide/indexing.html#returning-a-view-versus-a-copy\n",
      "  item_data.producer_location.loc[item_data.producer_location == '?'] = 'NY'\n"
     ]
    }
   ],
   "source": [
    "# Lets impute the value, replace \"?\" with \"NY\"\n",
    "\n",
    "item_data.producer_location.loc[item_data.producer_location == '?'] = 'NY'"
   ]
  },
  {
   "cell_type": "code",
   "execution_count": 31,
   "id": "a85c9376",
   "metadata": {
    "id": "a85c9376"
   },
   "outputs": [
    {
     "data": {
      "text/plain": [
       "SP     533\n",
       "MG      75\n",
       "NY      22\n",
       "NJ      16\n",
       "GA       7\n",
       "IL       6\n",
       "ON       4\n",
       "RJ       4\n",
       "NSW      2\n",
       "TX       2\n",
       "SC       2\n",
       "RI       1\n",
       "AB       1\n",
       "FL       1\n",
       "13       1\n",
       "WA       1\n",
       "CA       1\n",
       "MS       1\n",
       "Name: producer_location, dtype: int64"
      ]
     },
     "execution_count": 31,
     "metadata": {},
     "output_type": "execute_result"
    }
   ],
   "source": [
    "item_data.producer_location.value_counts()"
   ]
  },
  {
   "cell_type": "code",
   "execution_count": 32,
   "id": "a2f054f7",
   "metadata": {
    "id": "a2f054f7"
   },
   "outputs": [],
   "source": [
    "producer_loc = item_data.producer_location.value_counts(normalize=True, dropna=False)*100\n",
    "producer_loc = pd.DataFrame(producer_loc).reset_index()\n",
    "producer_loc.columns = ['Location', 'Values']"
   ]
  },
  {
   "cell_type": "code",
   "execution_count": 33,
   "id": "ce8c77a4",
   "metadata": {
    "id": "ce8c77a4"
   },
   "outputs": [
    {
     "data": {
      "text/html": [
       "<div>\n",
       "<style scoped>\n",
       "    .dataframe tbody tr th:only-of-type {\n",
       "        vertical-align: middle;\n",
       "    }\n",
       "\n",
       "    .dataframe tbody tr th {\n",
       "        vertical-align: top;\n",
       "    }\n",
       "\n",
       "    .dataframe thead th {\n",
       "        text-align: right;\n",
       "    }\n",
       "</style>\n",
       "<table border=\"1\" class=\"dataframe\">\n",
       "  <thead>\n",
       "    <tr style=\"text-align: right;\">\n",
       "      <th></th>\n",
       "      <th>Location</th>\n",
       "      <th>Values</th>\n",
       "    </tr>\n",
       "  </thead>\n",
       "  <tbody>\n",
       "    <tr>\n",
       "      <th>1</th>\n",
       "      <td>SP</td>\n",
       "      <td>17.072389</td>\n",
       "    </tr>\n",
       "    <tr>\n",
       "      <th>2</th>\n",
       "      <td>MG</td>\n",
       "      <td>2.402306</td>\n",
       "    </tr>\n",
       "    <tr>\n",
       "      <th>3</th>\n",
       "      <td>NY</td>\n",
       "      <td>0.704676</td>\n",
       "    </tr>\n",
       "    <tr>\n",
       "      <th>4</th>\n",
       "      <td>NJ</td>\n",
       "      <td>0.512492</td>\n",
       "    </tr>\n",
       "    <tr>\n",
       "      <th>5</th>\n",
       "      <td>GA</td>\n",
       "      <td>0.224215</td>\n",
       "    </tr>\n",
       "    <tr>\n",
       "      <th>6</th>\n",
       "      <td>IL</td>\n",
       "      <td>0.192184</td>\n",
       "    </tr>\n",
       "    <tr>\n",
       "      <th>7</th>\n",
       "      <td>ON</td>\n",
       "      <td>0.128123</td>\n",
       "    </tr>\n",
       "    <tr>\n",
       "      <th>8</th>\n",
       "      <td>RJ</td>\n",
       "      <td>0.128123</td>\n",
       "    </tr>\n",
       "    <tr>\n",
       "      <th>9</th>\n",
       "      <td>NSW</td>\n",
       "      <td>0.064061</td>\n",
       "    </tr>\n",
       "    <tr>\n",
       "      <th>10</th>\n",
       "      <td>TX</td>\n",
       "      <td>0.064061</td>\n",
       "    </tr>\n",
       "    <tr>\n",
       "      <th>11</th>\n",
       "      <td>SC</td>\n",
       "      <td>0.064061</td>\n",
       "    </tr>\n",
       "    <tr>\n",
       "      <th>12</th>\n",
       "      <td>RI</td>\n",
       "      <td>0.032031</td>\n",
       "    </tr>\n",
       "    <tr>\n",
       "      <th>13</th>\n",
       "      <td>AB</td>\n",
       "      <td>0.032031</td>\n",
       "    </tr>\n",
       "    <tr>\n",
       "      <th>14</th>\n",
       "      <td>FL</td>\n",
       "      <td>0.032031</td>\n",
       "    </tr>\n",
       "    <tr>\n",
       "      <th>15</th>\n",
       "      <td>13</td>\n",
       "      <td>0.032031</td>\n",
       "    </tr>\n",
       "    <tr>\n",
       "      <th>16</th>\n",
       "      <td>WA</td>\n",
       "      <td>0.032031</td>\n",
       "    </tr>\n",
       "    <tr>\n",
       "      <th>17</th>\n",
       "      <td>CA</td>\n",
       "      <td>0.032031</td>\n",
       "    </tr>\n",
       "    <tr>\n",
       "      <th>18</th>\n",
       "      <td>MS</td>\n",
       "      <td>0.032031</td>\n",
       "    </tr>\n",
       "  </tbody>\n",
       "</table>\n",
       "</div>"
      ],
      "text/plain": [
       "   Location     Values\n",
       "1        SP  17.072389\n",
       "2        MG   2.402306\n",
       "3        NY   0.704676\n",
       "4        NJ   0.512492\n",
       "5        GA   0.224215\n",
       "6        IL   0.192184\n",
       "7        ON   0.128123\n",
       "8        RJ   0.128123\n",
       "9       NSW   0.064061\n",
       "10       TX   0.064061\n",
       "11       SC   0.064061\n",
       "12       RI   0.032031\n",
       "13       AB   0.032031\n",
       "14       FL   0.032031\n",
       "15       13   0.032031\n",
       "16       WA   0.032031\n",
       "17       CA   0.032031\n",
       "18       MS   0.032031"
      ]
     },
     "execution_count": 33,
     "metadata": {},
     "output_type": "execute_result"
    }
   ],
   "source": [
    "producer_loc = producer_loc.iloc[1:,:]\n",
    "producer_loc"
   ]
  },
  {
   "cell_type": "code",
   "execution_count": 34,
   "id": "144ba901",
   "metadata": {
    "id": "144ba901"
   },
   "outputs": [
    {
     "data": {
      "image/png": "[encoded data removed]",
      "text/plain": [
       "<Figure size 640x480 with 1 Axes>"
      ]
     },
     "metadata": {},
     "output_type": "display_data"
    }
   ],
   "source": [
    "plt.bar(x = producer_loc.Location, height=producer_loc.Values)\n",
    "plt.show()"
   ]
  },
  {
   "cell_type": "code",
   "execution_count": 35,
   "id": "debc01d7",
   "metadata": {
    "id": "debc01d7"
   },
   "outputs": [
    {
     "data": {
      "text/plain": [
       "NaN    2442\n",
       "BR      613\n",
       "US       59\n",
       "CA        5\n",
       "AU        2\n",
       "PT        1\n",
       "Name: producer_country, dtype: int64"
      ]
     },
     "execution_count": 35,
     "metadata": {},
     "output_type": "execute_result"
    }
   ],
   "source": [
    "# Producer Country\n",
    "\n",
    "item_data.producer_country.value_counts(dropna=False)"
   ]
  },
  {
   "cell_type": "code",
   "execution_count": 36,
   "id": "d4c802e4",
   "metadata": {
    "id": "d4c802e4"
   },
   "outputs": [
    {
     "data": {
      "text/html": [
       "<div>\n",
       "<style scoped>\n",
       "    .dataframe tbody tr th:only-of-type {\n",
       "        vertical-align: middle;\n",
       "    }\n",
       "\n",
       "    .dataframe tbody tr th {\n",
       "        vertical-align: top;\n",
       "    }\n",
       "\n",
       "    .dataframe thead th {\n",
       "        text-align: right;\n",
       "    }\n",
       "</style>\n",
       "<table border=\"1\" class=\"dataframe\">\n",
       "  <thead>\n",
       "    <tr style=\"text-align: right;\">\n",
       "      <th></th>\n",
       "      <th>Country</th>\n",
       "      <th>Values</th>\n",
       "    </tr>\n",
       "  </thead>\n",
       "  <tbody>\n",
       "    <tr>\n",
       "      <th>0</th>\n",
       "      <td>NaN</td>\n",
       "      <td>78.219090</td>\n",
       "    </tr>\n",
       "    <tr>\n",
       "      <th>1</th>\n",
       "      <td>BR</td>\n",
       "      <td>19.634849</td>\n",
       "    </tr>\n",
       "    <tr>\n",
       "      <th>2</th>\n",
       "      <td>US</td>\n",
       "      <td>1.889814</td>\n",
       "    </tr>\n",
       "    <tr>\n",
       "      <th>3</th>\n",
       "      <td>CA</td>\n",
       "      <td>0.160154</td>\n",
       "    </tr>\n",
       "    <tr>\n",
       "      <th>4</th>\n",
       "      <td>AU</td>\n",
       "      <td>0.064061</td>\n",
       "    </tr>\n",
       "    <tr>\n",
       "      <th>5</th>\n",
       "      <td>PT</td>\n",
       "      <td>0.032031</td>\n",
       "    </tr>\n",
       "  </tbody>\n",
       "</table>\n",
       "</div>"
      ],
      "text/plain": [
       "  Country     Values\n",
       "0     NaN  78.219090\n",
       "1      BR  19.634849\n",
       "2      US   1.889814\n",
       "3      CA   0.160154\n",
       "4      AU   0.064061\n",
       "5      PT   0.032031"
      ]
     },
     "execution_count": 36,
     "metadata": {},
     "output_type": "execute_result"
    }
   ],
   "source": [
    "producer_country = item_data.producer_country.value_counts(normalize=True, dropna=False)*100\n",
    "producer_country = pd.DataFrame(producer_country).reset_index()\n",
    "producer_country.columns = ['Country', 'Values']\n",
    "producer_country"
   ]
  },
  {
   "cell_type": "code",
   "execution_count": 37,
   "id": "a49ff167",
   "metadata": {
    "id": "a49ff167"
   },
   "outputs": [],
   "source": [
    "producer_country = producer_country.iloc[1:,:]"
   ]
  },
  {
   "cell_type": "code",
   "execution_count": 38,
   "id": "98be2292",
   "metadata": {
    "id": "98be2292"
   },
   "outputs": [
    {
     "data": {
      "image/png": "[encoded data removed]",
      "text/plain": [
       "<Figure size 640x480 with 1 Axes>"
      ]
     },
     "metadata": {},
     "output_type": "display_data"
    }
   ],
   "source": [
    "plt.bar(x=producer_country.Country, height=producer_country.Values)\n",
    "plt.show()"
   ]
  },
  {
   "cell_type": "code",
   "execution_count": 39,
   "id": "53b34341",
   "metadata": {
    "id": "53b34341"
   },
   "outputs": [
    {
     "data": {
      "text/plain": [
       "HTML     3101\n",
       "VIDEO      11\n",
       "RICH       10\n",
       "Name: item_type, dtype: int64"
      ]
     },
     "execution_count": 39,
     "metadata": {},
     "output_type": "execute_result"
    }
   ],
   "source": [
    "# Item type\n",
    "\n",
    "item_data.item_type.value_counts(dropna=False)"
   ]
  },
  {
   "cell_type": "code",
   "execution_count": 40,
   "id": "e8365330",
   "metadata": {
    "id": "e8365330"
   },
   "outputs": [
    {
     "data": {
      "text/plain": [
       "en    2264\n",
       "pt     850\n",
       "la       4\n",
       "es       2\n",
       "ja       2\n",
       "Name: language, dtype: int64"
      ]
     },
     "execution_count": 40,
     "metadata": {},
     "output_type": "execute_result"
    }
   ],
   "source": [
    "# Languages\n",
    "\n",
    "item_data.language.value_counts(dropna= False)"
   ]
  },
  {
   "cell_type": "code",
   "execution_count": 41,
   "id": "0535a339",
   "metadata": {
    "id": "0535a339"
   },
   "outputs": [
    {
     "data": {
      "text/plain": [
       "<AxesSubplot:ylabel='language'>"
      ]
     },
     "execution_count": 41,
     "metadata": {},
     "output_type": "execute_result"
    },
    {
     "data": {
      "image/png": "[encoded data removed]",
      "text/plain": [
       "<Figure size 640x480 with 1 Axes>"
      ]
     },
     "metadata": {},
     "output_type": "display_data"
    }
   ],
   "source": [
    "## Arrive at language statistics - we can consider English language articles alone\n",
    "lang_stats = item_data.language.value_counts(normalize=True)\n",
    "lang_stats.plot.pie()"
   ]
  },
  {
   "cell_type": "markdown",
   "id": "d4cd53c4",
   "metadata": {
    "id": "d4cd53c4"
   },
   "source": [
    "### Data Preparing"
   ]
  },
  {
   "cell_type": "code",
   "execution_count": 42,
   "id": "83e47ec6",
   "metadata": {
    "id": "83e47ec6"
   },
   "outputs": [
    {
     "data": {
      "text/html": [
       "<div>\n",
       "<style scoped>\n",
       "    .dataframe tbody tr th:only-of-type {\n",
       "        vertical-align: middle;\n",
       "    }\n",
       "\n",
       "    .dataframe tbody tr th {\n",
       "        vertical-align: top;\n",
       "    }\n",
       "\n",
       "    .dataframe thead th {\n",
       "        text-align: right;\n",
       "    }\n",
       "</style>\n",
       "<table border=\"1\" class=\"dataframe\">\n",
       "  <thead>\n",
       "    <tr style=\"text-align: right;\">\n",
       "      <th></th>\n",
       "      <th>Interaction Type</th>\n",
       "      <th>Values</th>\n",
       "    </tr>\n",
       "  </thead>\n",
       "  <tbody>\n",
       "    <tr>\n",
       "      <th>0</th>\n",
       "      <td>content_watched</td>\n",
       "      <td>84.475606</td>\n",
       "    </tr>\n",
       "    <tr>\n",
       "      <th>1</th>\n",
       "      <td>content_liked</td>\n",
       "      <td>7.944739</td>\n",
       "    </tr>\n",
       "    <tr>\n",
       "      <th>2</th>\n",
       "      <td>content_saved</td>\n",
       "      <td>3.406074</td>\n",
       "    </tr>\n",
       "    <tr>\n",
       "      <th>3</th>\n",
       "      <td>content_commented_on</td>\n",
       "      <td>2.227846</td>\n",
       "    </tr>\n",
       "    <tr>\n",
       "      <th>4</th>\n",
       "      <td>content_followed</td>\n",
       "      <td>1.945735</td>\n",
       "    </tr>\n",
       "  </tbody>\n",
       "</table>\n",
       "</div>"
      ],
      "text/plain": [
       "       Interaction Type     Values\n",
       "0       content_watched  84.475606\n",
       "1         content_liked   7.944739\n",
       "2         content_saved   3.406074\n",
       "3  content_commented_on   2.227846\n",
       "4      content_followed   1.945735"
      ]
     },
     "execution_count": 42,
     "metadata": {},
     "output_type": "execute_result"
    }
   ],
   "source": [
    "# Lets impute interaction type\n",
    "\n",
    "interaction_stats"
   ]
  },
  {
   "cell_type": "code",
   "execution_count": 43,
   "id": "898f7660",
   "metadata": {
    "id": "898f7660"
   },
   "outputs": [],
   "source": [
    "consumer_ratings = user_data.copy()"
   ]
  },
  {
   "cell_type": "code",
   "execution_count": 44,
   "id": "ad791cb8",
   "metadata": {
    "id": "ad791cb8"
   },
   "outputs": [],
   "source": [
    "# lets impute Item and Consumer ID\n",
    "\n",
    "consumer_ratings['user_id'] = consumer_ratings.groupby(['consumer_id']).ngroup()\n",
    "consumer_ratings['news_id'] = consumer_ratings.groupby(['item_id']).ngroup()"
   ]
  },
  {
   "cell_type": "code",
   "execution_count": 45,
   "id": "5f0b8eed",
   "metadata": {
    "id": "5f0b8eed"
   },
   "outputs": [
    {
     "data": {
      "text/html": [
       "<div>\n",
       "<style scoped>\n",
       "    .dataframe tbody tr th:only-of-type {\n",
       "        vertical-align: middle;\n",
       "    }\n",
       "\n",
       "    .dataframe tbody tr th {\n",
       "        vertical-align: top;\n",
       "    }\n",
       "\n",
       "    .dataframe thead th {\n",
       "        text-align: right;\n",
       "    }\n",
       "</style>\n",
       "<table border=\"1\" class=\"dataframe\">\n",
       "  <thead>\n",
       "    <tr style=\"text-align: right;\">\n",
       "      <th></th>\n",
       "      <th>consumer_id</th>\n",
       "      <th>item_id</th>\n",
       "      <th>interaction_type</th>\n",
       "      <th>user_id</th>\n",
       "      <th>news_id</th>\n",
       "    </tr>\n",
       "  </thead>\n",
       "  <tbody>\n",
       "    <tr>\n",
       "      <th>0</th>\n",
       "      <td>-8845298781299428018</td>\n",
       "      <td>-3499919498720038879</td>\n",
       "      <td>content_watched</td>\n",
       "      <td>33</td>\n",
       "      <td>933</td>\n",
       "    </tr>\n",
       "    <tr>\n",
       "      <th>1</th>\n",
       "      <td>-1032019229384696495</td>\n",
       "      <td>8890720798209849691</td>\n",
       "      <td>content_watched</td>\n",
       "      <td>831</td>\n",
       "      <td>2933</td>\n",
       "    </tr>\n",
       "    <tr>\n",
       "      <th>2</th>\n",
       "      <td>-1130272294246983140</td>\n",
       "      <td>310515487419366995</td>\n",
       "      <td>content_watched</td>\n",
       "      <td>826</td>\n",
       "      <td>1537</td>\n",
       "    </tr>\n",
       "    <tr>\n",
       "      <th>3</th>\n",
       "      <td>344280948527967603</td>\n",
       "      <td>310515487419366995</td>\n",
       "      <td>content_followed</td>\n",
       "      <td>974</td>\n",
       "      <td>1537</td>\n",
       "    </tr>\n",
       "    <tr>\n",
       "      <th>4</th>\n",
       "      <td>-445337111692715325</td>\n",
       "      <td>-7820640624231356730</td>\n",
       "      <td>content_watched</td>\n",
       "      <td>887</td>\n",
       "      <td>246</td>\n",
       "    </tr>\n",
       "  </tbody>\n",
       "</table>\n",
       "</div>"
      ],
      "text/plain": [
       "           consumer_id              item_id  interaction_type  user_id  \\\n",
       "0 -8845298781299428018 -3499919498720038879   content_watched       33   \n",
       "1 -1032019229384696495  8890720798209849691   content_watched      831   \n",
       "2 -1130272294246983140   310515487419366995   content_watched      826   \n",
       "3   344280948527967603   310515487419366995  content_followed      974   \n",
       "4  -445337111692715325 -7820640624231356730   content_watched      887   \n",
       "\n",
       "   news_id  \n",
       "0      933  \n",
       "1     2933  \n",
       "2     1537  \n",
       "3     1537  \n",
       "4      246  "
      ]
     },
     "execution_count": 45,
     "metadata": {},
     "output_type": "execute_result"
    }
   ],
   "source": [
    "consumer_ratings.head()"
   ]
  },
  {
   "cell_type": "code",
   "execution_count": 46,
   "id": "41cee01c",
   "metadata": {
    "id": "41cee01c"
   },
   "outputs": [],
   "source": [
    "consumer_ratings['ratings'] = consumer_ratings['interaction_type'].map({'content_followed' : 5,'content_commented_on' : 4, 'content_saved' : 3, 'content_liked' : 2, 'content_watched' : 1})"
   ]
  },
  {
   "cell_type": "code",
   "execution_count": 47,
   "id": "8eca9c96",
   "metadata": {
    "id": "8eca9c96"
   },
   "outputs": [
    {
     "data": {
      "text/plain": [
       "1    61086\n",
       "2     5745\n",
       "3     2463\n",
       "4     1611\n",
       "5     1407\n",
       "Name: ratings, dtype: int64"
      ]
     },
     "execution_count": 47,
     "metadata": {},
     "output_type": "execute_result"
    }
   ],
   "source": [
    "consumer_ratings.ratings.value_counts()"
   ]
  },
  {
   "cell_type": "code",
   "execution_count": 48,
   "id": "ca4bd4e5",
   "metadata": {
    "id": "ca4bd4e5"
   },
   "outputs": [
    {
     "data": {
      "text/plain": [
       "content_watched         61086\n",
       "content_liked            5745\n",
       "content_saved            2463\n",
       "content_commented_on     1611\n",
       "content_followed         1407\n",
       "Name: interaction_type, dtype: int64"
      ]
     },
     "execution_count": 48,
     "metadata": {},
     "output_type": "execute_result"
    }
   ],
   "source": [
    "consumer_ratings.interaction_type.value_counts()"
   ]
  },
  {
   "cell_type": "code",
   "execution_count": 49,
   "id": "e823fced",
   "metadata": {
    "id": "e823fced"
   },
   "outputs": [],
   "source": [
    "consumer_ratings.drop('interaction_type', axis = 1, inplace = True)"
   ]
  },
  {
   "cell_type": "code",
   "execution_count": 50,
   "id": "c8cf0745",
   "metadata": {
    "id": "c8cf0745"
   },
   "outputs": [
    {
     "data": {
      "text/plain": [
       "(72312, 5)"
      ]
     },
     "execution_count": 50,
     "metadata": {},
     "output_type": "execute_result"
    }
   ],
   "source": [
    "consumer_ratings.shape"
   ]
  },
  {
   "cell_type": "code",
   "execution_count": 51,
   "id": "362dce7a",
   "metadata": {
    "id": "362dce7a"
   },
   "outputs": [],
   "source": [
    "consumer_ratings.drop_duplicates(inplace= True)"
   ]
  },
  {
   "cell_type": "code",
   "execution_count": 52,
   "id": "32b2b1f1",
   "metadata": {
    "id": "32b2b1f1"
   },
   "outputs": [
    {
     "data": {
      "text/plain": [
       "(50938, 5)"
      ]
     },
     "execution_count": 52,
     "metadata": {},
     "output_type": "execute_result"
    }
   ],
   "source": [
    "consumer_ratings.shape"
   ]
  },
  {
   "cell_type": "code",
   "execution_count": 53,
   "id": "3a967dfe",
   "metadata": {
    "id": "3a967dfe"
   },
   "outputs": [
    {
     "data": {
      "text/html": [
       "<div>\n",
       "<style scoped>\n",
       "    .dataframe tbody tr th:only-of-type {\n",
       "        vertical-align: middle;\n",
       "    }\n",
       "\n",
       "    .dataframe tbody tr th {\n",
       "        vertical-align: top;\n",
       "    }\n",
       "\n",
       "    .dataframe thead th {\n",
       "        text-align: right;\n",
       "    }\n",
       "</style>\n",
       "<table border=\"1\" class=\"dataframe\">\n",
       "  <thead>\n",
       "    <tr style=\"text-align: right;\">\n",
       "      <th></th>\n",
       "      <th>consumer_id</th>\n",
       "      <th>item_id</th>\n",
       "      <th>user_id</th>\n",
       "      <th>news_id</th>\n",
       "      <th>ratings</th>\n",
       "    </tr>\n",
       "  </thead>\n",
       "  <tbody>\n",
       "    <tr>\n",
       "      <th>0</th>\n",
       "      <td>-8845298781299428018</td>\n",
       "      <td>-3499919498720038879</td>\n",
       "      <td>33</td>\n",
       "      <td>933</td>\n",
       "      <td>1</td>\n",
       "    </tr>\n",
       "    <tr>\n",
       "      <th>1</th>\n",
       "      <td>-1032019229384696495</td>\n",
       "      <td>8890720798209849691</td>\n",
       "      <td>831</td>\n",
       "      <td>2933</td>\n",
       "      <td>1</td>\n",
       "    </tr>\n",
       "    <tr>\n",
       "      <th>2</th>\n",
       "      <td>-1130272294246983140</td>\n",
       "      <td>310515487419366995</td>\n",
       "      <td>826</td>\n",
       "      <td>1537</td>\n",
       "      <td>1</td>\n",
       "    </tr>\n",
       "    <tr>\n",
       "      <th>3</th>\n",
       "      <td>344280948527967603</td>\n",
       "      <td>310515487419366995</td>\n",
       "      <td>974</td>\n",
       "      <td>1537</td>\n",
       "      <td>5</td>\n",
       "    </tr>\n",
       "    <tr>\n",
       "      <th>4</th>\n",
       "      <td>-445337111692715325</td>\n",
       "      <td>-7820640624231356730</td>\n",
       "      <td>887</td>\n",
       "      <td>246</td>\n",
       "      <td>1</td>\n",
       "    </tr>\n",
       "  </tbody>\n",
       "</table>\n",
       "</div>"
      ],
      "text/plain": [
       "           consumer_id              item_id  user_id  news_id  ratings\n",
       "0 -8845298781299428018 -3499919498720038879       33      933        1\n",
       "1 -1032019229384696495  8890720798209849691      831     2933        1\n",
       "2 -1130272294246983140   310515487419366995      826     1537        1\n",
       "3   344280948527967603   310515487419366995      974     1537        5\n",
       "4  -445337111692715325 -7820640624231356730      887      246        1"
      ]
     },
     "execution_count": 53,
     "metadata": {},
     "output_type": "execute_result"
    }
   ],
   "source": [
    "consumer_ratings.head()"
   ]
  },
  {
   "cell_type": "code",
   "execution_count": 54,
   "id": "6c492b69",
   "metadata": {
    "id": "6c492b69"
   },
   "outputs": [],
   "source": [
    "# number of uniqe users and items\n",
    "\n",
    "n_users = consumer_ratings.user_id.nunique()\n",
    "n_items = consumer_ratings.news_id.nunique()"
   ]
  },
  {
   "cell_type": "code",
   "execution_count": 55,
   "id": "436cf46f",
   "metadata": {
    "id": "436cf46f"
   },
   "outputs": [
    {
     "name": "stdout",
     "output_type": "stream",
     "text": [
      "Number of unique Users : 1895\n",
      "Number of unique Items : 2987\n"
     ]
    }
   ],
   "source": [
    "print(\"Number of unique Users : \" + str(n_users))\n",
    "print(\"Number of unique Items : \" + str(n_items))"
   ]
  },
  {
   "cell_type": "code",
   "execution_count": 56,
   "id": "2b0c550c",
   "metadata": {
    "id": "2b0c550c"
   },
   "outputs": [],
   "source": [
    "ratings = consumer_ratings.iloc[:,2:]"
   ]
  },
  {
   "cell_type": "code",
   "execution_count": 57,
   "id": "0578a659",
   "metadata": {
    "id": "0578a659"
   },
   "outputs": [
    {
     "data": {
      "text/html": [
       "<div>\n",
       "<style scoped>\n",
       "    .dataframe tbody tr th:only-of-type {\n",
       "        vertical-align: middle;\n",
       "    }\n",
       "\n",
       "    .dataframe tbody tr th {\n",
       "        vertical-align: top;\n",
       "    }\n",
       "\n",
       "    .dataframe thead th {\n",
       "        text-align: right;\n",
       "    }\n",
       "</style>\n",
       "<table border=\"1\" class=\"dataframe\">\n",
       "  <thead>\n",
       "    <tr style=\"text-align: right;\">\n",
       "      <th></th>\n",
       "      <th>user_id</th>\n",
       "      <th>news_id</th>\n",
       "      <th>ratings</th>\n",
       "    </tr>\n",
       "  </thead>\n",
       "  <tbody>\n",
       "    <tr>\n",
       "      <th>0</th>\n",
       "      <td>33</td>\n",
       "      <td>933</td>\n",
       "      <td>1</td>\n",
       "    </tr>\n",
       "    <tr>\n",
       "      <th>1</th>\n",
       "      <td>831</td>\n",
       "      <td>2933</td>\n",
       "      <td>1</td>\n",
       "    </tr>\n",
       "    <tr>\n",
       "      <th>2</th>\n",
       "      <td>826</td>\n",
       "      <td>1537</td>\n",
       "      <td>1</td>\n",
       "    </tr>\n",
       "    <tr>\n",
       "      <th>3</th>\n",
       "      <td>974</td>\n",
       "      <td>1537</td>\n",
       "      <td>5</td>\n",
       "    </tr>\n",
       "    <tr>\n",
       "      <th>4</th>\n",
       "      <td>887</td>\n",
       "      <td>246</td>\n",
       "      <td>1</td>\n",
       "    </tr>\n",
       "    <tr>\n",
       "      <th>...</th>\n",
       "      <td>...</td>\n",
       "      <td>...</td>\n",
       "      <td>...</td>\n",
       "    </tr>\n",
       "    <tr>\n",
       "      <th>72303</th>\n",
       "      <td>1529</td>\n",
       "      <td>2093</td>\n",
       "      <td>1</td>\n",
       "    </tr>\n",
       "    <tr>\n",
       "      <th>72304</th>\n",
       "      <td>400</td>\n",
       "      <td>1583</td>\n",
       "      <td>3</td>\n",
       "    </tr>\n",
       "    <tr>\n",
       "      <th>72307</th>\n",
       "      <td>17</td>\n",
       "      <td>443</td>\n",
       "      <td>2</td>\n",
       "    </tr>\n",
       "    <tr>\n",
       "      <th>72309</th>\n",
       "      <td>4</td>\n",
       "      <td>1153</td>\n",
       "      <td>1</td>\n",
       "    </tr>\n",
       "    <tr>\n",
       "      <th>72311</th>\n",
       "      <td>1529</td>\n",
       "      <td>2401</td>\n",
       "      <td>1</td>\n",
       "    </tr>\n",
       "  </tbody>\n",
       "</table>\n",
       "<p>50938 rows × 3 columns</p>\n",
       "</div>"
      ],
      "text/plain": [
       "       user_id  news_id  ratings\n",
       "0           33      933        1\n",
       "1          831     2933        1\n",
       "2          826     1537        1\n",
       "3          974     1537        5\n",
       "4          887      246        1\n",
       "...        ...      ...      ...\n",
       "72303     1529     2093        1\n",
       "72304      400     1583        3\n",
       "72307       17      443        2\n",
       "72309        4     1153        1\n",
       "72311     1529     2401        1\n",
       "\n",
       "[50938 rows x 3 columns]"
      ]
     },
     "execution_count": 57,
     "metadata": {},
     "output_type": "execute_result"
    }
   ],
   "source": [
    "ratings"
   ]
  },
  {
   "cell_type": "markdown",
   "id": "ccb6ba3b",
   "metadata": {
    "id": "ccb6ba3b"
   },
   "source": [
    "### User based Collaborative Filtering"
   ]
  },
  {
   "cell_type": "code",
   "execution_count": 58,
   "id": "5a74b919",
   "metadata": {
    "id": "5a74b919"
   },
   "outputs": [
    {
     "data": {
      "text/plain": [
       "(1895, 2987)"
      ]
     },
     "execution_count": 58,
     "metadata": {},
     "output_type": "execute_result"
    }
   ],
   "source": [
    "# let us first create Empty data matrix\n",
    "\n",
    "data_mat = np.zeros((n_users, n_items))\n",
    "data_mat.shape"
   ]
  },
  {
   "cell_type": "code",
   "execution_count": 59,
   "id": "a15546e7",
   "metadata": {
    "id": "a15546e7"
   },
   "outputs": [],
   "source": [
    "# fill the data matrix with rating values\n",
    "\n",
    "for line in ratings.itertuples():\n",
    "    data_mat[line[1]-1, line[2]-1] = line[3]"
   ]
  },
  {
   "cell_type": "code",
   "execution_count": 60,
   "id": "b7a7df59",
   "metadata": {
    "id": "b7a7df59"
   },
   "outputs": [
    {
     "data": {
      "text/plain": [
       "array([[0., 0., 0., ..., 0., 0., 0.],\n",
       "       [1., 0., 0., ..., 0., 0., 0.],\n",
       "       [0., 0., 0., ..., 0., 0., 0.],\n",
       "       ...,\n",
       "       [0., 0., 0., ..., 0., 0., 0.],\n",
       "       [0., 0., 0., ..., 0., 0., 0.],\n",
       "       [0., 0., 0., ..., 0., 0., 0.]])"
      ]
     },
     "execution_count": 60,
     "metadata": {},
     "output_type": "execute_result"
    }
   ],
   "source": [
    "# print the data matrix\n",
    "data_mat"
   ]
  },
  {
   "cell_type": "code",
   "execution_count": 61,
   "id": "a4106d15",
   "metadata": {
    "id": "a4106d15"
   },
   "outputs": [
    {
     "data": {
      "text/plain": [
       "array([[1.        , 0.1118034 , 0.        , ..., 0.        , 0.        ,\n",
       "        0.        ],\n",
       "       [0.1118034 , 1.        , 0.        , ..., 0.13363062, 0.        ,\n",
       "        0.        ],\n",
       "       [0.        , 0.        , 1.        , ..., 0.        , 0.        ,\n",
       "        0.08891084],\n",
       "       ...,\n",
       "       [0.        , 0.13363062, 0.        , ..., 1.        , 0.        ,\n",
       "        0.03940552],\n",
       "       [0.        , 0.        , 0.        , ..., 0.        , 1.        ,\n",
       "        0.04648022],\n",
       "       [0.        , 0.        , 0.08891084, ..., 0.03940552, 0.04648022,\n",
       "        1.        ]])"
      ]
     },
     "execution_count": 61,
     "metadata": {},
     "output_type": "execute_result"
    }
   ],
   "source": [
    "# Predict the user similarity - cosine similarity\n",
    "\n",
    "user_sim = 1 - pairwise_distances(data_mat, metric= 'cosine')\n",
    "user_sim"
   ]
  },
  {
   "cell_type": "code",
   "execution_count": 62,
   "id": "7ef0ccb6",
   "metadata": {
    "id": "7ef0ccb6"
   },
   "outputs": [
    {
     "data": {
      "text/plain": [
       "(1895, 1895)"
      ]
     },
     "execution_count": 62,
     "metadata": {},
     "output_type": "execute_result"
    }
   ],
   "source": [
    "user_sim.shape"
   ]
  },
  {
   "cell_type": "markdown",
   "id": "LCW8wGj6Ur26",
   "metadata": {
    "id": "LCW8wGj6Ur26"
   },
   "source": [
    "## Item Similarity Data Matrix"
   ]
  },
  {
   "cell_type": "code",
   "execution_count": 63,
   "id": "bcec61a8",
   "metadata": {
    "id": "bcec61a8"
   },
   "outputs": [
    {
     "data": {
      "text/plain": [
       "(1895, 2987)"
      ]
     },
     "execution_count": 63,
     "metadata": {},
     "output_type": "execute_result"
    }
   ],
   "source": [
    "# data matrix * item similarity\n",
    "\n",
    "item_pred = np.dot(user_sim, data_mat)\n",
    "item_pred.shape"
   ]
  },
  {
   "cell_type": "code",
   "execution_count": 64,
   "id": "669b9d1b",
   "metadata": {
    "id": "669b9d1b"
   },
   "outputs": [
    {
     "data": {
      "text/plain": [
       "array([[1.51072467, 0.14627463, 0.88663017, ..., 0.33072469, 0.10823162,\n",
       "        0.12681844],\n",
       "       [3.76780838, 0.23170633, 0.89922711, ..., 0.63387255, 0.13046205,\n",
       "        0.10336171],\n",
       "       [0.04065578, 0.09832051, 0.24081988, ..., 0.23632899, 0.03527147,\n",
       "        1.05833479],\n",
       "       ...,\n",
       "       [0.5664924 , 0.67668807, 1.78588986, ..., 0.80990409, 0.1208321 ,\n",
       "        0.51230633],\n",
       "       [0.10345375, 1.45129543, 3.28676135, ..., 1.2697992 , 0.22368166,\n",
       "        0.25181728],\n",
       "       [0.24990274, 0.76214912, 2.76393507, ..., 1.23533225, 0.29885225,\n",
       "        1.88521383]])"
      ]
     },
     "execution_count": 64,
     "metadata": {},
     "output_type": "execute_result"
    }
   ],
   "source": [
    "item_pred"
   ]
  },
  {
   "cell_type": "code",
   "execution_count": 65,
   "id": "a59834db",
   "metadata": {
    "id": "a59834db"
   },
   "outputs": [
    {
     "data": {
      "text/plain": [
       "(1895, 2987)"
      ]
     },
     "execution_count": 65,
     "metadata": {},
     "output_type": "execute_result"
    }
   ],
   "source": [
    "pred_df = pd.DataFrame(item_pred)\n",
    "pred_df.shape"
   ]
  },
  {
   "cell_type": "code",
   "execution_count": 66,
   "id": "33e5e664",
   "metadata": {
    "id": "33e5e664"
   },
   "outputs": [
    {
     "data": {
      "text/html": [
       "<div>\n",
       "<style scoped>\n",
       "    .dataframe tbody tr th:only-of-type {\n",
       "        vertical-align: middle;\n",
       "    }\n",
       "\n",
       "    .dataframe tbody tr th {\n",
       "        vertical-align: top;\n",
       "    }\n",
       "\n",
       "    .dataframe thead th {\n",
       "        text-align: right;\n",
       "    }\n",
       "</style>\n",
       "<table border=\"1\" class=\"dataframe\">\n",
       "  <thead>\n",
       "    <tr style=\"text-align: right;\">\n",
       "      <th></th>\n",
       "      <th>0</th>\n",
       "      <th>1</th>\n",
       "      <th>2</th>\n",
       "      <th>3</th>\n",
       "      <th>4</th>\n",
       "      <th>5</th>\n",
       "      <th>6</th>\n",
       "      <th>7</th>\n",
       "      <th>8</th>\n",
       "      <th>9</th>\n",
       "      <th>...</th>\n",
       "      <th>2977</th>\n",
       "      <th>2978</th>\n",
       "      <th>2979</th>\n",
       "      <th>2980</th>\n",
       "      <th>2981</th>\n",
       "      <th>2982</th>\n",
       "      <th>2983</th>\n",
       "      <th>2984</th>\n",
       "      <th>2985</th>\n",
       "      <th>2986</th>\n",
       "    </tr>\n",
       "  </thead>\n",
       "  <tbody>\n",
       "    <tr>\n",
       "      <th>0</th>\n",
       "      <td>1.510725</td>\n",
       "      <td>0.146275</td>\n",
       "      <td>0.886630</td>\n",
       "      <td>0.000000</td>\n",
       "      <td>0.685897</td>\n",
       "      <td>0.000000</td>\n",
       "      <td>0.318857</td>\n",
       "      <td>0.120362</td>\n",
       "      <td>0.000000</td>\n",
       "      <td>0.154661</td>\n",
       "      <td>...</td>\n",
       "      <td>0.181632</td>\n",
       "      <td>0.091965</td>\n",
       "      <td>0.025364</td>\n",
       "      <td>0.232597</td>\n",
       "      <td>0.075749</td>\n",
       "      <td>0.150755</td>\n",
       "      <td>0.039265</td>\n",
       "      <td>0.330725</td>\n",
       "      <td>0.108232</td>\n",
       "      <td>0.126818</td>\n",
       "    </tr>\n",
       "    <tr>\n",
       "      <th>1</th>\n",
       "      <td>3.767808</td>\n",
       "      <td>0.231706</td>\n",
       "      <td>0.899227</td>\n",
       "      <td>0.157766</td>\n",
       "      <td>0.954129</td>\n",
       "      <td>0.000000</td>\n",
       "      <td>0.894394</td>\n",
       "      <td>0.022428</td>\n",
       "      <td>0.117356</td>\n",
       "      <td>0.162838</td>\n",
       "      <td>...</td>\n",
       "      <td>0.418745</td>\n",
       "      <td>0.117932</td>\n",
       "      <td>0.023477</td>\n",
       "      <td>0.255368</td>\n",
       "      <td>0.319328</td>\n",
       "      <td>0.407883</td>\n",
       "      <td>0.206035</td>\n",
       "      <td>0.633873</td>\n",
       "      <td>0.130462</td>\n",
       "      <td>0.103362</td>\n",
       "    </tr>\n",
       "    <tr>\n",
       "      <th>2</th>\n",
       "      <td>0.040656</td>\n",
       "      <td>0.098321</td>\n",
       "      <td>0.240820</td>\n",
       "      <td>0.130084</td>\n",
       "      <td>0.237418</td>\n",
       "      <td>0.000000</td>\n",
       "      <td>0.650422</td>\n",
       "      <td>0.000000</td>\n",
       "      <td>0.070768</td>\n",
       "      <td>0.000000</td>\n",
       "      <td>...</td>\n",
       "      <td>0.276056</td>\n",
       "      <td>0.239909</td>\n",
       "      <td>0.217969</td>\n",
       "      <td>0.099101</td>\n",
       "      <td>0.068149</td>\n",
       "      <td>0.165096</td>\n",
       "      <td>0.149596</td>\n",
       "      <td>0.236329</td>\n",
       "      <td>0.035271</td>\n",
       "      <td>1.058335</td>\n",
       "    </tr>\n",
       "    <tr>\n",
       "      <th>3</th>\n",
       "      <td>0.000000</td>\n",
       "      <td>0.958789</td>\n",
       "      <td>1.128035</td>\n",
       "      <td>0.052862</td>\n",
       "      <td>0.578294</td>\n",
       "      <td>0.019042</td>\n",
       "      <td>0.124345</td>\n",
       "      <td>0.016954</td>\n",
       "      <td>0.015721</td>\n",
       "      <td>0.120286</td>\n",
       "      <td>...</td>\n",
       "      <td>0.107759</td>\n",
       "      <td>0.060249</td>\n",
       "      <td>0.024922</td>\n",
       "      <td>0.754437</td>\n",
       "      <td>0.353610</td>\n",
       "      <td>0.144241</td>\n",
       "      <td>0.047743</td>\n",
       "      <td>0.270874</td>\n",
       "      <td>0.056450</td>\n",
       "      <td>0.124611</td>\n",
       "    </tr>\n",
       "    <tr>\n",
       "      <th>4</th>\n",
       "      <td>0.102062</td>\n",
       "      <td>0.224202</td>\n",
       "      <td>1.223905</td>\n",
       "      <td>0.048408</td>\n",
       "      <td>0.457971</td>\n",
       "      <td>0.014543</td>\n",
       "      <td>0.163290</td>\n",
       "      <td>0.064744</td>\n",
       "      <td>0.218261</td>\n",
       "      <td>0.075814</td>\n",
       "      <td>...</td>\n",
       "      <td>0.196496</td>\n",
       "      <td>0.121120</td>\n",
       "      <td>0.010915</td>\n",
       "      <td>0.269874</td>\n",
       "      <td>0.163411</td>\n",
       "      <td>0.271409</td>\n",
       "      <td>0.251620</td>\n",
       "      <td>0.478999</td>\n",
       "      <td>0.079838</td>\n",
       "      <td>0.104637</td>\n",
       "    </tr>\n",
       "  </tbody>\n",
       "</table>\n",
       "<p>5 rows × 2987 columns</p>\n",
       "</div>"
      ],
      "text/plain": [
       "       0         1         2         3         4         5         6     \\\n",
       "0  1.510725  0.146275  0.886630  0.000000  0.685897  0.000000  0.318857   \n",
       "1  3.767808  0.231706  0.899227  0.157766  0.954129  0.000000  0.894394   \n",
       "2  0.040656  0.098321  0.240820  0.130084  0.237418  0.000000  0.650422   \n",
       "3  0.000000  0.958789  1.128035  0.052862  0.578294  0.019042  0.124345   \n",
       "4  0.102062  0.224202  1.223905  0.048408  0.457971  0.014543  0.163290   \n",
       "\n",
       "       7         8         9     ...      2977      2978      2979      2980  \\\n",
       "0  0.120362  0.000000  0.154661  ...  0.181632  0.091965  0.025364  0.232597   \n",
       "1  0.022428  0.117356  0.162838  ...  0.418745  0.117932  0.023477  0.255368   \n",
       "2  0.000000  0.070768  0.000000  ...  0.276056  0.239909  0.217969  0.099101   \n",
       "3  0.016954  0.015721  0.120286  ...  0.107759  0.060249  0.024922  0.754437   \n",
       "4  0.064744  0.218261  0.075814  ...  0.196496  0.121120  0.010915  0.269874   \n",
       "\n",
       "       2981      2982      2983      2984      2985      2986  \n",
       "0  0.075749  0.150755  0.039265  0.330725  0.108232  0.126818  \n",
       "1  0.319328  0.407883  0.206035  0.633873  0.130462  0.103362  \n",
       "2  0.068149  0.165096  0.149596  0.236329  0.035271  1.058335  \n",
       "3  0.353610  0.144241  0.047743  0.270874  0.056450  0.124611  \n",
       "4  0.163411  0.271409  0.251620  0.478999  0.079838  0.104637  \n",
       "\n",
       "[5 rows x 2987 columns]"
      ]
     },
     "execution_count": 66,
     "metadata": {},
     "output_type": "execute_result"
    }
   ],
   "source": [
    "pred_df.head()"
   ]
  },
  {
   "cell_type": "markdown",
   "id": "oGm66Vx0Ur2-",
   "metadata": {
    "id": "oGm66Vx0Ur2-"
   },
   "source": [
    "## Lets get the News recommendation for User 10"
   ]
  },
  {
   "cell_type": "code",
   "execution_count": 67,
   "id": "4bc7ef43",
   "metadata": {
    "id": "4bc7ef43"
   },
   "outputs": [],
   "source": [
    "# dataframe with User 10 recommendation\n",
    "\n",
    "recommended_10 = pd.DataFrame(pred_df.iloc[10].sort_values(ascending = False)).reset_index()"
   ]
  },
  {
   "cell_type": "code",
   "execution_count": 68,
   "id": "c7cef4b1",
   "metadata": {
    "id": "c7cef4b1"
   },
   "outputs": [
    {
     "data": {
      "text/plain": [
       "(2987, 2)"
      ]
     },
     "execution_count": 68,
     "metadata": {},
     "output_type": "execute_result"
    }
   ],
   "source": [
    "recommended_10.columns = ['news_id', 'values']\n",
    "recommended_10.shape"
   ]
  },
  {
   "cell_type": "code",
   "execution_count": 69,
   "id": "b5fcbc98",
   "metadata": {
    "id": "b5fcbc98"
   },
   "outputs": [
    {
     "data": {
      "text/html": [
       "<div>\n",
       "<style scoped>\n",
       "    .dataframe tbody tr th:only-of-type {\n",
       "        vertical-align: middle;\n",
       "    }\n",
       "\n",
       "    .dataframe tbody tr th {\n",
       "        vertical-align: top;\n",
       "    }\n",
       "\n",
       "    .dataframe thead th {\n",
       "        text-align: right;\n",
       "    }\n",
       "</style>\n",
       "<table border=\"1\" class=\"dataframe\">\n",
       "  <thead>\n",
       "    <tr style=\"text-align: right;\">\n",
       "      <th></th>\n",
       "      <th>news_id</th>\n",
       "      <th>values</th>\n",
       "    </tr>\n",
       "  </thead>\n",
       "  <tbody>\n",
       "    <tr>\n",
       "      <th>0</th>\n",
       "      <td>307</td>\n",
       "      <td>10.860273</td>\n",
       "    </tr>\n",
       "    <tr>\n",
       "      <th>1</th>\n",
       "      <td>422</td>\n",
       "      <td>2.010328</td>\n",
       "    </tr>\n",
       "    <tr>\n",
       "      <th>2</th>\n",
       "      <td>2329</td>\n",
       "      <td>1.892686</td>\n",
       "    </tr>\n",
       "    <tr>\n",
       "      <th>3</th>\n",
       "      <td>1177</td>\n",
       "      <td>1.878166</td>\n",
       "    </tr>\n",
       "    <tr>\n",
       "      <th>4</th>\n",
       "      <td>1044</td>\n",
       "      <td>1.790521</td>\n",
       "    </tr>\n",
       "  </tbody>\n",
       "</table>\n",
       "</div>"
      ],
      "text/plain": [
       "   news_id     values\n",
       "0      307  10.860273\n",
       "1      422   2.010328\n",
       "2     2329   1.892686\n",
       "3     1177   1.878166\n",
       "4     1044   1.790521"
      ]
     },
     "execution_count": 69,
     "metadata": {},
     "output_type": "execute_result"
    }
   ],
   "source": [
    "recommended_10.head()"
   ]
  },
  {
   "cell_type": "markdown",
   "id": "DlNiZx1GUr3C",
   "metadata": {
    "id": "DlNiZx1GUr3C"
   },
   "source": [
    "## Merge the data with news rating "
   ]
  },
  {
   "cell_type": "code",
   "execution_count": 70,
   "id": "3f0a56b9",
   "metadata": {
    "id": "3f0a56b9"
   },
   "outputs": [
    {
     "data": {
      "text/plain": [
       "(2987, 2)"
      ]
     },
     "execution_count": 70,
     "metadata": {},
     "output_type": "execute_result"
    }
   ],
   "source": [
    "# Getting item and news IDs in DataFrame\n",
    "\n",
    "ids = consumer_ratings[['item_id', 'news_id']].drop_duplicates()\n",
    "ids.shape"
   ]
  },
  {
   "cell_type": "code",
   "execution_count": 71,
   "id": "c9e5c470",
   "metadata": {
    "id": "c9e5c470"
   },
   "outputs": [
    {
     "data": {
      "text/html": [
       "<div>\n",
       "<style scoped>\n",
       "    .dataframe tbody tr th:only-of-type {\n",
       "        vertical-align: middle;\n",
       "    }\n",
       "\n",
       "    .dataframe tbody tr th {\n",
       "        vertical-align: top;\n",
       "    }\n",
       "\n",
       "    .dataframe thead th {\n",
       "        text-align: right;\n",
       "    }\n",
       "</style>\n",
       "<table border=\"1\" class=\"dataframe\">\n",
       "  <thead>\n",
       "    <tr style=\"text-align: right;\">\n",
       "      <th></th>\n",
       "      <th>item_id</th>\n",
       "      <th>news_id</th>\n",
       "    </tr>\n",
       "  </thead>\n",
       "  <tbody>\n",
       "    <tr>\n",
       "      <th>0</th>\n",
       "      <td>-3499919498720038879</td>\n",
       "      <td>933</td>\n",
       "    </tr>\n",
       "    <tr>\n",
       "      <th>1</th>\n",
       "      <td>8890720798209849691</td>\n",
       "      <td>2933</td>\n",
       "    </tr>\n",
       "    <tr>\n",
       "      <th>2</th>\n",
       "      <td>310515487419366995</td>\n",
       "      <td>1537</td>\n",
       "    </tr>\n",
       "    <tr>\n",
       "      <th>4</th>\n",
       "      <td>-7820640624231356730</td>\n",
       "      <td>246</td>\n",
       "    </tr>\n",
       "    <tr>\n",
       "      <th>6</th>\n",
       "      <td>-8864073373672512525</td>\n",
       "      <td>82</td>\n",
       "    </tr>\n",
       "  </tbody>\n",
       "</table>\n",
       "</div>"
      ],
      "text/plain": [
       "               item_id  news_id\n",
       "0 -3499919498720038879      933\n",
       "1  8890720798209849691     2933\n",
       "2   310515487419366995     1537\n",
       "4 -7820640624231356730      246\n",
       "6 -8864073373672512525       82"
      ]
     },
     "execution_count": 71,
     "metadata": {},
     "output_type": "execute_result"
    }
   ],
   "source": [
    "ids.head()"
   ]
  },
  {
   "cell_type": "code",
   "execution_count": 72,
   "id": "fa476221",
   "metadata": {
    "id": "fa476221"
   },
   "outputs": [
    {
     "data": {
      "text/html": [
       "<div>\n",
       "<style scoped>\n",
       "    .dataframe tbody tr th:only-of-type {\n",
       "        vertical-align: middle;\n",
       "    }\n",
       "\n",
       "    .dataframe tbody tr th {\n",
       "        vertical-align: top;\n",
       "    }\n",
       "\n",
       "    .dataframe thead th {\n",
       "        text-align: right;\n",
       "    }\n",
       "</style>\n",
       "<table border=\"1\" class=\"dataframe\">\n",
       "  <thead>\n",
       "    <tr style=\"text-align: right;\">\n",
       "      <th></th>\n",
       "      <th>news_id</th>\n",
       "      <th>values</th>\n",
       "      <th>item_id</th>\n",
       "    </tr>\n",
       "  </thead>\n",
       "  <tbody>\n",
       "    <tr>\n",
       "      <th>0</th>\n",
       "      <td>307</td>\n",
       "      <td>10.860273</td>\n",
       "      <td>-7463572107837163154</td>\n",
       "    </tr>\n",
       "    <tr>\n",
       "      <th>1</th>\n",
       "      <td>422</td>\n",
       "      <td>2.010328</td>\n",
       "      <td>-6713697716910928909</td>\n",
       "    </tr>\n",
       "    <tr>\n",
       "      <th>2</th>\n",
       "      <td>2329</td>\n",
       "      <td>1.892686</td>\n",
       "      <td>5237574390644778994</td>\n",
       "    </tr>\n",
       "    <tr>\n",
       "      <th>3</th>\n",
       "      <td>1177</td>\n",
       "      <td>1.878166</td>\n",
       "      <td>-1802980374508081539</td>\n",
       "    </tr>\n",
       "    <tr>\n",
       "      <th>4</th>\n",
       "      <td>1044</td>\n",
       "      <td>1.790521</td>\n",
       "      <td>-2747266787901704910</td>\n",
       "    </tr>\n",
       "  </tbody>\n",
       "</table>\n",
       "</div>"
      ],
      "text/plain": [
       "   news_id     values              item_id\n",
       "0      307  10.860273 -7463572107837163154\n",
       "1      422   2.010328 -6713697716910928909\n",
       "2     2329   1.892686  5237574390644778994\n",
       "3     1177   1.878166 -1802980374508081539\n",
       "4     1044   1.790521 -2747266787901704910"
      ]
     },
     "execution_count": 72,
     "metadata": {},
     "output_type": "execute_result"
    }
   ],
   "source": [
    "recommended_10 = pd.merge(recommended_10, ids, how = 'left', on = 'news_id')\n",
    "recommended_10.head()"
   ]
  },
  {
   "cell_type": "code",
   "execution_count": 73,
   "id": "a1413cd1",
   "metadata": {
    "id": "a1413cd1"
   },
   "outputs": [
    {
     "data": {
      "text/html": [
       "<div>\n",
       "<style scoped>\n",
       "    .dataframe tbody tr th:only-of-type {\n",
       "        vertical-align: middle;\n",
       "    }\n",
       "\n",
       "    .dataframe tbody tr th {\n",
       "        vertical-align: top;\n",
       "    }\n",
       "\n",
       "    .dataframe thead th {\n",
       "        text-align: right;\n",
       "    }\n",
       "</style>\n",
       "<table border=\"1\" class=\"dataframe\">\n",
       "  <thead>\n",
       "    <tr style=\"text-align: right;\">\n",
       "      <th></th>\n",
       "      <th>item_id</th>\n",
       "      <th>title</th>\n",
       "    </tr>\n",
       "  </thead>\n",
       "  <tbody>\n",
       "    <tr>\n",
       "      <th>0</th>\n",
       "      <td>-6451309518266745024</td>\n",
       "      <td>Ethereum, a Virtual Currency, Enables Transact...</td>\n",
       "    </tr>\n",
       "    <tr>\n",
       "      <th>1</th>\n",
       "      <td>-4110354420726924665</td>\n",
       "      <td>Ethereum, a Virtual Currency, Enables Transact...</td>\n",
       "    </tr>\n",
       "    <tr>\n",
       "      <th>2</th>\n",
       "      <td>-7292285110016212249</td>\n",
       "      <td>Bitcoin Future: When GBPcoin of Branson Wins O...</td>\n",
       "    </tr>\n",
       "    <tr>\n",
       "      <th>3</th>\n",
       "      <td>-6151852268067518688</td>\n",
       "      <td>Google Data Center 360° Tour</td>\n",
       "    </tr>\n",
       "    <tr>\n",
       "      <th>4</th>\n",
       "      <td>2448026894306402386</td>\n",
       "      <td>IBM Wants to \"Evolve the Internet\" With Blockc...</td>\n",
       "    </tr>\n",
       "  </tbody>\n",
       "</table>\n",
       "</div>"
      ],
      "text/plain": [
       "               item_id                                              title\n",
       "0 -6451309518266745024  Ethereum, a Virtual Currency, Enables Transact...\n",
       "1 -4110354420726924665  Ethereum, a Virtual Currency, Enables Transact...\n",
       "2 -7292285110016212249  Bitcoin Future: When GBPcoin of Branson Wins O...\n",
       "3 -6151852268067518688                       Google Data Center 360° Tour\n",
       "4  2448026894306402386  IBM Wants to \"Evolve the Internet\" With Blockc..."
      ]
     },
     "execution_count": 73,
     "metadata": {},
     "output_type": "execute_result"
    }
   ],
   "source": [
    "# Getting Item ID and Title from Platform_content data\n",
    "\n",
    "titles = item_data[['item_id', 'title']]\n",
    "titles.head()"
   ]
  },
  {
   "cell_type": "code",
   "execution_count": 74,
   "id": "49f71f00",
   "metadata": {
    "id": "49f71f00"
   },
   "outputs": [
    {
     "data": {
      "text/html": [
       "<div>\n",
       "<style scoped>\n",
       "    .dataframe tbody tr th:only-of-type {\n",
       "        vertical-align: middle;\n",
       "    }\n",
       "\n",
       "    .dataframe tbody tr th {\n",
       "        vertical-align: top;\n",
       "    }\n",
       "\n",
       "    .dataframe thead th {\n",
       "        text-align: right;\n",
       "    }\n",
       "</style>\n",
       "<table border=\"1\" class=\"dataframe\">\n",
       "  <thead>\n",
       "    <tr style=\"text-align: right;\">\n",
       "      <th></th>\n",
       "      <th>news_id</th>\n",
       "      <th>values</th>\n",
       "      <th>item_id</th>\n",
       "      <th>title</th>\n",
       "    </tr>\n",
       "  </thead>\n",
       "  <tbody>\n",
       "    <tr>\n",
       "      <th>0</th>\n",
       "      <td>307</td>\n",
       "      <td>10.860273</td>\n",
       "      <td>-7463572107837163154</td>\n",
       "      <td>Google's new translation software is almost as...</td>\n",
       "    </tr>\n",
       "    <tr>\n",
       "      <th>1</th>\n",
       "      <td>422</td>\n",
       "      <td>2.010328</td>\n",
       "      <td>-6713697716910928909</td>\n",
       "      <td>Solidity Available in Visual Studio - Ethereum...</td>\n",
       "    </tr>\n",
       "    <tr>\n",
       "      <th>2</th>\n",
       "      <td>2329</td>\n",
       "      <td>1.892686</td>\n",
       "      <td>5237574390644778994</td>\n",
       "      <td>Meet Parsey's Cousins: Syntax for 40 languages...</td>\n",
       "    </tr>\n",
       "    <tr>\n",
       "      <th>3</th>\n",
       "      <td>1177</td>\n",
       "      <td>1.878166</td>\n",
       "      <td>-1802980374508081539</td>\n",
       "      <td>Google's Schmidt Says Computers Not a Threat t...</td>\n",
       "    </tr>\n",
       "    <tr>\n",
       "      <th>4</th>\n",
       "      <td>1044</td>\n",
       "      <td>1.790521</td>\n",
       "      <td>-2747266787901704910</td>\n",
       "      <td>Bayer propõe comprar Monsanto para formar a ma...</td>\n",
       "    </tr>\n",
       "  </tbody>\n",
       "</table>\n",
       "</div>"
      ],
      "text/plain": [
       "   news_id     values              item_id  \\\n",
       "0      307  10.860273 -7463572107837163154   \n",
       "1      422   2.010328 -6713697716910928909   \n",
       "2     2329   1.892686  5237574390644778994   \n",
       "3     1177   1.878166 -1802980374508081539   \n",
       "4     1044   1.790521 -2747266787901704910   \n",
       "\n",
       "                                               title  \n",
       "0  Google's new translation software is almost as...  \n",
       "1  Solidity Available in Visual Studio - Ethereum...  \n",
       "2  Meet Parsey's Cousins: Syntax for 40 languages...  \n",
       "3  Google's Schmidt Says Computers Not a Threat t...  \n",
       "4  Bayer propõe comprar Monsanto para formar a ma...  "
      ]
     },
     "execution_count": 74,
     "metadata": {},
     "output_type": "execute_result"
    }
   ],
   "source": [
    "# Lets merge them\n",
    "\n",
    "recommended_10 = pd.merge(recommended_10, titles, how = 'left', on = 'item_id')\n",
    "recommended_10.head()"
   ]
  },
  {
   "cell_type": "code",
   "execution_count": 75,
   "id": "79d77380",
   "metadata": {
    "id": "79d77380"
   },
   "outputs": [],
   "source": [
    "# Lets impute normalized score\n",
    "\n",
    "recommended_10['Normalized_score'] = (recommended_10['values'] - min(recommended_10['values'])) / (max(recommended_10['values']) - min(recommended_10['values']))"
   ]
  },
  {
   "cell_type": "code",
   "execution_count": 76,
   "id": "4e30b2b2",
   "metadata": {
    "id": "4e30b2b2"
   },
   "outputs": [
    {
     "data": {
      "text/html": [
       "<div>\n",
       "<style scoped>\n",
       "    .dataframe tbody tr th:only-of-type {\n",
       "        vertical-align: middle;\n",
       "    }\n",
       "\n",
       "    .dataframe tbody tr th {\n",
       "        vertical-align: top;\n",
       "    }\n",
       "\n",
       "    .dataframe thead th {\n",
       "        text-align: right;\n",
       "    }\n",
       "</style>\n",
       "<table border=\"1\" class=\"dataframe\">\n",
       "  <thead>\n",
       "    <tr style=\"text-align: right;\">\n",
       "      <th></th>\n",
       "      <th>title</th>\n",
       "      <th>Normalized_score</th>\n",
       "    </tr>\n",
       "  </thead>\n",
       "  <tbody>\n",
       "    <tr>\n",
       "      <th>0</th>\n",
       "      <td>Google's new translation software is almost as...</td>\n",
       "      <td>1.000000</td>\n",
       "    </tr>\n",
       "    <tr>\n",
       "      <th>1</th>\n",
       "      <td>Solidity Available in Visual Studio - Ethereum...</td>\n",
       "      <td>0.185108</td>\n",
       "    </tr>\n",
       "    <tr>\n",
       "      <th>2</th>\n",
       "      <td>Meet Parsey's Cousins: Syntax for 40 languages...</td>\n",
       "      <td>0.174276</td>\n",
       "    </tr>\n",
       "    <tr>\n",
       "      <th>3</th>\n",
       "      <td>Google's Schmidt Says Computers Not a Threat t...</td>\n",
       "      <td>0.172939</td>\n",
       "    </tr>\n",
       "    <tr>\n",
       "      <th>4</th>\n",
       "      <td>Bayer propõe comprar Monsanto para formar a ma...</td>\n",
       "      <td>0.164869</td>\n",
       "    </tr>\n",
       "    <tr>\n",
       "      <th>5</th>\n",
       "      <td>Singapore bank wants you to talk to its chatbo...</td>\n",
       "      <td>0.159650</td>\n",
       "    </tr>\n",
       "    <tr>\n",
       "      <th>6</th>\n",
       "      <td>Running GV sprints inside corporates - learn f...</td>\n",
       "      <td>0.151982</td>\n",
       "    </tr>\n",
       "    <tr>\n",
       "      <th>7</th>\n",
       "      <td>19 Tips For Everyday Git Use</td>\n",
       "      <td>0.150547</td>\n",
       "    </tr>\n",
       "    <tr>\n",
       "      <th>8</th>\n",
       "      <td>Seguro de Pessoas</td>\n",
       "      <td>0.148662</td>\n",
       "    </tr>\n",
       "    <tr>\n",
       "      <th>9</th>\n",
       "      <td>Video: Steve Wozniak discusses the importance ...</td>\n",
       "      <td>0.143863</td>\n",
       "    </tr>\n",
       "  </tbody>\n",
       "</table>\n",
       "</div>"
      ],
      "text/plain": [
       "                                               title  Normalized_score\n",
       "0  Google's new translation software is almost as...          1.000000\n",
       "1  Solidity Available in Visual Studio - Ethereum...          0.185108\n",
       "2  Meet Parsey's Cousins: Syntax for 40 languages...          0.174276\n",
       "3  Google's Schmidt Says Computers Not a Threat t...          0.172939\n",
       "4  Bayer propõe comprar Monsanto para formar a ma...          0.164869\n",
       "5  Singapore bank wants you to talk to its chatbo...          0.159650\n",
       "6  Running GV sprints inside corporates - learn f...          0.151982\n",
       "7                       19 Tips For Everyday Git Use          0.150547\n",
       "8                                  Seguro de Pessoas          0.148662\n",
       "9  Video: Steve Wozniak discusses the importance ...          0.143863"
      ]
     },
     "execution_count": 76,
     "metadata": {},
     "output_type": "execute_result"
    }
   ],
   "source": [
    "# Top 10 recommended items\n",
    "\n",
    "recommended_10.sort_values(by = 'Normalized_score', ascending= False)[['title', 'Normalized_score']][:10]"
   ]
  },
  {
   "cell_type": "markdown",
   "id": "2215e66c",
   "metadata": {
    "id": "2215e66c"
   },
   "source": [
    "### Evaluation"
   ]
  },
  {
   "cell_type": "code",
   "execution_count": 77,
   "id": "c100fee4",
   "metadata": {
    "id": "c100fee4"
   },
   "outputs": [],
   "source": [
    "# Lets define Evaluation functions\n",
    "\n",
    "# MAE\n",
    "def mae(pred, truth):\n",
    "    pred = pred[truth.nonzero()]\n",
    "    truth = truth[truth.nonzero()]\n",
    "    return mean_absolute_error(pred, truth)\n",
    "\n",
    "# RMSE\n",
    "def rmse(pred, truth):\n",
    "    pred = pred[truth.nonzero()]\n",
    "    truth = truth[truth.nonzero()]\n",
    "    return sqrt(mean_squared_error(pred, truth))"
   ]
  },
  {
   "cell_type": "markdown",
   "id": "cd021dc1",
   "metadata": {
    "id": "cd021dc1"
   },
   "source": [
    "#### RMSE"
   ]
  },
  {
   "cell_type": "code",
   "execution_count": 78,
   "id": "a52bf528",
   "metadata": {
    "id": "a52bf528"
   },
   "outputs": [
    {
     "data": {
      "text/plain": [
       "7.36675597603169"
      ]
     },
     "execution_count": 78,
     "metadata": {},
     "output_type": "execute_result"
    }
   ],
   "source": [
    "rmse(item_pred, data_mat)"
   ]
  },
  {
   "cell_type": "markdown",
   "id": "6ac70095",
   "metadata": {
    "id": "6ac70095"
   },
   "source": [
    "#### MAE"
   ]
  },
  {
   "cell_type": "code",
   "execution_count": 79,
   "id": "4d533d58",
   "metadata": {
    "id": "4d533d58"
   },
   "outputs": [
    {
     "data": {
      "text/plain": [
       "4.327126564140783"
      ]
     },
     "execution_count": 79,
     "metadata": {},
     "output_type": "execute_result"
    }
   ],
   "source": [
    "mae(item_pred, data_mat)"
   ]
  },
  {
   "cell_type": "markdown",
   "id": "5ed31ce3",
   "metadata": {
    "id": "5ed31ce3"
   },
   "source": [
    "#### Precision@K"
   ]
  },
  {
   "cell_type": "code",
   "execution_count": 80,
   "id": "08e9d32a",
   "metadata": {
    "id": "08e9d32a",
    "scrolled": true
   },
   "outputs": [
    {
     "data": {
      "text/plain": [
       "[2109,\n",
       " 2018,\n",
       " 2703,\n",
       " 188,\n",
       " 2326,\n",
       " 290,\n",
       " 687,\n",
       " 1875,\n",
       " 694,\n",
       " 2680,\n",
       " 2577,\n",
       " 1973,\n",
       " 2901,\n",
       " 2566,\n",
       " 1600,\n",
       " 307,\n",
       " 2909,\n",
       " 2333,\n",
       " 826,\n",
       " 2632,\n",
       " 346,\n",
       " 2943,\n",
       " 135,\n",
       " 2017,\n",
       " 167,\n",
       " 1648,\n",
       " 569,\n",
       " 1984,\n",
       " 2739,\n",
       " 65,\n",
       " 2189,\n",
       " 1526,\n",
       " 493,\n",
       " 282,\n",
       " 1609,\n",
       " 1776,\n",
       " 1782,\n",
       " 1709,\n",
       " 702,\n",
       " 650,\n",
       " 2339,\n",
       " 1917,\n",
       " 2543]"
      ]
     },
     "execution_count": 80,
     "metadata": {},
     "output_type": "execute_result"
    }
   ],
   "source": [
    "# actual ratings\n",
    "\n",
    "actual_ratings = ratings[ratings['user_id'] == 10].sort_values(by = 'ratings', ascending= False)[\"news_id\"].tolist()\n",
    "actual_ratings"
   ]
  },
  {
   "cell_type": "code",
   "execution_count": 81,
   "id": "92e486a4",
   "metadata": {
    "id": "92e486a4"
   },
   "outputs": [],
   "source": [
    "# Predicted ratings\n",
    "\n",
    "predicted_ratings = pred_df.iloc[10].sort_values(ascending = False)[:10].index.tolist()"
   ]
  },
  {
   "cell_type": "code",
   "execution_count": 82,
   "id": "de5eba1e",
   "metadata": {
    "id": "de5eba1e"
   },
   "outputs": [
    {
     "data": {
      "text/plain": [
       "[307, 422, 2329, 1177, 1044, 36, 1936, 2899, 788, 2003]"
      ]
     },
     "execution_count": 82,
     "metadata": {},
     "output_type": "execute_result"
    }
   ],
   "source": [
    "predicted_ratings"
   ]
  },
  {
   "cell_type": "code",
   "execution_count": 83,
   "id": "0d109e01",
   "metadata": {
    "id": "0d109e01"
   },
   "outputs": [],
   "source": [
    "precision_10 = len(list(set(actual_ratings) & set(predicted_ratings)))/10"
   ]
  },
  {
   "cell_type": "code",
   "execution_count": 84,
   "id": "e7402c65",
   "metadata": {
    "id": "e7402c65"
   },
   "outputs": [
    {
     "data": {
      "text/plain": [
       "0.1"
      ]
     },
     "execution_count": 84,
     "metadata": {},
     "output_type": "execute_result"
    }
   ],
   "source": [
    "precision_10"
   ]
  },
  {
   "cell_type": "code",
   "execution_count": 85,
   "id": "WLoNA4xHUr3U",
   "metadata": {
    "id": "WLoNA4xHUr3U"
   },
   "outputs": [
    {
     "data": {
      "text/plain": [
       "1895"
      ]
     },
     "execution_count": 85,
     "metadata": {},
     "output_type": "execute_result"
    }
   ],
   "source": [
    "ratings.user_id.nunique()"
   ]
  },
  {
   "cell_type": "markdown",
   "id": "b0fbb2a8",
   "metadata": {
    "id": "b0fbb2a8"
   },
   "source": [
    "#### Global Average Precision@K"
   ]
  },
  {
   "cell_type": "code",
   "execution_count": 86,
   "id": "17ca803d",
   "metadata": {
    "id": "17ca803d"
   },
   "outputs": [],
   "source": [
    "global_precision = 0\n",
    "\n",
    "for n in range(0, ratings.user_id.nunique()):\n",
    "    actual_ratings_set = ratings[ratings['user_id'] == n].sort_values(by = 'ratings', ascending = False)['news_id'].tolist()\n",
    "    predicted_ratings_set = pred_df.iloc[n].sort_values(ascending = False)[:10].index.tolist()\n",
    "    precision_10 = (len(list(set(actual_ratings_set) & set(predicted_ratings_set))))/10\n",
    "    global_precision = global_precision + precision_10"
   ]
  },
  {
   "cell_type": "code",
   "execution_count": 87,
   "id": "a2df429d",
   "metadata": {
    "id": "a2df429d"
   },
   "outputs": [
    {
     "data": {
      "text/plain": [
       "11.799999999999985"
      ]
     },
     "execution_count": 87,
     "metadata": {},
     "output_type": "execute_result"
    }
   ],
   "source": [
    "global_precision"
   ]
  },
  {
   "cell_type": "code",
   "execution_count": 88,
   "id": "46755a44",
   "metadata": {
    "id": "46755a44"
   },
   "outputs": [
    {
     "data": {
      "text/plain": [
       "0.006226912928759886"
      ]
     },
     "execution_count": 88,
     "metadata": {},
     "output_type": "execute_result"
    }
   ],
   "source": [
    "global_avg_precision = global_precision / ratings['user_id'].nunique()\n",
    "global_avg_precision"
   ]
  },
  {
   "cell_type": "markdown",
   "id": "6b3d3ef7",
   "metadata": {
    "id": "6b3d3ef7"
   },
   "source": [
    "#### Filter Contents which have not viewed by user already"
   ]
  },
  {
   "cell_type": "code",
   "execution_count": 89,
   "id": "0d550354",
   "metadata": {
    "id": "0d550354"
   },
   "outputs": [
    {
     "data": {
      "text/plain": [
       "(408, 3)"
      ]
     },
     "execution_count": 89,
     "metadata": {},
     "output_type": "execute_result"
    }
   ],
   "source": [
    "user_df = ratings[ratings['user_id'] == 17]\n",
    "user_df.shape"
   ]
  },
  {
   "cell_type": "code",
   "execution_count": 90,
   "id": "ZLZz23U0Ur3Z",
   "metadata": {
    "id": "ZLZz23U0Ur3Z"
   },
   "outputs": [
    {
     "data": {
      "text/plain": [
       "(50938, 3)"
      ]
     },
     "execution_count": 90,
     "metadata": {},
     "output_type": "execute_result"
    }
   ],
   "source": [
    "ratings.shape"
   ]
  },
  {
   "cell_type": "code",
   "execution_count": 91,
   "id": "3e0225a5",
   "metadata": {
    "id": "3e0225a5"
   },
   "outputs": [
    {
     "data": {
      "text/html": [
       "<div>\n",
       "<style scoped>\n",
       "    .dataframe tbody tr th:only-of-type {\n",
       "        vertical-align: middle;\n",
       "    }\n",
       "\n",
       "    .dataframe tbody tr th {\n",
       "        vertical-align: top;\n",
       "    }\n",
       "\n",
       "    .dataframe thead th {\n",
       "        text-align: right;\n",
       "    }\n",
       "</style>\n",
       "<table border=\"1\" class=\"dataframe\">\n",
       "  <thead>\n",
       "    <tr style=\"text-align: right;\">\n",
       "      <th></th>\n",
       "      <th>news_id</th>\n",
       "      <th>values</th>\n",
       "      <th>item_id</th>\n",
       "      <th>title</th>\n",
       "      <th>Normalized_score</th>\n",
       "      <th>user_id</th>\n",
       "      <th>ratings</th>\n",
       "    </tr>\n",
       "  </thead>\n",
       "  <tbody>\n",
       "    <tr>\n",
       "      <th>0</th>\n",
       "      <td>307</td>\n",
       "      <td>10.860273</td>\n",
       "      <td>-7463572107837163154</td>\n",
       "      <td>Google's new translation software is almost as...</td>\n",
       "      <td>1.000000</td>\n",
       "      <td>NaN</td>\n",
       "      <td>NaN</td>\n",
       "    </tr>\n",
       "    <tr>\n",
       "      <th>1</th>\n",
       "      <td>422</td>\n",
       "      <td>2.010328</td>\n",
       "      <td>-6713697716910928909</td>\n",
       "      <td>Solidity Available in Visual Studio - Ethereum...</td>\n",
       "      <td>0.185108</td>\n",
       "      <td>NaN</td>\n",
       "      <td>NaN</td>\n",
       "    </tr>\n",
       "    <tr>\n",
       "      <th>2</th>\n",
       "      <td>2329</td>\n",
       "      <td>1.892686</td>\n",
       "      <td>5237574390644778994</td>\n",
       "      <td>Meet Parsey's Cousins: Syntax for 40 languages...</td>\n",
       "      <td>0.174276</td>\n",
       "      <td>NaN</td>\n",
       "      <td>NaN</td>\n",
       "    </tr>\n",
       "    <tr>\n",
       "      <th>3</th>\n",
       "      <td>1177</td>\n",
       "      <td>1.878166</td>\n",
       "      <td>-1802980374508081539</td>\n",
       "      <td>Google's Schmidt Says Computers Not a Threat t...</td>\n",
       "      <td>0.172939</td>\n",
       "      <td>NaN</td>\n",
       "      <td>NaN</td>\n",
       "    </tr>\n",
       "    <tr>\n",
       "      <th>4</th>\n",
       "      <td>1044</td>\n",
       "      <td>1.790521</td>\n",
       "      <td>-2747266787901704910</td>\n",
       "      <td>Bayer propõe comprar Monsanto para formar a ma...</td>\n",
       "      <td>0.164869</td>\n",
       "      <td>NaN</td>\n",
       "      <td>NaN</td>\n",
       "    </tr>\n",
       "    <tr>\n",
       "      <th>...</th>\n",
       "      <td>...</td>\n",
       "      <td>...</td>\n",
       "      <td>...</td>\n",
       "      <td>...</td>\n",
       "      <td>...</td>\n",
       "      <td>...</td>\n",
       "      <td>...</td>\n",
       "    </tr>\n",
       "    <tr>\n",
       "      <th>3110</th>\n",
       "      <td>1454</td>\n",
       "      <td>0.000000</td>\n",
       "      <td>-115909536143817330</td>\n",
       "      <td>8 must-see sessions for application developers...</td>\n",
       "      <td>0.000000</td>\n",
       "      <td>NaN</td>\n",
       "      <td>NaN</td>\n",
       "    </tr>\n",
       "    <tr>\n",
       "      <th>3111</th>\n",
       "      <td>1453</td>\n",
       "      <td>0.000000</td>\n",
       "      <td>-133139342397538859</td>\n",
       "      <td>Novo workaholic trabalha, pratica esportes e t...</td>\n",
       "      <td>0.000000</td>\n",
       "      <td>17.0</td>\n",
       "      <td>1.0</td>\n",
       "    </tr>\n",
       "    <tr>\n",
       "      <th>3112</th>\n",
       "      <td>1450</td>\n",
       "      <td>0.000000</td>\n",
       "      <td>-158184760257182670</td>\n",
       "      <td>Plug the Fathom Neural Compute Stick into any ...</td>\n",
       "      <td>0.000000</td>\n",
       "      <td>NaN</td>\n",
       "      <td>NaN</td>\n",
       "    </tr>\n",
       "    <tr>\n",
       "      <th>3113</th>\n",
       "      <td>1448</td>\n",
       "      <td>0.000000</td>\n",
       "      <td>-170687954910264210</td>\n",
       "      <td>As compras e os hábitos dos brasileiros no sho...</td>\n",
       "      <td>0.000000</td>\n",
       "      <td>NaN</td>\n",
       "      <td>NaN</td>\n",
       "    </tr>\n",
       "    <tr>\n",
       "      <th>3114</th>\n",
       "      <td>1493</td>\n",
       "      <td>0.000000</td>\n",
       "      <td>31349081826574004</td>\n",
       "      <td>9 trends you need to watch at CES 2017, from '...</td>\n",
       "      <td>0.000000</td>\n",
       "      <td>NaN</td>\n",
       "      <td>NaN</td>\n",
       "    </tr>\n",
       "  </tbody>\n",
       "</table>\n",
       "<p>3115 rows × 7 columns</p>\n",
       "</div>"
      ],
      "text/plain": [
       "      news_id     values              item_id  \\\n",
       "0         307  10.860273 -7463572107837163154   \n",
       "1         422   2.010328 -6713697716910928909   \n",
       "2        2329   1.892686  5237574390644778994   \n",
       "3        1177   1.878166 -1802980374508081539   \n",
       "4        1044   1.790521 -2747266787901704910   \n",
       "...       ...        ...                  ...   \n",
       "3110     1454   0.000000  -115909536143817330   \n",
       "3111     1453   0.000000  -133139342397538859   \n",
       "3112     1450   0.000000  -158184760257182670   \n",
       "3113     1448   0.000000  -170687954910264210   \n",
       "3114     1493   0.000000    31349081826574004   \n",
       "\n",
       "                                                  title  Normalized_score  \\\n",
       "0     Google's new translation software is almost as...          1.000000   \n",
       "1     Solidity Available in Visual Studio - Ethereum...          0.185108   \n",
       "2     Meet Parsey's Cousins: Syntax for 40 languages...          0.174276   \n",
       "3     Google's Schmidt Says Computers Not a Threat t...          0.172939   \n",
       "4     Bayer propõe comprar Monsanto para formar a ma...          0.164869   \n",
       "...                                                 ...               ...   \n",
       "3110  8 must-see sessions for application developers...          0.000000   \n",
       "3111  Novo workaholic trabalha, pratica esportes e t...          0.000000   \n",
       "3112  Plug the Fathom Neural Compute Stick into any ...          0.000000   \n",
       "3113  As compras e os hábitos dos brasileiros no sho...          0.000000   \n",
       "3114  9 trends you need to watch at CES 2017, from '...          0.000000   \n",
       "\n",
       "      user_id  ratings  \n",
       "0         NaN      NaN  \n",
       "1         NaN      NaN  \n",
       "2         NaN      NaN  \n",
       "3         NaN      NaN  \n",
       "4         NaN      NaN  \n",
       "...       ...      ...  \n",
       "3110      NaN      NaN  \n",
       "3111     17.0      1.0  \n",
       "3112      NaN      NaN  \n",
       "3113      NaN      NaN  \n",
       "3114      NaN      NaN  \n",
       "\n",
       "[3115 rows x 7 columns]"
      ]
     },
     "execution_count": 91,
     "metadata": {},
     "output_type": "execute_result"
    }
   ],
   "source": [
    "final_output = pd.merge(recommended_10, user_df, how = 'left', on = 'news_id')\n",
    "final_output"
   ]
  },
  {
   "cell_type": "code",
   "execution_count": 92,
   "id": "729f0228",
   "metadata": {
    "id": "729f0228"
   },
   "outputs": [
    {
     "data": {
      "text/plain": [
       "1.0    345\n",
       "2.0     34\n",
       "5.0     14\n",
       "4.0     10\n",
       "3.0      8\n",
       "Name: ratings, dtype: int64"
      ]
     },
     "execution_count": 92,
     "metadata": {},
     "output_type": "execute_result"
    }
   ],
   "source": [
    "# Lets check ratings column\n",
    "\n",
    "final_output.ratings.value_counts(dropna=True)"
   ]
  },
  {
   "cell_type": "code",
   "execution_count": 93,
   "id": "f4ea59b7",
   "metadata": {
    "id": "f4ea59b7"
   },
   "outputs": [],
   "source": [
    "final_output = final_output.drop(final_output[final_output['ratings'] > 0].index)"
   ]
  },
  {
   "cell_type": "code",
   "execution_count": 94,
   "id": "e77fef5b",
   "metadata": {
    "id": "e77fef5b"
   },
   "outputs": [
    {
     "data": {
      "text/plain": [
       "0     Google's new translation software is almost as...\n",
       "1     Solidity Available in Visual Studio - Ethereum...\n",
       "2     Meet Parsey's Cousins: Syntax for 40 languages...\n",
       "3     Google's Schmidt Says Computers Not a Threat t...\n",
       "4     Bayer propõe comprar Monsanto para formar a ma...\n",
       "5     Singapore bank wants you to talk to its chatbo...\n",
       "8                                     Seguro de Pessoas\n",
       "9     Video: Steve Wozniak discusses the importance ...\n",
       "10    AI Is Here to Help You Write Emails People Wil...\n",
       "11    [Security] How to Set Expiration Dates for Sha...\n",
       "Name: title, dtype: object"
      ]
     },
     "execution_count": 94,
     "metadata": {},
     "output_type": "execute_result"
    }
   ],
   "source": [
    "final_output.title[:10]"
   ]
  },
  {
   "cell_type": "code",
   "execution_count": 95,
   "id": "w_WAL9idUr3c",
   "metadata": {
    "id": "w_WAL9idUr3c"
   },
   "outputs": [
    {
     "data": {
      "text/plain": [
       "(2704, 7)"
      ]
     },
     "execution_count": 95,
     "metadata": {},
     "output_type": "execute_result"
    }
   ],
   "source": [
    "final_output.shape"
   ]
  },
  {
   "cell_type": "markdown",
   "id": "81ae17c2",
   "metadata": {
    "id": "81ae17c2"
   },
   "source": [
    "### Item based Collaborative filtering"
   ]
  },
  {
   "cell_type": "code",
   "execution_count": 96,
   "id": "64b34f9a",
   "metadata": {
    "id": "64b34f9a"
   },
   "outputs": [
    {
     "data": {
      "text/plain": [
       "(1895, 2987)"
      ]
     },
     "execution_count": 96,
     "metadata": {},
     "output_type": "execute_result"
    }
   ],
   "source": [
    "data_mat.shape"
   ]
  },
  {
   "cell_type": "code",
   "execution_count": 97,
   "id": "f88e10ee",
   "metadata": {
    "id": "f88e10ee"
   },
   "outputs": [
    {
     "data": {
      "text/plain": [
       "array([[0., 1., 0., ..., 0., 0., 0.],\n",
       "       [0., 0., 0., ..., 0., 0., 0.],\n",
       "       [0., 0., 0., ..., 0., 0., 0.],\n",
       "       ...,\n",
       "       [0., 0., 0., ..., 0., 0., 0.],\n",
       "       [0., 0., 0., ..., 0., 0., 0.],\n",
       "       [0., 0., 0., ..., 0., 0., 0.]])"
      ]
     },
     "execution_count": 97,
     "metadata": {},
     "output_type": "execute_result"
    }
   ],
   "source": [
    "# Transposing Data Matrix\n",
    "\n",
    "data_mat.T"
   ]
  },
  {
   "cell_type": "code",
   "execution_count": 98,
   "id": "2e86c510",
   "metadata": {
    "id": "2e86c510"
   },
   "outputs": [
    {
     "data": {
      "text/plain": [
       "(1895, 2987)"
      ]
     },
     "execution_count": 98,
     "metadata": {},
     "output_type": "execute_result"
    }
   ],
   "source": [
    "data_mat.shape"
   ]
  },
  {
   "cell_type": "code",
   "execution_count": 99,
   "id": "a0edbec6",
   "metadata": {
    "id": "a0edbec6"
   },
   "outputs": [],
   "source": [
    "## Item bases similarity\n",
    "item_sim = 1 - pairwise_distances(data_mat.T, metric='cosine')"
   ]
  },
  {
   "cell_type": "code",
   "execution_count": 100,
   "id": "fdf47f74",
   "metadata": {
    "id": "fdf47f74"
   },
   "outputs": [
    {
     "data": {
      "text/plain": [
       "(2987, 2987)"
      ]
     },
     "execution_count": 100,
     "metadata": {},
     "output_type": "execute_result"
    }
   ],
   "source": [
    "item_sim.shape"
   ]
  },
  {
   "cell_type": "code",
   "execution_count": 101,
   "id": "1c70e189",
   "metadata": {
    "id": "1c70e189"
   },
   "outputs": [
    {
     "data": {
      "text/plain": [
       "array([[1.        , 0.        , 0.        , ..., 0.        , 0.        ,\n",
       "        0.        ],\n",
       "       [0.        , 1.        , 0.15075567, ..., 0.03892495, 0.09534626,\n",
       "        0.        ],\n",
       "       [0.        , 0.15075567, 1.        , ..., 0.15061602, 0.        ,\n",
       "        0.13699916],\n",
       "       ...,\n",
       "       [0.        , 0.03892495, 0.15061602, ..., 1.        , 0.08164966,\n",
       "        0.        ],\n",
       "       [0.        , 0.09534626, 0.        , ..., 0.08164966, 1.        ,\n",
       "        0.        ],\n",
       "       [0.        , 0.        , 0.13699916, ..., 0.        , 0.        ,\n",
       "        1.        ]])"
      ]
     },
     "execution_count": 101,
     "metadata": {},
     "output_type": "execute_result"
    }
   ],
   "source": [
    "item_sim"
   ]
  },
  {
   "cell_type": "code",
   "execution_count": 102,
   "id": "ecd27f06",
   "metadata": {
    "id": "ecd27f06"
   },
   "outputs": [
    {
     "data": {
      "text/html": [
       "<div>\n",
       "<style scoped>\n",
       "    .dataframe tbody tr th:only-of-type {\n",
       "        vertical-align: middle;\n",
       "    }\n",
       "\n",
       "    .dataframe tbody tr th {\n",
       "        vertical-align: top;\n",
       "    }\n",
       "\n",
       "    .dataframe thead th {\n",
       "        text-align: right;\n",
       "    }\n",
       "</style>\n",
       "<table border=\"1\" class=\"dataframe\">\n",
       "  <thead>\n",
       "    <tr style=\"text-align: right;\">\n",
       "      <th></th>\n",
       "      <th>0</th>\n",
       "      <th>1</th>\n",
       "      <th>2</th>\n",
       "      <th>3</th>\n",
       "      <th>4</th>\n",
       "      <th>5</th>\n",
       "      <th>6</th>\n",
       "      <th>7</th>\n",
       "      <th>8</th>\n",
       "      <th>9</th>\n",
       "      <th>...</th>\n",
       "      <th>2977</th>\n",
       "      <th>2978</th>\n",
       "      <th>2979</th>\n",
       "      <th>2980</th>\n",
       "      <th>2981</th>\n",
       "      <th>2982</th>\n",
       "      <th>2983</th>\n",
       "      <th>2984</th>\n",
       "      <th>2985</th>\n",
       "      <th>2986</th>\n",
       "    </tr>\n",
       "  </thead>\n",
       "  <tbody>\n",
       "    <tr>\n",
       "      <th>0</th>\n",
       "      <td>1.000000</td>\n",
       "      <td>0.000000</td>\n",
       "      <td>0.000000</td>\n",
       "      <td>0.000000</td>\n",
       "      <td>0.062017</td>\n",
       "      <td>0.0</td>\n",
       "      <td>0.000000</td>\n",
       "      <td>0.000000</td>\n",
       "      <td>0.000000</td>\n",
       "      <td>0.000000</td>\n",
       "      <td>...</td>\n",
       "      <td>0.000000</td>\n",
       "      <td>0.000000</td>\n",
       "      <td>0.000000</td>\n",
       "      <td>0.000000</td>\n",
       "      <td>0.000000</td>\n",
       "      <td>0.000000</td>\n",
       "      <td>0.000000</td>\n",
       "      <td>0.000000</td>\n",
       "      <td>0.000000</td>\n",
       "      <td>0.000000</td>\n",
       "    </tr>\n",
       "    <tr>\n",
       "      <th>1</th>\n",
       "      <td>0.000000</td>\n",
       "      <td>1.000000</td>\n",
       "      <td>0.150756</td>\n",
       "      <td>0.000000</td>\n",
       "      <td>0.083624</td>\n",
       "      <td>0.0</td>\n",
       "      <td>0.000000</td>\n",
       "      <td>0.000000</td>\n",
       "      <td>0.000000</td>\n",
       "      <td>0.106600</td>\n",
       "      <td>...</td>\n",
       "      <td>0.000000</td>\n",
       "      <td>0.000000</td>\n",
       "      <td>0.000000</td>\n",
       "      <td>0.100504</td>\n",
       "      <td>0.337100</td>\n",
       "      <td>0.044455</td>\n",
       "      <td>0.000000</td>\n",
       "      <td>0.038925</td>\n",
       "      <td>0.095346</td>\n",
       "      <td>0.000000</td>\n",
       "    </tr>\n",
       "    <tr>\n",
       "      <th>2</th>\n",
       "      <td>0.000000</td>\n",
       "      <td>0.150756</td>\n",
       "      <td>1.000000</td>\n",
       "      <td>0.000000</td>\n",
       "      <td>0.138675</td>\n",
       "      <td>0.0</td>\n",
       "      <td>0.123091</td>\n",
       "      <td>0.117851</td>\n",
       "      <td>0.102062</td>\n",
       "      <td>0.294628</td>\n",
       "      <td>...</td>\n",
       "      <td>0.194444</td>\n",
       "      <td>0.083333</td>\n",
       "      <td>0.105409</td>\n",
       "      <td>0.277778</td>\n",
       "      <td>0.074536</td>\n",
       "      <td>0.049147</td>\n",
       "      <td>0.077152</td>\n",
       "      <td>0.150616</td>\n",
       "      <td>0.000000</td>\n",
       "      <td>0.136999</td>\n",
       "    </tr>\n",
       "    <tr>\n",
       "      <th>3</th>\n",
       "      <td>0.000000</td>\n",
       "      <td>0.000000</td>\n",
       "      <td>0.000000</td>\n",
       "      <td>1.000000</td>\n",
       "      <td>0.000000</td>\n",
       "      <td>0.0</td>\n",
       "      <td>0.000000</td>\n",
       "      <td>0.000000</td>\n",
       "      <td>0.000000</td>\n",
       "      <td>0.000000</td>\n",
       "      <td>...</td>\n",
       "      <td>0.178174</td>\n",
       "      <td>0.000000</td>\n",
       "      <td>0.169031</td>\n",
       "      <td>0.000000</td>\n",
       "      <td>0.000000</td>\n",
       "      <td>0.000000</td>\n",
       "      <td>0.000000</td>\n",
       "      <td>0.000000</td>\n",
       "      <td>0.000000</td>\n",
       "      <td>0.219687</td>\n",
       "    </tr>\n",
       "    <tr>\n",
       "      <th>4</th>\n",
       "      <td>0.062017</td>\n",
       "      <td>0.083624</td>\n",
       "      <td>0.138675</td>\n",
       "      <td>0.000000</td>\n",
       "      <td>1.000000</td>\n",
       "      <td>0.0</td>\n",
       "      <td>0.102418</td>\n",
       "      <td>0.000000</td>\n",
       "      <td>0.000000</td>\n",
       "      <td>0.098058</td>\n",
       "      <td>...</td>\n",
       "      <td>0.046225</td>\n",
       "      <td>0.069338</td>\n",
       "      <td>0.000000</td>\n",
       "      <td>0.184900</td>\n",
       "      <td>0.124035</td>\n",
       "      <td>0.245358</td>\n",
       "      <td>0.000000</td>\n",
       "      <td>0.035806</td>\n",
       "      <td>0.000000</td>\n",
       "      <td>0.000000</td>\n",
       "    </tr>\n",
       "    <tr>\n",
       "      <th>...</th>\n",
       "      <td>...</td>\n",
       "      <td>...</td>\n",
       "      <td>...</td>\n",
       "      <td>...</td>\n",
       "      <td>...</td>\n",
       "      <td>...</td>\n",
       "      <td>...</td>\n",
       "      <td>...</td>\n",
       "      <td>...</td>\n",
       "      <td>...</td>\n",
       "      <td>...</td>\n",
       "      <td>...</td>\n",
       "      <td>...</td>\n",
       "      <td>...</td>\n",
       "      <td>...</td>\n",
       "      <td>...</td>\n",
       "      <td>...</td>\n",
       "      <td>...</td>\n",
       "      <td>...</td>\n",
       "      <td>...</td>\n",
       "      <td>...</td>\n",
       "    </tr>\n",
       "    <tr>\n",
       "      <th>2982</th>\n",
       "      <td>0.000000</td>\n",
       "      <td>0.044455</td>\n",
       "      <td>0.049147</td>\n",
       "      <td>0.000000</td>\n",
       "      <td>0.245358</td>\n",
       "      <td>0.0</td>\n",
       "      <td>0.217786</td>\n",
       "      <td>0.000000</td>\n",
       "      <td>0.180579</td>\n",
       "      <td>0.000000</td>\n",
       "      <td>...</td>\n",
       "      <td>0.294884</td>\n",
       "      <td>0.442326</td>\n",
       "      <td>0.000000</td>\n",
       "      <td>0.049147</td>\n",
       "      <td>0.065938</td>\n",
       "      <td>1.000000</td>\n",
       "      <td>0.409514</td>\n",
       "      <td>0.076139</td>\n",
       "      <td>0.093250</td>\n",
       "      <td>0.000000</td>\n",
       "    </tr>\n",
       "    <tr>\n",
       "      <th>2983</th>\n",
       "      <td>0.000000</td>\n",
       "      <td>0.000000</td>\n",
       "      <td>0.077152</td>\n",
       "      <td>0.000000</td>\n",
       "      <td>0.000000</td>\n",
       "      <td>0.0</td>\n",
       "      <td>0.113961</td>\n",
       "      <td>0.000000</td>\n",
       "      <td>0.000000</td>\n",
       "      <td>0.000000</td>\n",
       "      <td>...</td>\n",
       "      <td>0.154303</td>\n",
       "      <td>0.385758</td>\n",
       "      <td>0.195180</td>\n",
       "      <td>0.000000</td>\n",
       "      <td>0.000000</td>\n",
       "      <td>0.409514</td>\n",
       "      <td>1.000000</td>\n",
       "      <td>0.039841</td>\n",
       "      <td>0.097590</td>\n",
       "      <td>0.126837</td>\n",
       "    </tr>\n",
       "    <tr>\n",
       "      <th>2984</th>\n",
       "      <td>0.000000</td>\n",
       "      <td>0.038925</td>\n",
       "      <td>0.150616</td>\n",
       "      <td>0.000000</td>\n",
       "      <td>0.035806</td>\n",
       "      <td>0.0</td>\n",
       "      <td>0.031782</td>\n",
       "      <td>0.000000</td>\n",
       "      <td>0.000000</td>\n",
       "      <td>0.000000</td>\n",
       "      <td>...</td>\n",
       "      <td>0.043033</td>\n",
       "      <td>0.129099</td>\n",
       "      <td>0.000000</td>\n",
       "      <td>0.129099</td>\n",
       "      <td>0.057735</td>\n",
       "      <td>0.076139</td>\n",
       "      <td>0.039841</td>\n",
       "      <td>1.000000</td>\n",
       "      <td>0.081650</td>\n",
       "      <td>0.000000</td>\n",
       "    </tr>\n",
       "    <tr>\n",
       "      <th>2985</th>\n",
       "      <td>0.000000</td>\n",
       "      <td>0.095346</td>\n",
       "      <td>0.000000</td>\n",
       "      <td>0.000000</td>\n",
       "      <td>0.000000</td>\n",
       "      <td>0.0</td>\n",
       "      <td>0.077850</td>\n",
       "      <td>0.000000</td>\n",
       "      <td>0.000000</td>\n",
       "      <td>0.000000</td>\n",
       "      <td>...</td>\n",
       "      <td>0.105409</td>\n",
       "      <td>0.158114</td>\n",
       "      <td>0.000000</td>\n",
       "      <td>0.000000</td>\n",
       "      <td>0.000000</td>\n",
       "      <td>0.093250</td>\n",
       "      <td>0.097590</td>\n",
       "      <td>0.081650</td>\n",
       "      <td>1.000000</td>\n",
       "      <td>0.000000</td>\n",
       "    </tr>\n",
       "    <tr>\n",
       "      <th>2986</th>\n",
       "      <td>0.000000</td>\n",
       "      <td>0.000000</td>\n",
       "      <td>0.136999</td>\n",
       "      <td>0.219687</td>\n",
       "      <td>0.000000</td>\n",
       "      <td>0.0</td>\n",
       "      <td>0.283306</td>\n",
       "      <td>0.000000</td>\n",
       "      <td>0.000000</td>\n",
       "      <td>0.000000</td>\n",
       "      <td>...</td>\n",
       "      <td>0.273998</td>\n",
       "      <td>0.000000</td>\n",
       "      <td>0.727825</td>\n",
       "      <td>0.000000</td>\n",
       "      <td>0.000000</td>\n",
       "      <td>0.000000</td>\n",
       "      <td>0.126837</td>\n",
       "      <td>0.000000</td>\n",
       "      <td>0.000000</td>\n",
       "      <td>1.000000</td>\n",
       "    </tr>\n",
       "  </tbody>\n",
       "</table>\n",
       "<p>2987 rows × 2987 columns</p>\n",
       "</div>"
      ],
      "text/plain": [
       "          0         1         2         3         4     5         6     \\\n",
       "0     1.000000  0.000000  0.000000  0.000000  0.062017   0.0  0.000000   \n",
       "1     0.000000  1.000000  0.150756  0.000000  0.083624   0.0  0.000000   \n",
       "2     0.000000  0.150756  1.000000  0.000000  0.138675   0.0  0.123091   \n",
       "3     0.000000  0.000000  0.000000  1.000000  0.000000   0.0  0.000000   \n",
       "4     0.062017  0.083624  0.138675  0.000000  1.000000   0.0  0.102418   \n",
       "...        ...       ...       ...       ...       ...   ...       ...   \n",
       "2982  0.000000  0.044455  0.049147  0.000000  0.245358   0.0  0.217786   \n",
       "2983  0.000000  0.000000  0.077152  0.000000  0.000000   0.0  0.113961   \n",
       "2984  0.000000  0.038925  0.150616  0.000000  0.035806   0.0  0.031782   \n",
       "2985  0.000000  0.095346  0.000000  0.000000  0.000000   0.0  0.077850   \n",
       "2986  0.000000  0.000000  0.136999  0.219687  0.000000   0.0  0.283306   \n",
       "\n",
       "          7         8         9     ...      2977      2978      2979  \\\n",
       "0     0.000000  0.000000  0.000000  ...  0.000000  0.000000  0.000000   \n",
       "1     0.000000  0.000000  0.106600  ...  0.000000  0.000000  0.000000   \n",
       "2     0.117851  0.102062  0.294628  ...  0.194444  0.083333  0.105409   \n",
       "3     0.000000  0.000000  0.000000  ...  0.178174  0.000000  0.169031   \n",
       "4     0.000000  0.000000  0.098058  ...  0.046225  0.069338  0.000000   \n",
       "...        ...       ...       ...  ...       ...       ...       ...   \n",
       "2982  0.000000  0.180579  0.000000  ...  0.294884  0.442326  0.000000   \n",
       "2983  0.000000  0.000000  0.000000  ...  0.154303  0.385758  0.195180   \n",
       "2984  0.000000  0.000000  0.000000  ...  0.043033  0.129099  0.000000   \n",
       "2985  0.000000  0.000000  0.000000  ...  0.105409  0.158114  0.000000   \n",
       "2986  0.000000  0.000000  0.000000  ...  0.273998  0.000000  0.727825   \n",
       "\n",
       "          2980      2981      2982      2983      2984      2985      2986  \n",
       "0     0.000000  0.000000  0.000000  0.000000  0.000000  0.000000  0.000000  \n",
       "1     0.100504  0.337100  0.044455  0.000000  0.038925  0.095346  0.000000  \n",
       "2     0.277778  0.074536  0.049147  0.077152  0.150616  0.000000  0.136999  \n",
       "3     0.000000  0.000000  0.000000  0.000000  0.000000  0.000000  0.219687  \n",
       "4     0.184900  0.124035  0.245358  0.000000  0.035806  0.000000  0.000000  \n",
       "...        ...       ...       ...       ...       ...       ...       ...  \n",
       "2982  0.049147  0.065938  1.000000  0.409514  0.076139  0.093250  0.000000  \n",
       "2983  0.000000  0.000000  0.409514  1.000000  0.039841  0.097590  0.126837  \n",
       "2984  0.129099  0.057735  0.076139  0.039841  1.000000  0.081650  0.000000  \n",
       "2985  0.000000  0.000000  0.093250  0.097590  0.081650  1.000000  0.000000  \n",
       "2986  0.000000  0.000000  0.000000  0.126837  0.000000  0.000000  1.000000  \n",
       "\n",
       "[2987 rows x 2987 columns]"
      ]
     },
     "execution_count": 102,
     "metadata": {},
     "output_type": "execute_result"
    }
   ],
   "source": [
    "## new data frame based on item similarity news recommendation\n",
    "news_pred = pd.DataFrame(item_sim)\n",
    "news_pred"
   ]
  },
  {
   "cell_type": "code",
   "execution_count": 103,
   "id": "070e23a2",
   "metadata": {
    "id": "070e23a2"
   },
   "outputs": [
    {
     "data": {
      "text/html": [
       "<div>\n",
       "<style scoped>\n",
       "    .dataframe tbody tr th:only-of-type {\n",
       "        vertical-align: middle;\n",
       "    }\n",
       "\n",
       "    .dataframe tbody tr th {\n",
       "        vertical-align: top;\n",
       "    }\n",
       "\n",
       "    .dataframe thead th {\n",
       "        text-align: right;\n",
       "    }\n",
       "</style>\n",
       "<table border=\"1\" class=\"dataframe\">\n",
       "  <thead>\n",
       "    <tr style=\"text-align: right;\">\n",
       "      <th></th>\n",
       "      <th>news_id</th>\n",
       "      <th>value</th>\n",
       "    </tr>\n",
       "  </thead>\n",
       "  <tbody>\n",
       "    <tr>\n",
       "      <th>0</th>\n",
       "      <td>20</td>\n",
       "      <td>1.0</td>\n",
       "    </tr>\n",
       "    <tr>\n",
       "      <th>1</th>\n",
       "      <td>2501</td>\n",
       "      <td>0.5</td>\n",
       "    </tr>\n",
       "    <tr>\n",
       "      <th>2</th>\n",
       "      <td>110</td>\n",
       "      <td>0.5</td>\n",
       "    </tr>\n",
       "    <tr>\n",
       "      <th>3</th>\n",
       "      <td>1172</td>\n",
       "      <td>0.5</td>\n",
       "    </tr>\n",
       "    <tr>\n",
       "      <th>4</th>\n",
       "      <td>1487</td>\n",
       "      <td>0.5</td>\n",
       "    </tr>\n",
       "  </tbody>\n",
       "</table>\n",
       "</div>"
      ],
      "text/plain": [
       "   news_id  value\n",
       "0       20    1.0\n",
       "1     2501    0.5\n",
       "2      110    0.5\n",
       "3     1172    0.5\n",
       "4     1487    0.5"
      ]
     },
     "execution_count": 103,
     "metadata": {},
     "output_type": "execute_result"
    }
   ],
   "source": [
    "# Similar items for article 20\n",
    "\n",
    "item_recommendation = pd.DataFrame(news_pred.iloc[20].sort_values(ascending = False)).reset_index()\n",
    "item_recommendation.columns = ['news_id', 'value']\n",
    "item_recommendation.head()"
   ]
  },
  {
   "cell_type": "code",
   "execution_count": 104,
   "id": "97e0e953",
   "metadata": {
    "id": "97e0e953"
   },
   "outputs": [
    {
     "data": {
      "text/html": [
       "<div>\n",
       "<style scoped>\n",
       "    .dataframe tbody tr th:only-of-type {\n",
       "        vertical-align: middle;\n",
       "    }\n",
       "\n",
       "    .dataframe tbody tr th {\n",
       "        vertical-align: top;\n",
       "    }\n",
       "\n",
       "    .dataframe thead th {\n",
       "        text-align: right;\n",
       "    }\n",
       "</style>\n",
       "<table border=\"1\" class=\"dataframe\">\n",
       "  <thead>\n",
       "    <tr style=\"text-align: right;\">\n",
       "      <th></th>\n",
       "      <th>item_id</th>\n",
       "      <th>news_id</th>\n",
       "    </tr>\n",
       "  </thead>\n",
       "  <tbody>\n",
       "    <tr>\n",
       "      <th>0</th>\n",
       "      <td>-3499919498720038879</td>\n",
       "      <td>933</td>\n",
       "    </tr>\n",
       "    <tr>\n",
       "      <th>1</th>\n",
       "      <td>8890720798209849691</td>\n",
       "      <td>2933</td>\n",
       "    </tr>\n",
       "    <tr>\n",
       "      <th>2</th>\n",
       "      <td>310515487419366995</td>\n",
       "      <td>1537</td>\n",
       "    </tr>\n",
       "    <tr>\n",
       "      <th>4</th>\n",
       "      <td>-7820640624231356730</td>\n",
       "      <td>246</td>\n",
       "    </tr>\n",
       "    <tr>\n",
       "      <th>6</th>\n",
       "      <td>-8864073373672512525</td>\n",
       "      <td>82</td>\n",
       "    </tr>\n",
       "  </tbody>\n",
       "</table>\n",
       "</div>"
      ],
      "text/plain": [
       "               item_id  news_id\n",
       "0 -3499919498720038879      933\n",
       "1  8890720798209849691     2933\n",
       "2   310515487419366995     1537\n",
       "4 -7820640624231356730      246\n",
       "6 -8864073373672512525       82"
      ]
     },
     "execution_count": 104,
     "metadata": {},
     "output_type": "execute_result"
    }
   ],
   "source": [
    "ids.head()"
   ]
  },
  {
   "cell_type": "code",
   "execution_count": 105,
   "id": "9ecf5d0b",
   "metadata": {
    "id": "9ecf5d0b",
    "scrolled": true
   },
   "outputs": [
    {
     "data": {
      "text/html": [
       "<div>\n",
       "<style scoped>\n",
       "    .dataframe tbody tr th:only-of-type {\n",
       "        vertical-align: middle;\n",
       "    }\n",
       "\n",
       "    .dataframe tbody tr th {\n",
       "        vertical-align: top;\n",
       "    }\n",
       "\n",
       "    .dataframe thead th {\n",
       "        text-align: right;\n",
       "    }\n",
       "</style>\n",
       "<table border=\"1\" class=\"dataframe\">\n",
       "  <thead>\n",
       "    <tr style=\"text-align: right;\">\n",
       "      <th></th>\n",
       "      <th>news_id</th>\n",
       "      <th>value</th>\n",
       "      <th>item_id</th>\n",
       "    </tr>\n",
       "  </thead>\n",
       "  <tbody>\n",
       "    <tr>\n",
       "      <th>0</th>\n",
       "      <td>20</td>\n",
       "      <td>1.0</td>\n",
       "      <td>-9107331682787867601</td>\n",
       "    </tr>\n",
       "    <tr>\n",
       "      <th>1</th>\n",
       "      <td>2501</td>\n",
       "      <td>0.5</td>\n",
       "      <td>6237714845306489877</td>\n",
       "    </tr>\n",
       "    <tr>\n",
       "      <th>2</th>\n",
       "      <td>110</td>\n",
       "      <td>0.5</td>\n",
       "      <td>-8689461307495241608</td>\n",
       "    </tr>\n",
       "    <tr>\n",
       "      <th>3</th>\n",
       "      <td>1172</td>\n",
       "      <td>0.5</td>\n",
       "      <td>-1852324383183073754</td>\n",
       "    </tr>\n",
       "    <tr>\n",
       "      <th>4</th>\n",
       "      <td>1487</td>\n",
       "      <td>0.5</td>\n",
       "      <td>1984587708208773</td>\n",
       "    </tr>\n",
       "  </tbody>\n",
       "</table>\n",
       "</div>"
      ],
      "text/plain": [
       "   news_id  value              item_id\n",
       "0       20    1.0 -9107331682787867601\n",
       "1     2501    0.5  6237714845306489877\n",
       "2      110    0.5 -8689461307495241608\n",
       "3     1172    0.5 -1852324383183073754\n",
       "4     1487    0.5     1984587708208773"
      ]
     },
     "execution_count": 105,
     "metadata": {},
     "output_type": "execute_result"
    }
   ],
   "source": [
    "# Lets merge above two\n",
    "\n",
    "sim_articles_20 = pd.merge(item_recommendation, ids, how='left', on='news_id')\n",
    "sim_articles_20.head()"
   ]
  },
  {
   "cell_type": "code",
   "execution_count": 106,
   "id": "e2c3dd6d",
   "metadata": {
    "id": "e2c3dd6d"
   },
   "outputs": [
    {
     "data": {
      "text/html": [
       "<div>\n",
       "<style scoped>\n",
       "    .dataframe tbody tr th:only-of-type {\n",
       "        vertical-align: middle;\n",
       "    }\n",
       "\n",
       "    .dataframe tbody tr th {\n",
       "        vertical-align: top;\n",
       "    }\n",
       "\n",
       "    .dataframe thead th {\n",
       "        text-align: right;\n",
       "    }\n",
       "</style>\n",
       "<table border=\"1\" class=\"dataframe\">\n",
       "  <thead>\n",
       "    <tr style=\"text-align: right;\">\n",
       "      <th></th>\n",
       "      <th>news_id</th>\n",
       "      <th>value</th>\n",
       "      <th>item_id</th>\n",
       "      <th>event_timestamp</th>\n",
       "      <th>interaction_type</th>\n",
       "      <th>producer_id</th>\n",
       "      <th>producer_session_id</th>\n",
       "      <th>producer_device_info</th>\n",
       "      <th>producer_location</th>\n",
       "      <th>producer_country</th>\n",
       "      <th>item_type</th>\n",
       "      <th>item_url</th>\n",
       "      <th>title</th>\n",
       "      <th>text_description</th>\n",
       "      <th>language</th>\n",
       "    </tr>\n",
       "  </thead>\n",
       "  <tbody>\n",
       "    <tr>\n",
       "      <th>0</th>\n",
       "      <td>20</td>\n",
       "      <td>1.0</td>\n",
       "      <td>-9107331682787867601</td>\n",
       "      <td>1459268965</td>\n",
       "      <td>content_present</td>\n",
       "      <td>-1032019229384696495</td>\n",
       "      <td>3042342415047984532</td>\n",
       "      <td>NaN</td>\n",
       "      <td>NaN</td>\n",
       "      <td>NaN</td>\n",
       "      <td>HTML</td>\n",
       "      <td>http://techcrunch.com/2016/03/29/hopper-raises...</td>\n",
       "      <td>Hopper raises $16 million for a travel app tha...</td>\n",
       "      <td>Hopper , the makers of a handy travel applicat...</td>\n",
       "      <td>en</td>\n",
       "    </tr>\n",
       "    <tr>\n",
       "      <th>1</th>\n",
       "      <td>2501</td>\n",
       "      <td>0.5</td>\n",
       "      <td>6237714845306489877</td>\n",
       "      <td>1469197339</td>\n",
       "      <td>content_present</td>\n",
       "      <td>5598537709124463353</td>\n",
       "      <td>4251869051817656115</td>\n",
       "      <td>NaN</td>\n",
       "      <td>NaN</td>\n",
       "      <td>NaN</td>\n",
       "      <td>HTML</td>\n",
       "      <td>https://hbr.org/2016/07/how-ceos-can-keep-thei...</td>\n",
       "      <td>How CEOs Can Keep Their Analytics Programs fro...</td>\n",
       "      <td>Create a FREE account to: Get eight free artic...</td>\n",
       "      <td>en</td>\n",
       "    </tr>\n",
       "    <tr>\n",
       "      <th>2</th>\n",
       "      <td>110</td>\n",
       "      <td>0.5</td>\n",
       "      <td>-8689461307495241608</td>\n",
       "      <td>1460996812</td>\n",
       "      <td>content_present</td>\n",
       "      <td>-1032019229384696495</td>\n",
       "      <td>1310371857892872479</td>\n",
       "      <td>NaN</td>\n",
       "      <td>NaN</td>\n",
       "      <td>NaN</td>\n",
       "      <td>HTML</td>\n",
       "      <td>http://techcrunch.com/2016/04/18/ebays-mobile-...</td>\n",
       "      <td>Ebay's mobile Craigslist competitor Close5 has...</td>\n",
       "      <td>In the U.S., the online classifieds space has ...</td>\n",
       "      <td>en</td>\n",
       "    </tr>\n",
       "    <tr>\n",
       "      <th>3</th>\n",
       "      <td>1172</td>\n",
       "      <td>0.5</td>\n",
       "      <td>-1852324383183073754</td>\n",
       "      <td>1461842382</td>\n",
       "      <td>content_present</td>\n",
       "      <td>-2979881261169775358</td>\n",
       "      <td>7934012616444916415</td>\n",
       "      <td>NaN</td>\n",
       "      <td>NaN</td>\n",
       "      <td>NaN</td>\n",
       "      <td>HTML</td>\n",
       "      <td>https://blog.bitpay.com/load-your-steam-wallet...</td>\n",
       "      <td>Load Your Steam Wallet Using Bitcoin</td>\n",
       "      <td>Today we're announcing a new payment integrati...</td>\n",
       "      <td>en</td>\n",
       "    </tr>\n",
       "    <tr>\n",
       "      <th>4</th>\n",
       "      <td>1487</td>\n",
       "      <td>0.5</td>\n",
       "      <td>1984587708208773</td>\n",
       "      <td>1486118047</td>\n",
       "      <td>content_present</td>\n",
       "      <td>-7606731662737258050</td>\n",
       "      <td>-8411451603021851508</td>\n",
       "      <td>Mozilla/5.0 (X11; Linux x86_64) AppleWebKit/53...</td>\n",
       "      <td>SP</td>\n",
       "      <td>BR</td>\n",
       "      <td>HTML</td>\n",
       "      <td>http://g1.globo.com/pop-arte/cinema/noticia/he...</td>\n",
       "      <td>Heroínas de 'Estrelas além do tempo' inspiram ...</td>\n",
       "      <td>Foto de meninas vestidas como trabalhadoras da...</td>\n",
       "      <td>pt</td>\n",
       "    </tr>\n",
       "  </tbody>\n",
       "</table>\n",
       "</div>"
      ],
      "text/plain": [
       "   news_id  value              item_id  event_timestamp interaction_type  \\\n",
       "0       20    1.0 -9107331682787867601       1459268965  content_present   \n",
       "1     2501    0.5  6237714845306489877       1469197339  content_present   \n",
       "2      110    0.5 -8689461307495241608       1460996812  content_present   \n",
       "3     1172    0.5 -1852324383183073754       1461842382  content_present   \n",
       "4     1487    0.5     1984587708208773       1486118047  content_present   \n",
       "\n",
       "           producer_id  producer_session_id  \\\n",
       "0 -1032019229384696495  3042342415047984532   \n",
       "1  5598537709124463353  4251869051817656115   \n",
       "2 -1032019229384696495  1310371857892872479   \n",
       "3 -2979881261169775358  7934012616444916415   \n",
       "4 -7606731662737258050 -8411451603021851508   \n",
       "\n",
       "                                producer_device_info producer_location  \\\n",
       "0                                                NaN               NaN   \n",
       "1                                                NaN               NaN   \n",
       "2                                                NaN               NaN   \n",
       "3                                                NaN               NaN   \n",
       "4  Mozilla/5.0 (X11; Linux x86_64) AppleWebKit/53...                SP   \n",
       "\n",
       "  producer_country item_type  \\\n",
       "0              NaN      HTML   \n",
       "1              NaN      HTML   \n",
       "2              NaN      HTML   \n",
       "3              NaN      HTML   \n",
       "4               BR      HTML   \n",
       "\n",
       "                                            item_url  \\\n",
       "0  http://techcrunch.com/2016/03/29/hopper-raises...   \n",
       "1  https://hbr.org/2016/07/how-ceos-can-keep-thei...   \n",
       "2  http://techcrunch.com/2016/04/18/ebays-mobile-...   \n",
       "3  https://blog.bitpay.com/load-your-steam-wallet...   \n",
       "4  http://g1.globo.com/pop-arte/cinema/noticia/he...   \n",
       "\n",
       "                                               title  \\\n",
       "0  Hopper raises $16 million for a travel app tha...   \n",
       "1  How CEOs Can Keep Their Analytics Programs fro...   \n",
       "2  Ebay's mobile Craigslist competitor Close5 has...   \n",
       "3               Load Your Steam Wallet Using Bitcoin   \n",
       "4  Heroínas de 'Estrelas além do tempo' inspiram ...   \n",
       "\n",
       "                                    text_description language  \n",
       "0  Hopper , the makers of a handy travel applicat...       en  \n",
       "1  Create a FREE account to: Get eight free artic...       en  \n",
       "2  In the U.S., the online classifieds space has ...       en  \n",
       "3  Today we're announcing a new payment integrati...       en  \n",
       "4  Foto de meninas vestidas como trabalhadoras da...       pt  "
      ]
     },
     "execution_count": 106,
     "metadata": {},
     "output_type": "execute_result"
    }
   ],
   "source": [
    "# Merging with Item Data provided\n",
    "\n",
    "sim_articles_20 = pd.merge(sim_articles_20, item_data, how = 'left', on = 'item_id')\n",
    "sim_articles_20.head()"
   ]
  },
  {
   "cell_type": "code",
   "execution_count": 107,
   "id": "182e1a50",
   "metadata": {
    "id": "182e1a50"
   },
   "outputs": [
    {
     "data": {
      "text/html": [
       "<div>\n",
       "<style scoped>\n",
       "    .dataframe tbody tr th:only-of-type {\n",
       "        vertical-align: middle;\n",
       "    }\n",
       "\n",
       "    .dataframe tbody tr th {\n",
       "        vertical-align: top;\n",
       "    }\n",
       "\n",
       "    .dataframe thead th {\n",
       "        text-align: right;\n",
       "    }\n",
       "</style>\n",
       "<table border=\"1\" class=\"dataframe\">\n",
       "  <thead>\n",
       "    <tr style=\"text-align: right;\">\n",
       "      <th></th>\n",
       "      <th>news_id</th>\n",
       "      <th>item_id</th>\n",
       "      <th>title</th>\n",
       "      <th>value</th>\n",
       "    </tr>\n",
       "  </thead>\n",
       "  <tbody>\n",
       "    <tr>\n",
       "      <th>0</th>\n",
       "      <td>20</td>\n",
       "      <td>-9107331682787867601</td>\n",
       "      <td>Hopper raises $16 million for a travel app tha...</td>\n",
       "      <td>1.0</td>\n",
       "    </tr>\n",
       "    <tr>\n",
       "      <th>1</th>\n",
       "      <td>2501</td>\n",
       "      <td>6237714845306489877</td>\n",
       "      <td>How CEOs Can Keep Their Analytics Programs fro...</td>\n",
       "      <td>0.5</td>\n",
       "    </tr>\n",
       "    <tr>\n",
       "      <th>2</th>\n",
       "      <td>110</td>\n",
       "      <td>-8689461307495241608</td>\n",
       "      <td>Ebay's mobile Craigslist competitor Close5 has...</td>\n",
       "      <td>0.5</td>\n",
       "    </tr>\n",
       "    <tr>\n",
       "      <th>3</th>\n",
       "      <td>1172</td>\n",
       "      <td>-1852324383183073754</td>\n",
       "      <td>Load Your Steam Wallet Using Bitcoin</td>\n",
       "      <td>0.5</td>\n",
       "    </tr>\n",
       "    <tr>\n",
       "      <th>4</th>\n",
       "      <td>1487</td>\n",
       "      <td>1984587708208773</td>\n",
       "      <td>Heroínas de 'Estrelas além do tempo' inspiram ...</td>\n",
       "      <td>0.5</td>\n",
       "    </tr>\n",
       "  </tbody>\n",
       "</table>\n",
       "</div>"
      ],
      "text/plain": [
       "   news_id              item_id  \\\n",
       "0       20 -9107331682787867601   \n",
       "1     2501  6237714845306489877   \n",
       "2      110 -8689461307495241608   \n",
       "3     1172 -1852324383183073754   \n",
       "4     1487     1984587708208773   \n",
       "\n",
       "                                               title  value  \n",
       "0  Hopper raises $16 million for a travel app tha...    1.0  \n",
       "1  How CEOs Can Keep Their Analytics Programs fro...    0.5  \n",
       "2  Ebay's mobile Craigslist competitor Close5 has...    0.5  \n",
       "3               Load Your Steam Wallet Using Bitcoin    0.5  \n",
       "4  Heroínas de 'Estrelas além do tempo' inspiram ...    0.5  "
      ]
     },
     "execution_count": 107,
     "metadata": {},
     "output_type": "execute_result"
    }
   ],
   "source": [
    "sim_articles_20 = sim_articles_20[['news_id', 'item_id', 'title', 'value']]\n",
    "sim_articles_20.head()"
   ]
  },
  {
   "cell_type": "code",
   "execution_count": 108,
   "id": "6143d056",
   "metadata": {
    "id": "6143d056"
   },
   "outputs": [
    {
     "data": {
      "text/html": [
       "<div>\n",
       "<style scoped>\n",
       "    .dataframe tbody tr th:only-of-type {\n",
       "        vertical-align: middle;\n",
       "    }\n",
       "\n",
       "    .dataframe tbody tr th {\n",
       "        vertical-align: top;\n",
       "    }\n",
       "\n",
       "    .dataframe thead th {\n",
       "        text-align: right;\n",
       "    }\n",
       "</style>\n",
       "<table border=\"1\" class=\"dataframe\">\n",
       "  <thead>\n",
       "    <tr style=\"text-align: right;\">\n",
       "      <th></th>\n",
       "      <th>news_id</th>\n",
       "      <th>item_id</th>\n",
       "      <th>title</th>\n",
       "      <th>value</th>\n",
       "      <th>normalized_score</th>\n",
       "    </tr>\n",
       "  </thead>\n",
       "  <tbody>\n",
       "    <tr>\n",
       "      <th>0</th>\n",
       "      <td>20</td>\n",
       "      <td>-9107331682787867601</td>\n",
       "      <td>Hopper raises $16 million for a travel app tha...</td>\n",
       "      <td>1.0</td>\n",
       "      <td>1.0</td>\n",
       "    </tr>\n",
       "    <tr>\n",
       "      <th>1</th>\n",
       "      <td>2501</td>\n",
       "      <td>6237714845306489877</td>\n",
       "      <td>How CEOs Can Keep Their Analytics Programs fro...</td>\n",
       "      <td>0.5</td>\n",
       "      <td>0.5</td>\n",
       "    </tr>\n",
       "    <tr>\n",
       "      <th>2</th>\n",
       "      <td>110</td>\n",
       "      <td>-8689461307495241608</td>\n",
       "      <td>Ebay's mobile Craigslist competitor Close5 has...</td>\n",
       "      <td>0.5</td>\n",
       "      <td>0.5</td>\n",
       "    </tr>\n",
       "    <tr>\n",
       "      <th>3</th>\n",
       "      <td>1172</td>\n",
       "      <td>-1852324383183073754</td>\n",
       "      <td>Load Your Steam Wallet Using Bitcoin</td>\n",
       "      <td>0.5</td>\n",
       "      <td>0.5</td>\n",
       "    </tr>\n",
       "    <tr>\n",
       "      <th>4</th>\n",
       "      <td>1487</td>\n",
       "      <td>1984587708208773</td>\n",
       "      <td>Heroínas de 'Estrelas além do tempo' inspiram ...</td>\n",
       "      <td>0.5</td>\n",
       "      <td>0.5</td>\n",
       "    </tr>\n",
       "  </tbody>\n",
       "</table>\n",
       "</div>"
      ],
      "text/plain": [
       "   news_id              item_id  \\\n",
       "0       20 -9107331682787867601   \n",
       "1     2501  6237714845306489877   \n",
       "2      110 -8689461307495241608   \n",
       "3     1172 -1852324383183073754   \n",
       "4     1487     1984587708208773   \n",
       "\n",
       "                                               title  value  normalized_score  \n",
       "0  Hopper raises $16 million for a travel app tha...    1.0               1.0  \n",
       "1  How CEOs Can Keep Their Analytics Programs fro...    0.5               0.5  \n",
       "2  Ebay's mobile Craigslist competitor Close5 has...    0.5               0.5  \n",
       "3               Load Your Steam Wallet Using Bitcoin    0.5               0.5  \n",
       "4  Heroínas de 'Estrelas além do tempo' inspiram ...    0.5               0.5  "
      ]
     },
     "execution_count": 108,
     "metadata": {},
     "output_type": "execute_result"
    }
   ],
   "source": [
    "# Lets impute normalized score\n",
    "\n",
    "sim_articles_20['normalized_score'] = (sim_articles_20['value'] - min(sim_articles_20['value'])) / (max(sim_articles_20['value']) - min(sim_articles_20['value']))\n",
    "sim_articles_20.sort_values(by='normalized_score', ascending= False)\n",
    "sim_articles_20.head()"
   ]
  },
  {
   "cell_type": "markdown",
   "id": "598c0adc",
   "metadata": {
    "id": "598c0adc"
   },
   "source": [
    "### Content based Recommendation"
   ]
  },
  {
   "cell_type": "code",
   "execution_count": 109,
   "id": "9a9230d9",
   "metadata": {
    "id": "9a9230d9",
    "scrolled": true
   },
   "outputs": [
    {
     "data": {
      "text/plain": [
       "(3122, 13)"
      ]
     },
     "execution_count": 109,
     "metadata": {},
     "output_type": "execute_result"
    }
   ],
   "source": [
    "item_data.shape"
   ]
  },
  {
   "cell_type": "code",
   "execution_count": 110,
   "id": "dab9c53a",
   "metadata": {
    "id": "dab9c53a"
   },
   "outputs": [
    {
     "data": {
      "text/plain": [
       "(2211, 13)"
      ]
     },
     "execution_count": 110,
     "metadata": {},
     "output_type": "execute_result"
    }
   ],
   "source": [
    "# Lets filter Language to English only and Interaction type with 'Content_present'\n",
    "\n",
    "eng_items = item_data[(item_data['language'] == 'en') & (item_data['interaction_type'] == 'content_present')]\n",
    "eng_items.shape"
   ]
  },
  {
   "cell_type": "code",
   "execution_count": 111,
   "id": "8a40d975",
   "metadata": {
    "id": "8a40d975"
   },
   "outputs": [
    {
     "data": {
      "text/html": [
       "<div>\n",
       "<style scoped>\n",
       "    .dataframe tbody tr th:only-of-type {\n",
       "        vertical-align: middle;\n",
       "    }\n",
       "\n",
       "    .dataframe tbody tr th {\n",
       "        vertical-align: top;\n",
       "    }\n",
       "\n",
       "    .dataframe thead th {\n",
       "        text-align: right;\n",
       "    }\n",
       "</style>\n",
       "<table border=\"1\" class=\"dataframe\">\n",
       "  <thead>\n",
       "    <tr style=\"text-align: right;\">\n",
       "      <th></th>\n",
       "      <th>event_timestamp</th>\n",
       "      <th>interaction_type</th>\n",
       "      <th>item_id</th>\n",
       "      <th>producer_id</th>\n",
       "      <th>producer_session_id</th>\n",
       "      <th>producer_device_info</th>\n",
       "      <th>producer_location</th>\n",
       "      <th>producer_country</th>\n",
       "      <th>item_type</th>\n",
       "      <th>item_url</th>\n",
       "      <th>title</th>\n",
       "      <th>text_description</th>\n",
       "      <th>language</th>\n",
       "    </tr>\n",
       "  </thead>\n",
       "  <tbody>\n",
       "    <tr>\n",
       "      <th>1</th>\n",
       "      <td>1459193988</td>\n",
       "      <td>content_present</td>\n",
       "      <td>-4110354420726924665</td>\n",
       "      <td>4340306774493623681</td>\n",
       "      <td>8940341205206233829</td>\n",
       "      <td>NaN</td>\n",
       "      <td>NaN</td>\n",
       "      <td>NaN</td>\n",
       "      <td>HTML</td>\n",
       "      <td>http://www.nytimes.com/2016/03/28/business/dea...</td>\n",
       "      <td>Ethereum, a Virtual Currency, Enables Transact...</td>\n",
       "      <td>All of this work is still very early. The firs...</td>\n",
       "      <td>en</td>\n",
       "    </tr>\n",
       "    <tr>\n",
       "      <th>2</th>\n",
       "      <td>1459194146</td>\n",
       "      <td>content_present</td>\n",
       "      <td>-7292285110016212249</td>\n",
       "      <td>4340306774493623681</td>\n",
       "      <td>8940341205206233829</td>\n",
       "      <td>NaN</td>\n",
       "      <td>NaN</td>\n",
       "      <td>NaN</td>\n",
       "      <td>HTML</td>\n",
       "      <td>http://cointelegraph.com/news/bitcoin-future-w...</td>\n",
       "      <td>Bitcoin Future: When GBPcoin of Branson Wins O...</td>\n",
       "      <td>The alarm clock wakes me at 8:00 with stream o...</td>\n",
       "      <td>en</td>\n",
       "    </tr>\n",
       "    <tr>\n",
       "      <th>3</th>\n",
       "      <td>1459194474</td>\n",
       "      <td>content_present</td>\n",
       "      <td>-6151852268067518688</td>\n",
       "      <td>3891637997717104548</td>\n",
       "      <td>-1457532940883382585</td>\n",
       "      <td>NaN</td>\n",
       "      <td>NaN</td>\n",
       "      <td>NaN</td>\n",
       "      <td>HTML</td>\n",
       "      <td>https://cloudplatform.googleblog.com/2016/03/G...</td>\n",
       "      <td>Google Data Center 360° Tour</td>\n",
       "      <td>We're excited to share the Google Data Center ...</td>\n",
       "      <td>en</td>\n",
       "    </tr>\n",
       "    <tr>\n",
       "      <th>4</th>\n",
       "      <td>1459194497</td>\n",
       "      <td>content_present</td>\n",
       "      <td>2448026894306402386</td>\n",
       "      <td>4340306774493623681</td>\n",
       "      <td>8940341205206233829</td>\n",
       "      <td>NaN</td>\n",
       "      <td>NaN</td>\n",
       "      <td>NaN</td>\n",
       "      <td>HTML</td>\n",
       "      <td>https://bitcoinmagazine.com/articles/ibm-wants...</td>\n",
       "      <td>IBM Wants to \"Evolve the Internet\" With Blockc...</td>\n",
       "      <td>The Aite Group projects the blockchain market ...</td>\n",
       "      <td>en</td>\n",
       "    </tr>\n",
       "    <tr>\n",
       "      <th>5</th>\n",
       "      <td>1459194522</td>\n",
       "      <td>content_present</td>\n",
       "      <td>-2826566343807132236</td>\n",
       "      <td>4340306774493623681</td>\n",
       "      <td>8940341205206233829</td>\n",
       "      <td>NaN</td>\n",
       "      <td>NaN</td>\n",
       "      <td>NaN</td>\n",
       "      <td>HTML</td>\n",
       "      <td>http://www.coindesk.com/ieee-blockchain-oxford...</td>\n",
       "      <td>IEEE to Talk Blockchain at Cloud Computing Oxf...</td>\n",
       "      <td>One of the largest and oldest organizations fo...</td>\n",
       "      <td>en</td>\n",
       "    </tr>\n",
       "  </tbody>\n",
       "</table>\n",
       "</div>"
      ],
      "text/plain": [
       "   event_timestamp interaction_type              item_id          producer_id  \\\n",
       "1       1459193988  content_present -4110354420726924665  4340306774493623681   \n",
       "2       1459194146  content_present -7292285110016212249  4340306774493623681   \n",
       "3       1459194474  content_present -6151852268067518688  3891637997717104548   \n",
       "4       1459194497  content_present  2448026894306402386  4340306774493623681   \n",
       "5       1459194522  content_present -2826566343807132236  4340306774493623681   \n",
       "\n",
       "   producer_session_id producer_device_info producer_location  \\\n",
       "1  8940341205206233829                  NaN               NaN   \n",
       "2  8940341205206233829                  NaN               NaN   \n",
       "3 -1457532940883382585                  NaN               NaN   \n",
       "4  8940341205206233829                  NaN               NaN   \n",
       "5  8940341205206233829                  NaN               NaN   \n",
       "\n",
       "  producer_country item_type  \\\n",
       "1              NaN      HTML   \n",
       "2              NaN      HTML   \n",
       "3              NaN      HTML   \n",
       "4              NaN      HTML   \n",
       "5              NaN      HTML   \n",
       "\n",
       "                                            item_url  \\\n",
       "1  http://www.nytimes.com/2016/03/28/business/dea...   \n",
       "2  http://cointelegraph.com/news/bitcoin-future-w...   \n",
       "3  https://cloudplatform.googleblog.com/2016/03/G...   \n",
       "4  https://bitcoinmagazine.com/articles/ibm-wants...   \n",
       "5  http://www.coindesk.com/ieee-blockchain-oxford...   \n",
       "\n",
       "                                               title  \\\n",
       "1  Ethereum, a Virtual Currency, Enables Transact...   \n",
       "2  Bitcoin Future: When GBPcoin of Branson Wins O...   \n",
       "3                       Google Data Center 360° Tour   \n",
       "4  IBM Wants to \"Evolve the Internet\" With Blockc...   \n",
       "5  IEEE to Talk Blockchain at Cloud Computing Oxf...   \n",
       "\n",
       "                                    text_description language  \n",
       "1  All of this work is still very early. The firs...       en  \n",
       "2  The alarm clock wakes me at 8:00 with stream o...       en  \n",
       "3  We're excited to share the Google Data Center ...       en  \n",
       "4  The Aite Group projects the blockchain market ...       en  \n",
       "5  One of the largest and oldest organizations fo...       en  "
      ]
     },
     "execution_count": 111,
     "metadata": {},
     "output_type": "execute_result"
    }
   ],
   "source": [
    "eng_items.head()"
   ]
  },
  {
   "cell_type": "code",
   "execution_count": 112,
   "id": "ef4bdd37",
   "metadata": {
    "id": "ef4bdd37"
   },
   "outputs": [],
   "source": [
    "eng_items = eng_items[['item_url', 'title', 'text_description']]"
   ]
  },
  {
   "cell_type": "code",
   "execution_count": 113,
   "id": "a3b69d68",
   "metadata": {
    "id": "a3b69d68"
   },
   "outputs": [
    {
     "data": {
      "text/html": [
       "<div>\n",
       "<style scoped>\n",
       "    .dataframe tbody tr th:only-of-type {\n",
       "        vertical-align: middle;\n",
       "    }\n",
       "\n",
       "    .dataframe tbody tr th {\n",
       "        vertical-align: top;\n",
       "    }\n",
       "\n",
       "    .dataframe thead th {\n",
       "        text-align: right;\n",
       "    }\n",
       "</style>\n",
       "<table border=\"1\" class=\"dataframe\">\n",
       "  <thead>\n",
       "    <tr style=\"text-align: right;\">\n",
       "      <th></th>\n",
       "      <th>item_url</th>\n",
       "      <th>title</th>\n",
       "      <th>text_description</th>\n",
       "    </tr>\n",
       "  </thead>\n",
       "  <tbody>\n",
       "    <tr>\n",
       "      <th>1</th>\n",
       "      <td>http://www.nytimes.com/2016/03/28/business/dealbook/ethereum-a-virtual-currency-enables-transactions-that-rival-bitcoins.html</td>\n",
       "      <td>Ethereum, a Virtual Currency, Enables Transactions That Rival Bitcoin's</td>\n",
       "      <td>All of this work is still very early. The first full public version of the Ethereum software was recently released, and the system could face some of the same technical and legal problems that have tarnished Bitcoin. Many Bitcoin advocates say Ethereum will face more security problems than Bitcoin because of the greater complexity of the software. Thus far, Ethereum has faced much less testing, and many fewer attacks, than Bitcoin. The novel design of Ethereum may also invite intense scrutiny by authorities given that potentially fraudulent contracts, like the Ponzi schemes, can be written directly into the Ethereum system. But the sophisticated capabilities of the system have made it fascinating to some executives in corporate America. IBM said last year that it was experimenting with Ethereum as a way to control real world objects in the so-called Internet of things. Microsoft has been working on several projects that make it easier to use Ethereum on its computing cloud, Azure. \"Ethereum is a general platform where you can solve problems in many industries using a fairly elegant solution - the most elegant solution we have seen to date,\" said Marley Gray, a director of business development and strategy at Microsoft. Mr. Gray is responsible for Microsoft's work with blockchains, the database concept that Bitcoin introduced. Blockchains are designed to store transactions and data without requiring any central authority or repository. Blockchain ledgers are generally maintained and updated by networks of computers working together - somewhat similar to the way that Wikipedia is updated and maintained by all its users. Many corporations, though, have created their own Ethereum networks with private blockchains, independent of the public system, and that could ultimately detract from the value of the individual unit in the Ethereum system - known as an Ether - that people have recently been buying. The interest in Ethereum is one sign of the corporate fascination with blockchains. Most major banks have expressed an interest in using them to make trading and money transfer faster and more efficient. On Tuesday, executives from the largest banks will gather for a conference, \"Blockchain: Tapping I nto the Real Potential , Cutting Through the Hype.\" Many of these banks have recently been looking at how some version of Ethereum might be put to use. JPMorgan, for instance, has created a specific tool, Masala, that allows some of its internal databases to interact with an Ethereum blockchain. Michael Novogratz, a former top executive at the private equity firm Fortress Investing Group, who helped lead Fortress's investment in Bitcoin, has been looking at Ethereum since he left Fortress last fall. Mr. Novogratz said that he made a \"significant\" purchase of Ether in January. He has also heard how the financial industry's chatter about the virtual currency has evolved. \"A lot of the more established players were thinking, 'It's still an experiment,' \" he said. \"It feels like in the last two to three months that experiment is at least getting a lot more validation.\" Since the beginning of the year, the value of an individual unit of Ether has soared as high as $12 from around $1. That has brought the value of all existing Ether to over $1 billion at times, significantly more than any virtual currency other than Bitcoin, which had over $6 billion in value outstanding last week. Since Bitcoin was invented, there have been many so-called alt-coins that have tried to improve on Bitcoin, but none have won the following of Ethereum. Unlike Bitcoin, which was released in 2009 by a mysterious creator known as Satoshi Nakamoto, Ethereum was created in a more transparent fashion by a 21-year-old Russian-Canadian, Vitalik Buterin, after he dropped out of Waterloo University in Ontario. The most basic aim of Ethereum was to make it possible to program binding agreements into the blockchain - the smart contract concept. Two people, for instance, could program a bet on a sports game directly into the Ethereum blockchain. Once the final score came in from a mutually agreed upon source - say, The Associated Press - the money would be automatically transferred to the winning party. Ether can be used as a currency in this system, but Ether are also necessary to pay for the network power needed to process the bet. The Ethereum system has sometimes been described as a single shared computer that is run by the network of users and on which resources are parceled out and paid for by Ether. A team of seven co-founders helped Mr. Buterin write up the software after he released the initial description of the system. Mr. Buterin's team raised $18 million in 2014 through a presale of Ether, which helped fund the Ethereum Foundation, which supports the software's development. Like Bitcoin, Ethereum has succeeded by attracting a dedicated network of followers who have helped support the software, partly in the hope that their Ether will increase in value if the system succeeds. Last week, there were 5,800 computers - or nodes - helping support the network around the world. The Bitcoin network had about 7,400 nodes. One of Mr. Buterin's co-founders, Joseph Lubin, has set up ConsenSys, a company based in Brooklyn that has hired over 50 developers to build applications on the Ethereum system, including one that enables music distribution and another that allows for a new kind of financial auditing. The ConsenSys offices are in an old industrial building in the Bushwick section of Brooklyn. The office is essentially one large room, with all the messy trademarks of a start-up operation, including white boards on the walls and computer parts lying around. Mr. Lubin said he had thrown himself into Ethereum after starting to think that it delivered on some of the failed promise of Bitcoin, especially when it came to allowing new kinds of online contracts and markets. \"Bitcoin presented the broad strokes vision, and Ethereum presented the crystallization of how to deliver that vision,\" he said. Joseph Bonneau, a computer science researcher at Stanford who studies so-called crypto-currencies, said Ethereum was the first system that had really caught his interest since Bitcoin. It is far from a sure thing, he cautioned. \"Bitcoin is still probably the safest bet, but Ethereum is certainly No. 2, and some folks will say it is more likely to be around in 10 years,\" Mr. Bonneau said. \"It will depend if any real markets develop around it. If there is some actual application.\"</td>\n",
       "    </tr>\n",
       "    <tr>\n",
       "      <th>2</th>\n",
       "      <td>http://cointelegraph.com/news/bitcoin-future-when-gbpcoin-of-branson-wins-over-usdcoin-of-trump</td>\n",
       "      <td>Bitcoin Future: When GBPcoin of Branson Wins Over USDcoin of Trump</td>\n",
       "      <td>The alarm clock wakes me at 8:00 with stream of advert-free broadcasting, charged at one satoshi per second. The current BTC exchange rate makes that snooze button a costly proposition! So I get up, make coffee and go to my computer to check the overnight performance of my bots. TradeBot earns me on Trump and Branson TradeBot, which allocates funds between the main chain and various national currency side-chains, generated a lucrative 0.24 BTC return. TradeBot has been reliably profitable ever since I set it to trade USDcoin according to political prediction market data. As expected, the latest poll numbers came in as highly supportive of Trump's re-election as USDcoin CEO. Trump's resistance to de-anonymizing public spending, by moving USDcoin off the Confidential Transactions layer, continues to erode his coin's credibility. In his latest speech, Trump maintains that full CT-privacy is essential to \"combatting CNYcoin's sinister ring-signature scheming.\" I make a note to increase my long position in GBPcoin. Following CEO Branson's memo to the effect that government finances and national banks be brought into compliance with the public blockchain , British corruption indices have flatlined. As the first national econmy to \"go light,\" Britain leads the global recovery from the Great Debt Default of '20. Happy with the GoatData Project I check TeachBot and note that it's performing in-line with expectations. TeachBot serves as an autonomous info-agent between various contracting AIs and data providers. The 0.5 BTC bounty it awarded to a team of Sherpas to outfit a herd of Tibetan mountain goats with full motion-sensing rigs has already been repaid...I check the latest figures... four times over! My best TeachBot strategy to date, the GoatData project provides valuable data to WinterHoof, the Artificial General Intelligence in charge of the Swiss military's quadripedal robotics program. At this rate, I'll soon have enough BTC to retire to Satoshi City on Mars!</td>\n",
       "    </tr>\n",
       "    <tr>\n",
       "      <th>3</th>\n",
       "      <td>https://cloudplatform.googleblog.com/2016/03/Google-Data-Center-360-Tour.html</td>\n",
       "      <td>Google Data Center 360° Tour</td>\n",
       "      <td>We're excited to share the Google Data Center 360° Tour - a YouTube 360° video that gives you an unprecedented and immersive look inside one of our data centers. There are several ways to view this video: On desktop using Google Chrome use your mouse or trackpad to change your view while the video plays YouTube app on mobile - move your device around to look at all angles while the video plays And the most immersive way to view - using Google Cardboard (currently supported by the Android YouTube app only, iOS support is coming soon!) Load the video in the YouTube app and tap on the Cardboard icon when the video starts to play. Insert your phone in Cardboard and look around. A little background . . . Several months ago, those of us on the Google Cloud Developer Advocacy Team had a rare opportunity to tour the Google data center in The Dalles, Oregon. Many of us had seen other non-Google data centers in our careers, but this experience was beyond anything we ever imagined. We were blown away by the scale, the incredible attention to security and privacy, and the amazing efforts to make the data center extremely efficient and green. Additionally, we were proud to meet some of the brilliant people that design, build and maintain these data centers. If you are a Google Cloud Platform customer, then this is your data center as much as it is our data center, so we want you to experience what we experienced. We hope you enjoy it! - Posted by Greg Wilson, Head of Developer Advocacy, Google Cloud Platform</td>\n",
       "    </tr>\n",
       "    <tr>\n",
       "      <th>4</th>\n",
       "      <td>https://bitcoinmagazine.com/articles/ibm-wants-to-evolve-the-internet-with-blockchain-technology-1459189322</td>\n",
       "      <td>IBM Wants to \"Evolve the Internet\" With Blockchain Technology</td>\n",
       "      <td>The Aite Group projects the blockchain market could be valued at $400 million by 2019. For that reason, some of the biggest names in banking, industry and technology have entered into the space to evaluate how this technology could change the financial world. IBM and Linux, for instance, have brought together some of the brightest minds in the industry and technology to work on blockchain technology through the Hyperledger Project. The Hyperledger Project is under the umbrella of the Linux Foundation, and seeks to incorporate findings by blockchain projects such as Blockstream, Ripple, Digital Asset Holdings and others in order to make blockchain technology useful for the world's biggest corporations. IBM has also contributed its own code to the project. According to John Wolpert, IBM's Global Blockchain Offering Director, when IBM and Linux began working together on the blockchain project, Linux made clear it wanted to \"disrupt the disruption,\" in part with their findings, as well as the data gathered by projects such as Ripple, Ethereum and others exploring the blockchain. The Linux foundation announced its Hyperledger project on December 17, 2015. Just one day later, 2,300 companies had requested to join. The second-largest open source foundation in the history of open source had only 450 inquiries. \"So, it's either going to be a holy mess or it's going to change the world,\" Wolpert said at The Blockchain Conference in San Francisco presented by Lighthouse Partners. As Wolford puts it, a team of IBMers is \"on a quest\" to understand and \"do something important\" with blockchain technology. \"I don't know why we got this rap in the '70s, way back, that we are not cool, that we're kind of stodgy, and that is not the IBM of my experience,\" Wolpert, who founded the taxi service Flywheel, explained. \"We're the original crazy people. The craziest people are the guys at IBM in the '60s and '70s -- you can imagine what they were doing in the '60s -- they are wild-eyed revolutionaries.\" Although this is not the image IBM markets, their work in quantum computing, quantum teleportation and neuro semantic chips count among some of the \"cool stuff\" IBM does, says Wolpert. IBM also approaches projects in the spirit of open innovation, and not proprietarily. \"Our method of operations is open, and it's often our MO to back not-our-thing,\" he said of IBM since the 1990s. Wolpert cites Java as one such project: \"You would not know about Java today if it weren't for IBM.\" As a \"pretty young dude,\" Wolpert was in the room when IBM made a billion-dollar decision to back Linux over its own technology. He also cites IBM's work on XML as an example of IBM's dedication to open innovation. Currently, IBM has employees working on crypto-security and distributed systems who have been working on consensus algorithms for their entire careers, some for more than 30 years. \"They're crazy smart, we're planetary, we've gone from a couple of guys in a canoe, to a platoon and approaching an army of people working on blockchain,\" Wolpert said. \"So it feels a lot like my first job at IBM which was making Java real for business.\" This has led old and new friends to contact the the multinational technology and consulting corporation. \"Banks who have been calling us constantly ... saying 'What's your view on blockchain?' or 'Hey, let's do a project together on blockchain,'\" Wolpert said. \"We've been doing all these crazy projects on blockchain, every kind of blockchain, and learning a lot, been doing that for a couple years and really started to accelerate last year.\" Today, there is a whole unit dedicated to blockchain technology at Linux Foundation. \"We went all-in on blockchain,\" he explained. What's it all about for Wolpert? \"It's about evolving the Internet.\" Bitcoin is important for moving money around without a single authority. \"[Bitcoin] is a solution to a problem, a specific problem, of people who need to move money around in environments where you don't trust the government,\" Wolpert said. \"I think we can all agree we are approaching the end of the era where a single authority manages trust and gets compensated for the risk in doing so.\" In Wolpert's view, finance does not need to go from today's system of trust -- where consumers trust institutions to handle their money -- to one of complete trustlessness, like the Bitcoin system in which a protocol, not a centralized authority, manages the movement of value. \"It doesn't follow, having one single trust authority to trustlessness on everything,\" he said. \"There is a false dichotomy between the notion of trust and trustlessness, that you have to have a walled garden on one side and Bitcoin on the other.\" He doesn't compare Bitcoin to the Internet, saying that's a wrong analogy. \"It is not apt to say the Internet is like Bitcoin; the Internet is, from the perspective of Bitcoin, a permissioned walled garden,\" he said. \"Ever heard of ICANN? It's permissive, but it's permissioned.\" Bitcoin, Ripple and Ethereum are \"Iteration 1\" of blockchain technology, the three time IBMer told his audience. Wolpert thinks blockchain technology will soon evolve to \"Iteration 2.\" The problem with it? \"The Internet is constrained,\" Wolpert said. \"You have a fabric that allows for lots of competition on platforms and huge amounts of competition on solutions and applications on top of it, so we need to evolve the Internet to become economically aware, and that Internet isn't going to be an application, it is going to be a fabric and then lots of applications on top of that.\" This doesn't mean blockchain 2.0 technologies such as Blockstream, Ethereum and Ripple are lost causes that must now completely retool. The Linux Foundation, in fact, works with Ethereum and Ripple employees. With its blockchain projects, IBM is not focused on moving a cryptocurrency. \"Lots of banks pay us lots of money and we like that, and we want to radically improve them,\" Wolpert explained. \"[Bankers] are gonna try like heck to radically improve what is going on ahead of the disruption, disrupt themselves if you will. If you look at things like [Overstock's] t0, that's happening, might happen on Bitcoin protocol, but might not, and there's plenty of ways to solve it, when you commit to it. And sure, Bitcoin has woken [banks] up to this, so it's doing its job, it's disrupting the thinking and maybe that is all that is necessary.\" Wolpert wonders aloud during his speech if the world would have iTunes were it not for Napster, or Netflix if it weren't for BitTorrent. The former head of products for IBM's Watson Ecosystem says IBM currently has a \"boomtown with giant numbers of people at IBM and everywhere else\" investigating the blockchain problem and how distributed technology can be made useful for industry. He details how oftentimes IBM tinkers with open innovations itself to make the technology ready for industry. That's not the route being taken with Bitcoin. That the Bitcoin network is on par with Ireland for energy consumption, and that mining consortiums could eventually dictate that market, scares the firm away from dealing directly with Bitcoin. \"What I want to see, what we want to see, is a world full of companies who I can know, who I can identify, who are so spread out, like the Internet,\" he said. Wolpert cites the Arab Spring, and the role the Internet played in that uprising, as how a permissioned, yet permissive, structure functions. Websites, albeit technology permissioned by ICANN, remained online during the protests and played a major role. What's the risk in experimenting with blockchain? \"The risk is we go crazy, we have an unruly mess,\" Wolpert warned. \"[But] it's the Linux Foundation, we've been in this movie before. While there's a lot of really smart guys working on Bitcoin and startups, we've got equally amount of people who also have 20 or 30 years of experience with open source and open innovation, and I think we have a good shot at maintaining restraints, keeping it scoped down, keeping it simple, but getting it to something that is useful.\"</td>\n",
       "    </tr>\n",
       "    <tr>\n",
       "      <th>5</th>\n",
       "      <td>http://www.coindesk.com/ieee-blockchain-oxford-cloud-computing/</td>\n",
       "      <td>IEEE to Talk Blockchain at Cloud Computing Oxford-Con - CoinDesk</td>\n",
       "      <td>One of the largest and oldest organizations for computing professionals will kick off its annual conference on the future of mobile cloud computing tomorrow, where blockchain is scheduled to be one of the attractions. With more than 421,000 members in 260 countries, the Institute of Electrical and Electronics Engineers (IEEE) holding such a high-profile event has the potential to accelerate the rate of blockchain adoption by the engineering community. At the four-day conference, beginning Tuesday, the IEEE will host five blockchain seminars at the 702-year-old Exeter College of Oxford. The conference, IEEE Mobile Cloud 2016, is the organization's fourth annual event dedicated to mobile cloud computing services and engineering. Speaking at the event, hosted at Oxford University, professor Wei-Tek Tsai of the School of Computing, Informatics and Decision Systems engineering at Arizona State University will talk about the future of blockchain technology as an academic topic of research. Computing shift While this looks to be the first IEEE conference to deal so closely with blockchain, its presence at an event dedicated to cloud computing is no surprise. 2016 is shaping up to be the year many stopped talking about bitcoin as a decentralized ledger and started talking about it as a database. Last month, IBM made a huge splash in the blockchain ecosystem when it announced among a wide range of other news, that it would be offering a wide range of blockchain-related initiatives. Further, in November, Microsoft coined the term Blockchain-as-a-Service (BaaS) to describe its sandbox environment where developers could experiment with tools hosted on the company's Azure Cloud platform. Companies including ConsenSys, Augur, BitShares and Slock.it have joined that effort. Oxford University via Shutterstock</td>\n",
       "    </tr>\n",
       "  </tbody>\n",
       "</table>\n",
       "</div>"
      ],
      "text/plain": [
       "                                                                                                                        item_url  \\\n",
       "1  http://www.nytimes.com/2016/03/28/business/dealbook/ethereum-a-virtual-currency-enables-transactions-that-rival-bitcoins.html   \n",
       "2                                http://cointelegraph.com/news/bitcoin-future-when-gbpcoin-of-branson-wins-over-usdcoin-of-trump   \n",
       "3                                                  https://cloudplatform.googleblog.com/2016/03/Google-Data-Center-360-Tour.html   \n",
       "4                    https://bitcoinmagazine.com/articles/ibm-wants-to-evolve-the-internet-with-blockchain-technology-1459189322   \n",
       "5                                                                http://www.coindesk.com/ieee-blockchain-oxford-cloud-computing/   \n",
       "\n",
       "                                                                     title  \\\n",
       "1  Ethereum, a Virtual Currency, Enables Transactions That Rival Bitcoin's   \n",
       "2       Bitcoin Future: When GBPcoin of Branson Wins Over USDcoin of Trump   \n",
       "3                                             Google Data Center 360° Tour   \n",
       "4            IBM Wants to \"Evolve the Internet\" With Blockchain Technology   \n",
       "5         IEEE to Talk Blockchain at Cloud Computing Oxford-Con - CoinDesk   \n",
       "\n",
       "                                                                                                                                                                                                                                                                                                                                                                                                                                                                                                                                                                                                                                                                                                                                                                                                                                                                                                                                                                                                                                                                                                                                                                                                                                                                                                                                                                                                                                                                                                                                                                                                                                                                                                                                                                                                                                                                                                                                                                                                                                                                                                                                                                                                                                                                                                                                                                                                                                                                                                                                                                                                                                                                                                                                                                                                                                                                                                                                                                                                                                                                                                                                                                                                                                                                                                                                                                                                                                                                                                                                                                                                                                                                                                                                                                                                                                                                                                                                                                                                                                                                                                                                                                                                                                                                                                                                                                                                                                                                                                                                                                                                                                                                                                                                                                                                                                                                                                                                                                                                                                                                                                                                                                                                                                                                                                                                                                                                                                                                                                                                                                                                                                                                                                                                                                                                                                                                                                                                                                                                                                                                                                                                                                                                                                                                                                                                                                                                                                                                                                                                                                                                                                                                                                                                                                                                                                                                                                                                                                                                                                                                                                                                                                                                                                                                                                                                                                                                                                                                                                                                                                                                                                                                                                                                                                                                                                                                                                                                                                                                                                                                                                                                                                                                                                                                                                                                                                                                                text_description  \n",
       "1                                                                                                                                                                                                                                                                                                                                                                                                                                                                                                                                                                                                                                                                                                                                                                                                                                                                                                                                                                                                                                                                                                                                                                                                                                                                                                                                                                                                                                                                                                                                                                                                                All of this work is still very early. The first full public version of the Ethereum software was recently released, and the system could face some of the same technical and legal problems that have tarnished Bitcoin. Many Bitcoin advocates say Ethereum will face more security problems than Bitcoin because of the greater complexity of the software. Thus far, Ethereum has faced much less testing, and many fewer attacks, than Bitcoin. The novel design of Ethereum may also invite intense scrutiny by authorities given that potentially fraudulent contracts, like the Ponzi schemes, can be written directly into the Ethereum system. But the sophisticated capabilities of the system have made it fascinating to some executives in corporate America. IBM said last year that it was experimenting with Ethereum as a way to control real world objects in the so-called Internet of things. Microsoft has been working on several projects that make it easier to use Ethereum on its computing cloud, Azure. \"Ethereum is a general platform where you can solve problems in many industries using a fairly elegant solution - the most elegant solution we have seen to date,\" said Marley Gray, a director of business development and strategy at Microsoft. Mr. Gray is responsible for Microsoft's work with blockchains, the database concept that Bitcoin introduced. Blockchains are designed to store transactions and data without requiring any central authority or repository. Blockchain ledgers are generally maintained and updated by networks of computers working together - somewhat similar to the way that Wikipedia is updated and maintained by all its users. Many corporations, though, have created their own Ethereum networks with private blockchains, independent of the public system, and that could ultimately detract from the value of the individual unit in the Ethereum system - known as an Ether - that people have recently been buying. The interest in Ethereum is one sign of the corporate fascination with blockchains. Most major banks have expressed an interest in using them to make trading and money transfer faster and more efficient. On Tuesday, executives from the largest banks will gather for a conference, \"Blockchain: Tapping I nto the Real Potential , Cutting Through the Hype.\" Many of these banks have recently been looking at how some version of Ethereum might be put to use. JPMorgan, for instance, has created a specific tool, Masala, that allows some of its internal databases to interact with an Ethereum blockchain. Michael Novogratz, a former top executive at the private equity firm Fortress Investing Group, who helped lead Fortress's investment in Bitcoin, has been looking at Ethereum since he left Fortress last fall. Mr. Novogratz said that he made a \"significant\" purchase of Ether in January. He has also heard how the financial industry's chatter about the virtual currency has evolved. \"A lot of the more established players were thinking, 'It's still an experiment,' \" he said. \"It feels like in the last two to three months that experiment is at least getting a lot more validation.\" Since the beginning of the year, the value of an individual unit of Ether has soared as high as $12 from around $1. That has brought the value of all existing Ether to over $1 billion at times, significantly more than any virtual currency other than Bitcoin, which had over $6 billion in value outstanding last week. Since Bitcoin was invented, there have been many so-called alt-coins that have tried to improve on Bitcoin, but none have won the following of Ethereum. Unlike Bitcoin, which was released in 2009 by a mysterious creator known as Satoshi Nakamoto, Ethereum was created in a more transparent fashion by a 21-year-old Russian-Canadian, Vitalik Buterin, after he dropped out of Waterloo University in Ontario. The most basic aim of Ethereum was to make it possible to program binding agreements into the blockchain - the smart contract concept. Two people, for instance, could program a bet on a sports game directly into the Ethereum blockchain. Once the final score came in from a mutually agreed upon source - say, The Associated Press - the money would be automatically transferred to the winning party. Ether can be used as a currency in this system, but Ether are also necessary to pay for the network power needed to process the bet. The Ethereum system has sometimes been described as a single shared computer that is run by the network of users and on which resources are parceled out and paid for by Ether. A team of seven co-founders helped Mr. Buterin write up the software after he released the initial description of the system. Mr. Buterin's team raised $18 million in 2014 through a presale of Ether, which helped fund the Ethereum Foundation, which supports the software's development. Like Bitcoin, Ethereum has succeeded by attracting a dedicated network of followers who have helped support the software, partly in the hope that their Ether will increase in value if the system succeeds. Last week, there were 5,800 computers - or nodes - helping support the network around the world. The Bitcoin network had about 7,400 nodes. One of Mr. Buterin's co-founders, Joseph Lubin, has set up ConsenSys, a company based in Brooklyn that has hired over 50 developers to build applications on the Ethereum system, including one that enables music distribution and another that allows for a new kind of financial auditing. The ConsenSys offices are in an old industrial building in the Bushwick section of Brooklyn. The office is essentially one large room, with all the messy trademarks of a start-up operation, including white boards on the walls and computer parts lying around. Mr. Lubin said he had thrown himself into Ethereum after starting to think that it delivered on some of the failed promise of Bitcoin, especially when it came to allowing new kinds of online contracts and markets. \"Bitcoin presented the broad strokes vision, and Ethereum presented the crystallization of how to deliver that vision,\" he said. Joseph Bonneau, a computer science researcher at Stanford who studies so-called crypto-currencies, said Ethereum was the first system that had really caught his interest since Bitcoin. It is far from a sure thing, he cautioned. \"Bitcoin is still probably the safest bet, but Ethereum is certainly No. 2, and some folks will say it is more likely to be around in 10 years,\" Mr. Bonneau said. \"It will depend if any real markets develop around it. If there is some actual application.\"  \n",
       "2                                                                                                                                                                                                                                                                                                                                                                                                                                                                                                                                                                                                                                                                                                                                                                                                                                                                                                                                                                                                                                                                                                                                                                                                                                                                                                                                                                                                                                                                                                                                                                                                                                                                                                                                                                                                                                                                                                                                                                                                                                                                                                                                                                                                                                                                                                                                                                                                                                                                                                                                                                                                                                                                                                                                                                                                                                                                                                                                                                                                                                                                                                                                                                                                                                                                                                                                                                                                                                                                                                                                                                                                                                                                                                                                                                                                                                                                                                                                                                                                                                                                                                                                                                                                                                                                                                                                                                                                                                                                                                                                                                                                                                                                                                                                                                                                                                                                                                                                                                                                                                                                                                                                                                                                                                                                                                                                                                                                                                                                                                                                                                                                                                                                                                                                                                                                                                                                                                                                                                                                                                                                                                                                                                                                                                                                                                                                                      The alarm clock wakes me at 8:00 with stream of advert-free broadcasting, charged at one satoshi per second. The current BTC exchange rate makes that snooze button a costly proposition! So I get up, make coffee and go to my computer to check the overnight performance of my bots. TradeBot earns me on Trump and Branson TradeBot, which allocates funds between the main chain and various national currency side-chains, generated a lucrative 0.24 BTC return. TradeBot has been reliably profitable ever since I set it to trade USDcoin according to political prediction market data. As expected, the latest poll numbers came in as highly supportive of Trump's re-election as USDcoin CEO. Trump's resistance to de-anonymizing public spending, by moving USDcoin off the Confidential Transactions layer, continues to erode his coin's credibility. In his latest speech, Trump maintains that full CT-privacy is essential to \"combatting CNYcoin's sinister ring-signature scheming.\" I make a note to increase my long position in GBPcoin. Following CEO Branson's memo to the effect that government finances and national banks be brought into compliance with the public blockchain , British corruption indices have flatlined. As the first national econmy to \"go light,\" Britain leads the global recovery from the Great Debt Default of '20. Happy with the GoatData Project I check TeachBot and note that it's performing in-line with expectations. TeachBot serves as an autonomous info-agent between various contracting AIs and data providers. The 0.5 BTC bounty it awarded to a team of Sherpas to outfit a herd of Tibetan mountain goats with full motion-sensing rigs has already been repaid...I check the latest figures... four times over! My best TeachBot strategy to date, the GoatData project provides valuable data to WinterHoof, the Artificial General Intelligence in charge of the Swiss military's quadripedal robotics program. At this rate, I'll soon have enough BTC to retire to Satoshi City on Mars!  \n",
       "3                                                                                                                                                                                                                                                                                                                                                                                                                                                                                                                                                                                                                                                                                                                                                                                                                                                                                                                                                                                                                                                                                                                                                                                                                                                                                                                                                                                                                                                                                                                                                                                                                                                                                                                                                                                                                                                                                                                                                                                                                                                                                                                                                                                                                                                                                                                                                                                                                                                                                                                                                                                                                                                                                                                                                                                                                                                                                                                                                                                                                                                                                                                                                                                                                                                                                                                                                                                                                                                                                                                                                                                                                                                                                                                                                                                                                                                                                                                                                                                                                                                                                                                                                                                                                                                                                                                                                                                                                                                                                                                                                                                                                                                                                                                                                                                                                                                                                                                                                                                                                                                                                                                                                                                                                                                                                                                                                                                                                                                                                                                                                                                                                                                                                                                                                                                                                                                                                                                                                                                                                                                                                                                                                                                                                                                                                                                                                                                                                                                                                                                                                                                                                                                                                                                                                                                                                                               We're excited to share the Google Data Center 360° Tour - a YouTube 360° video that gives you an unprecedented and immersive look inside one of our data centers. There are several ways to view this video: On desktop using Google Chrome use your mouse or trackpad to change your view while the video plays YouTube app on mobile - move your device around to look at all angles while the video plays And the most immersive way to view - using Google Cardboard (currently supported by the Android YouTube app only, iOS support is coming soon!) Load the video in the YouTube app and tap on the Cardboard icon when the video starts to play. Insert your phone in Cardboard and look around. A little background . . . Several months ago, those of us on the Google Cloud Developer Advocacy Team had a rare opportunity to tour the Google data center in The Dalles, Oregon. Many of us had seen other non-Google data centers in our careers, but this experience was beyond anything we ever imagined. We were blown away by the scale, the incredible attention to security and privacy, and the amazing efforts to make the data center extremely efficient and green. Additionally, we were proud to meet some of the brilliant people that design, build and maintain these data centers. If you are a Google Cloud Platform customer, then this is your data center as much as it is our data center, so we want you to experience what we experienced. We hope you enjoy it! - Posted by Greg Wilson, Head of Developer Advocacy, Google Cloud Platform  \n",
       "4  The Aite Group projects the blockchain market could be valued at $400 million by 2019. For that reason, some of the biggest names in banking, industry and technology have entered into the space to evaluate how this technology could change the financial world. IBM and Linux, for instance, have brought together some of the brightest minds in the industry and technology to work on blockchain technology through the Hyperledger Project. The Hyperledger Project is under the umbrella of the Linux Foundation, and seeks to incorporate findings by blockchain projects such as Blockstream, Ripple, Digital Asset Holdings and others in order to make blockchain technology useful for the world's biggest corporations. IBM has also contributed its own code to the project. According to John Wolpert, IBM's Global Blockchain Offering Director, when IBM and Linux began working together on the blockchain project, Linux made clear it wanted to \"disrupt the disruption,\" in part with their findings, as well as the data gathered by projects such as Ripple, Ethereum and others exploring the blockchain. The Linux foundation announced its Hyperledger project on December 17, 2015. Just one day later, 2,300 companies had requested to join. The second-largest open source foundation in the history of open source had only 450 inquiries. \"So, it's either going to be a holy mess or it's going to change the world,\" Wolpert said at The Blockchain Conference in San Francisco presented by Lighthouse Partners. As Wolford puts it, a team of IBMers is \"on a quest\" to understand and \"do something important\" with blockchain technology. \"I don't know why we got this rap in the '70s, way back, that we are not cool, that we're kind of stodgy, and that is not the IBM of my experience,\" Wolpert, who founded the taxi service Flywheel, explained. \"We're the original crazy people. The craziest people are the guys at IBM in the '60s and '70s -- you can imagine what they were doing in the '60s -- they are wild-eyed revolutionaries.\" Although this is not the image IBM markets, their work in quantum computing, quantum teleportation and neuro semantic chips count among some of the \"cool stuff\" IBM does, says Wolpert. IBM also approaches projects in the spirit of open innovation, and not proprietarily. \"Our method of operations is open, and it's often our MO to back not-our-thing,\" he said of IBM since the 1990s. Wolpert cites Java as one such project: \"You would not know about Java today if it weren't for IBM.\" As a \"pretty young dude,\" Wolpert was in the room when IBM made a billion-dollar decision to back Linux over its own technology. He also cites IBM's work on XML as an example of IBM's dedication to open innovation. Currently, IBM has employees working on crypto-security and distributed systems who have been working on consensus algorithms for their entire careers, some for more than 30 years. \"They're crazy smart, we're planetary, we've gone from a couple of guys in a canoe, to a platoon and approaching an army of people working on blockchain,\" Wolpert said. \"So it feels a lot like my first job at IBM which was making Java real for business.\" This has led old and new friends to contact the the multinational technology and consulting corporation. \"Banks who have been calling us constantly ... saying 'What's your view on blockchain?' or 'Hey, let's do a project together on blockchain,'\" Wolpert said. \"We've been doing all these crazy projects on blockchain, every kind of blockchain, and learning a lot, been doing that for a couple years and really started to accelerate last year.\" Today, there is a whole unit dedicated to blockchain technology at Linux Foundation. \"We went all-in on blockchain,\" he explained. What's it all about for Wolpert? \"It's about evolving the Internet.\" Bitcoin is important for moving money around without a single authority. \"[Bitcoin] is a solution to a problem, a specific problem, of people who need to move money around in environments where you don't trust the government,\" Wolpert said. \"I think we can all agree we are approaching the end of the era where a single authority manages trust and gets compensated for the risk in doing so.\" In Wolpert's view, finance does not need to go from today's system of trust -- where consumers trust institutions to handle their money -- to one of complete trustlessness, like the Bitcoin system in which a protocol, not a centralized authority, manages the movement of value. \"It doesn't follow, having one single trust authority to trustlessness on everything,\" he said. \"There is a false dichotomy between the notion of trust and trustlessness, that you have to have a walled garden on one side and Bitcoin on the other.\" He doesn't compare Bitcoin to the Internet, saying that's a wrong analogy. \"It is not apt to say the Internet is like Bitcoin; the Internet is, from the perspective of Bitcoin, a permissioned walled garden,\" he said. \"Ever heard of ICANN? It's permissive, but it's permissioned.\" Bitcoin, Ripple and Ethereum are \"Iteration 1\" of blockchain technology, the three time IBMer told his audience. Wolpert thinks blockchain technology will soon evolve to \"Iteration 2.\" The problem with it? \"The Internet is constrained,\" Wolpert said. \"You have a fabric that allows for lots of competition on platforms and huge amounts of competition on solutions and applications on top of it, so we need to evolve the Internet to become economically aware, and that Internet isn't going to be an application, it is going to be a fabric and then lots of applications on top of that.\" This doesn't mean blockchain 2.0 technologies such as Blockstream, Ethereum and Ripple are lost causes that must now completely retool. The Linux Foundation, in fact, works with Ethereum and Ripple employees. With its blockchain projects, IBM is not focused on moving a cryptocurrency. \"Lots of banks pay us lots of money and we like that, and we want to radically improve them,\" Wolpert explained. \"[Bankers] are gonna try like heck to radically improve what is going on ahead of the disruption, disrupt themselves if you will. If you look at things like [Overstock's] t0, that's happening, might happen on Bitcoin protocol, but might not, and there's plenty of ways to solve it, when you commit to it. And sure, Bitcoin has woken [banks] up to this, so it's doing its job, it's disrupting the thinking and maybe that is all that is necessary.\" Wolpert wonders aloud during his speech if the world would have iTunes were it not for Napster, or Netflix if it weren't for BitTorrent. The former head of products for IBM's Watson Ecosystem says IBM currently has a \"boomtown with giant numbers of people at IBM and everywhere else\" investigating the blockchain problem and how distributed technology can be made useful for industry. He details how oftentimes IBM tinkers with open innovations itself to make the technology ready for industry. That's not the route being taken with Bitcoin. That the Bitcoin network is on par with Ireland for energy consumption, and that mining consortiums could eventually dictate that market, scares the firm away from dealing directly with Bitcoin. \"What I want to see, what we want to see, is a world full of companies who I can know, who I can identify, who are so spread out, like the Internet,\" he said. Wolpert cites the Arab Spring, and the role the Internet played in that uprising, as how a permissioned, yet permissive, structure functions. Websites, albeit technology permissioned by ICANN, remained online during the protests and played a major role. What's the risk in experimenting with blockchain? \"The risk is we go crazy, we have an unruly mess,\" Wolpert warned. \"[But] it's the Linux Foundation, we've been in this movie before. While there's a lot of really smart guys working on Bitcoin and startups, we've got equally amount of people who also have 20 or 30 years of experience with open source and open innovation, and I think we have a good shot at maintaining restraints, keeping it scoped down, keeping it simple, but getting it to something that is useful.\"  \n",
       "5                                                                                                                                                                                                                                                                                                                                                                                                                                                                                                                                                                                                                                                                                                                                                                                                                                                                                                                                                                                                                                                                                                                                                                                                                                                                                                                                                                                                                                                                                                                                                                                                                                                                                                                                                                                                                                                                                                                                                                                                                                                                                                                                                                                                                                                                                                                                                                                                                                                                                                                                                                                                                                                                                                                                                                                                                                                                                                                                                                                                                                                                                                                                                                                                                                                                                                                                                                                                                                                                                                                                                                                                                                                                                                                                                                                                                                                                                                                                                                                                                                                                                                                                                                                                                                                                                                                                                                                                                                                                                                                                                                                                                                                                                                                                                                                                                                                                                                                                                                                                                                                                                                                                                                                                                                                                                                                                                                                                                                                                                                                                                                                                                                                                                                                                                                                                                                                                                                                                                                                                                                                                                                                                                                                                                                                                                                                                                                                                                                                                                                                               One of the largest and oldest organizations for computing professionals will kick off its annual conference on the future of mobile cloud computing tomorrow, where blockchain is scheduled to be one of the attractions. With more than 421,000 members in 260 countries, the Institute of Electrical and Electronics Engineers (IEEE) holding such a high-profile event has the potential to accelerate the rate of blockchain adoption by the engineering community. At the four-day conference, beginning Tuesday, the IEEE will host five blockchain seminars at the 702-year-old Exeter College of Oxford. The conference, IEEE Mobile Cloud 2016, is the organization's fourth annual event dedicated to mobile cloud computing services and engineering. Speaking at the event, hosted at Oxford University, professor Wei-Tek Tsai of the School of Computing, Informatics and Decision Systems engineering at Arizona State University will talk about the future of blockchain technology as an academic topic of research. Computing shift While this looks to be the first IEEE conference to deal so closely with blockchain, its presence at an event dedicated to cloud computing is no surprise. 2016 is shaping up to be the year many stopped talking about bitcoin as a decentralized ledger and started talking about it as a database. Last month, IBM made a huge splash in the blockchain ecosystem when it announced among a wide range of other news, that it would be offering a wide range of blockchain-related initiatives. Further, in November, Microsoft coined the term Blockchain-as-a-Service (BaaS) to describe its sandbox environment where developers could experiment with tools hosted on the company's Azure Cloud platform. Companies including ConsenSys, Augur, BitShares and Slock.it have joined that effort. Oxford University via Shutterstock  "
      ]
     },
     "execution_count": 113,
     "metadata": {},
     "output_type": "execute_result"
    }
   ],
   "source": [
    "# text_description column\n",
    "\n",
    "pd.set_option('max_colwidth', None)\n",
    "eng_items.head()"
   ]
  },
  {
   "cell_type": "code",
   "execution_count": 114,
   "id": "65f99670",
   "metadata": {
    "id": "65f99670"
   },
   "outputs": [
    {
     "data": {
      "text/plain": [
       "'All of this work is still very early. The first full public version of the Ethereum software was recently released, and the system could face some of the same technical and legal problems that have tarnished Bitcoin. Many Bitcoin advocates say Ethereum will face more security problems than Bitcoin because of the greater complexity of the software. Thus far, Ethereum has faced much less testing, and many fewer attacks, than Bitcoin. The novel design of Ethereum may also invite intense scrutiny by authorities given that potentially fraudulent contracts, like the Ponzi schemes, can be written directly into the Ethereum system. But the sophisticated capabilities of the system have made it fascinating to some executives in corporate America. IBM said last year that it was experimenting with Ethereum as a way to control real world objects in the so-called Internet of things. Microsoft has been working on several projects that make it easier to use Ethereum on its computing cloud, Azure. \"Ethereum is a general platform where you can solve problems in many industries using a fairly elegant solution - the most elegant solution we have seen to date,\" said Marley Gray, a director of business development and strategy at Microsoft. Mr. Gray is responsible for Microsoft\\'s work with blockchains, the database concept that Bitcoin introduced. Blockchains are designed to store transactions and data without requiring any central authority or repository. Blockchain ledgers are generally maintained and updated by networks of computers working together - somewhat similar to the way that Wikipedia is updated and maintained by all its users. Many corporations, though, have created their own Ethereum networks with private blockchains, independent of the public system, and that could ultimately detract from the value of the individual unit in the Ethereum system - known as an Ether - that people have recently been buying. The interest in Ethereum is one sign of the corporate fascination with blockchains. Most major banks have expressed an interest in using them to make trading and money transfer faster and more efficient. On Tuesday, executives from the largest banks will gather for a conference, \"Blockchain: Tapping I nto the Real Potential , Cutting Through the Hype.\" Many of these banks have recently been looking at how some version of Ethereum might be put to use. JPMorgan, for instance, has created a specific tool, Masala, that allows some of its internal databases to interact with an Ethereum blockchain. Michael Novogratz, a former top executive at the private equity firm Fortress Investing Group, who helped lead Fortress\\'s investment in Bitcoin, has been looking at Ethereum since he left Fortress last fall. Mr. Novogratz said that he made a \"significant\" purchase of Ether in January. He has also heard how the financial industry\\'s chatter about the virtual currency has evolved. \"A lot of the more established players were thinking, \\'It\\'s still an experiment,\\' \" he said. \"It feels like in the last two to three months that experiment is at least getting a lot more validation.\" Since the beginning of the year, the value of an individual unit of Ether has soared as high as $12 from around $1. That has brought the value of all existing Ether to over $1 billion at times, significantly more than any virtual currency other than Bitcoin, which had over $6 billion in value outstanding last week. Since Bitcoin was invented, there have been many so-called alt-coins that have tried to improve on Bitcoin, but none have won the following of Ethereum. Unlike Bitcoin, which was released in 2009 by a mysterious creator known as Satoshi Nakamoto, Ethereum was created in a more transparent fashion by a 21-year-old Russian-Canadian, Vitalik Buterin, after he dropped out of Waterloo University in Ontario. The most basic aim of Ethereum was to make it possible to program binding agreements into the blockchain - the smart contract concept. Two people, for instance, could program a bet on a sports game directly into the Ethereum blockchain. Once the final score came in from a mutually agreed upon source - say, The Associated Press - the money would be automatically transferred to the winning party. Ether can be used as a currency in this system, but Ether are also necessary to pay for the network power needed to process the bet. The Ethereum system has sometimes been described as a single shared computer that is run by the network of users and on which resources are parceled out and paid for by Ether. A team of seven co-founders helped Mr. Buterin write up the software after he released the initial description of the system. Mr. Buterin\\'s team raised $18 million in 2014 through a presale of Ether, which helped fund the Ethereum Foundation, which supports the software\\'s development. Like Bitcoin, Ethereum has succeeded by attracting a dedicated network of followers who have helped support the software, partly in the hope that their Ether will increase in value if the system succeeds. Last week, there were 5,800 computers - or nodes - helping support the network around the world. The Bitcoin network had about 7,400 nodes. One of Mr. Buterin\\'s co-founders, Joseph Lubin, has set up ConsenSys, a company based in Brooklyn that has hired over 50 developers to build applications on the Ethereum system, including one that enables music distribution and another that allows for a new kind of financial auditing. The ConsenSys offices are in an old industrial building in the Bushwick section of Brooklyn. The office is essentially one large room, with all the messy trademarks of a start-up operation, including white boards on the walls and computer parts lying around. Mr. Lubin said he had thrown himself into Ethereum after starting to think that it delivered on some of the failed promise of Bitcoin, especially when it came to allowing new kinds of online contracts and markets. \"Bitcoin presented the broad strokes vision, and Ethereum presented the crystallization of how to deliver that vision,\" he said. Joseph Bonneau, a computer science researcher at Stanford who studies so-called crypto-currencies, said Ethereum was the first system that had really caught his interest since Bitcoin. It is far from a sure thing, he cautioned. \"Bitcoin is still probably the safest bet, but Ethereum is certainly No. 2, and some folks will say it is more likely to be around in 10 years,\" Mr. Bonneau said. \"It will depend if any real markets develop around it. If there is some actual application.\"'"
      ]
     },
     "execution_count": 114,
     "metadata": {},
     "output_type": "execute_result"
    }
   ],
   "source": [
    "# Lets create an Array\n",
    "\n",
    "description_array = eng_items.text_description.to_numpy()\n",
    "description_array[0]"
   ]
  },
  {
   "cell_type": "code",
   "execution_count": 115,
   "id": "62d2d04c",
   "metadata": {
    "id": "62d2d04c"
   },
   "outputs": [
    {
     "data": {
      "text/plain": [
       "(2211, 6543)"
      ]
     },
     "execution_count": 115,
     "metadata": {},
     "output_type": "execute_result"
    }
   ],
   "source": [
    "len(description_array), len(description_array[0])"
   ]
  },
  {
   "cell_type": "code",
   "execution_count": 116,
   "id": "5b8eee42",
   "metadata": {
    "id": "5b8eee42"
   },
   "outputs": [],
   "source": [
    "word_list = []\n",
    "\n",
    "for keyword in description_array:\n",
    "    splitted_words = keyword.lower().split()\n",
    "    word_list.append(splitted_words)"
   ]
  },
  {
   "cell_type": "code",
   "execution_count": 117,
   "id": "64ac31ed",
   "metadata": {
    "id": "64ac31ed"
   },
   "outputs": [
    {
     "data": {
      "text/plain": [
       "['all',\n",
       " 'of',\n",
       " 'this',\n",
       " 'work',\n",
       " 'is',\n",
       " 'still',\n",
       " 'very',\n",
       " 'early.',\n",
       " 'the',\n",
       " 'first',\n",
       " 'full',\n",
       " 'public',\n",
       " 'version',\n",
       " 'of',\n",
       " 'the',\n",
       " 'ethereum',\n",
       " 'software',\n",
       " 'was',\n",
       " 'recently',\n",
       " 'released,',\n",
       " 'and',\n",
       " 'the',\n",
       " 'system',\n",
       " 'could',\n",
       " 'face',\n",
       " 'some',\n",
       " 'of',\n",
       " 'the',\n",
       " 'same',\n",
       " 'technical',\n",
       " 'and',\n",
       " 'legal',\n",
       " 'problems',\n",
       " 'that',\n",
       " 'have',\n",
       " 'tarnished',\n",
       " 'bitcoin.',\n",
       " 'many',\n",
       " 'bitcoin',\n",
       " 'advocates',\n",
       " 'say',\n",
       " 'ethereum',\n",
       " 'will',\n",
       " 'face',\n",
       " 'more',\n",
       " 'security',\n",
       " 'problems',\n",
       " 'than',\n",
       " 'bitcoin',\n",
       " 'because',\n",
       " 'of',\n",
       " 'the',\n",
       " 'greater',\n",
       " 'complexity',\n",
       " 'of',\n",
       " 'the',\n",
       " 'software.',\n",
       " 'thus',\n",
       " 'far,',\n",
       " 'ethereum',\n",
       " 'has',\n",
       " 'faced',\n",
       " 'much',\n",
       " 'less',\n",
       " 'testing,',\n",
       " 'and',\n",
       " 'many',\n",
       " 'fewer',\n",
       " 'attacks,',\n",
       " 'than',\n",
       " 'bitcoin.',\n",
       " 'the',\n",
       " 'novel',\n",
       " 'design',\n",
       " 'of',\n",
       " 'ethereum',\n",
       " 'may',\n",
       " 'also',\n",
       " 'invite',\n",
       " 'intense',\n",
       " 'scrutiny',\n",
       " 'by',\n",
       " 'authorities',\n",
       " 'given',\n",
       " 'that',\n",
       " 'potentially',\n",
       " 'fraudulent',\n",
       " 'contracts,',\n",
       " 'like',\n",
       " 'the',\n",
       " 'ponzi',\n",
       " 'schemes,',\n",
       " 'can',\n",
       " 'be',\n",
       " 'written',\n",
       " 'directly',\n",
       " 'into',\n",
       " 'the',\n",
       " 'ethereum',\n",
       " 'system.',\n",
       " 'but',\n",
       " 'the',\n",
       " 'sophisticated',\n",
       " 'capabilities',\n",
       " 'of',\n",
       " 'the',\n",
       " 'system',\n",
       " 'have',\n",
       " 'made',\n",
       " 'it',\n",
       " 'fascinating',\n",
       " 'to',\n",
       " 'some',\n",
       " 'executives',\n",
       " 'in',\n",
       " 'corporate',\n",
       " 'america.',\n",
       " 'ibm',\n",
       " 'said',\n",
       " 'last',\n",
       " 'year',\n",
       " 'that',\n",
       " 'it',\n",
       " 'was',\n",
       " 'experimenting',\n",
       " 'with',\n",
       " 'ethereum',\n",
       " 'as',\n",
       " 'a',\n",
       " 'way',\n",
       " 'to',\n",
       " 'control',\n",
       " 'real',\n",
       " 'world',\n",
       " 'objects',\n",
       " 'in',\n",
       " 'the',\n",
       " 'so-called',\n",
       " 'internet',\n",
       " 'of',\n",
       " 'things.',\n",
       " 'microsoft',\n",
       " 'has',\n",
       " 'been',\n",
       " 'working',\n",
       " 'on',\n",
       " 'several',\n",
       " 'projects',\n",
       " 'that',\n",
       " 'make',\n",
       " 'it',\n",
       " 'easier',\n",
       " 'to',\n",
       " 'use',\n",
       " 'ethereum',\n",
       " 'on',\n",
       " 'its',\n",
       " 'computing',\n",
       " 'cloud,',\n",
       " 'azure.',\n",
       " '\"ethereum',\n",
       " 'is',\n",
       " 'a',\n",
       " 'general',\n",
       " 'platform',\n",
       " 'where',\n",
       " 'you',\n",
       " 'can',\n",
       " 'solve',\n",
       " 'problems',\n",
       " 'in',\n",
       " 'many',\n",
       " 'industries',\n",
       " 'using',\n",
       " 'a',\n",
       " 'fairly',\n",
       " 'elegant',\n",
       " 'solution',\n",
       " '-',\n",
       " 'the',\n",
       " 'most',\n",
       " 'elegant',\n",
       " 'solution',\n",
       " 'we',\n",
       " 'have',\n",
       " 'seen',\n",
       " 'to',\n",
       " 'date,\"',\n",
       " 'said',\n",
       " 'marley',\n",
       " 'gray,',\n",
       " 'a',\n",
       " 'director',\n",
       " 'of',\n",
       " 'business',\n",
       " 'development',\n",
       " 'and',\n",
       " 'strategy',\n",
       " 'at',\n",
       " 'microsoft.',\n",
       " 'mr.',\n",
       " 'gray',\n",
       " 'is',\n",
       " 'responsible',\n",
       " 'for',\n",
       " \"microsoft's\",\n",
       " 'work',\n",
       " 'with',\n",
       " 'blockchains,',\n",
       " 'the',\n",
       " 'database',\n",
       " 'concept',\n",
       " 'that',\n",
       " 'bitcoin',\n",
       " 'introduced.',\n",
       " 'blockchains',\n",
       " 'are',\n",
       " 'designed',\n",
       " 'to',\n",
       " 'store',\n",
       " 'transactions',\n",
       " 'and',\n",
       " 'data',\n",
       " 'without',\n",
       " 'requiring',\n",
       " 'any',\n",
       " 'central',\n",
       " 'authority',\n",
       " 'or',\n",
       " 'repository.',\n",
       " 'blockchain',\n",
       " 'ledgers',\n",
       " 'are',\n",
       " 'generally',\n",
       " 'maintained',\n",
       " 'and',\n",
       " 'updated',\n",
       " 'by',\n",
       " 'networks',\n",
       " 'of',\n",
       " 'computers',\n",
       " 'working',\n",
       " 'together',\n",
       " '-',\n",
       " 'somewhat',\n",
       " 'similar',\n",
       " 'to',\n",
       " 'the',\n",
       " 'way',\n",
       " 'that',\n",
       " 'wikipedia',\n",
       " 'is',\n",
       " 'updated',\n",
       " 'and',\n",
       " 'maintained',\n",
       " 'by',\n",
       " 'all',\n",
       " 'its',\n",
       " 'users.',\n",
       " 'many',\n",
       " 'corporations,',\n",
       " 'though,',\n",
       " 'have',\n",
       " 'created',\n",
       " 'their',\n",
       " 'own',\n",
       " 'ethereum',\n",
       " 'networks',\n",
       " 'with',\n",
       " 'private',\n",
       " 'blockchains,',\n",
       " 'independent',\n",
       " 'of',\n",
       " 'the',\n",
       " 'public',\n",
       " 'system,',\n",
       " 'and',\n",
       " 'that',\n",
       " 'could',\n",
       " 'ultimately',\n",
       " 'detract',\n",
       " 'from',\n",
       " 'the',\n",
       " 'value',\n",
       " 'of',\n",
       " 'the',\n",
       " 'individual',\n",
       " 'unit',\n",
       " 'in',\n",
       " 'the',\n",
       " 'ethereum',\n",
       " 'system',\n",
       " '-',\n",
       " 'known',\n",
       " 'as',\n",
       " 'an',\n",
       " 'ether',\n",
       " '-',\n",
       " 'that',\n",
       " 'people',\n",
       " 'have',\n",
       " 'recently',\n",
       " 'been',\n",
       " 'buying.',\n",
       " 'the',\n",
       " 'interest',\n",
       " 'in',\n",
       " 'ethereum',\n",
       " 'is',\n",
       " 'one',\n",
       " 'sign',\n",
       " 'of',\n",
       " 'the',\n",
       " 'corporate',\n",
       " 'fascination',\n",
       " 'with',\n",
       " 'blockchains.',\n",
       " 'most',\n",
       " 'major',\n",
       " 'banks',\n",
       " 'have',\n",
       " 'expressed',\n",
       " 'an',\n",
       " 'interest',\n",
       " 'in',\n",
       " 'using',\n",
       " 'them',\n",
       " 'to',\n",
       " 'make',\n",
       " 'trading',\n",
       " 'and',\n",
       " 'money',\n",
       " 'transfer',\n",
       " 'faster',\n",
       " 'and',\n",
       " 'more',\n",
       " 'efficient.',\n",
       " 'on',\n",
       " 'tuesday,',\n",
       " 'executives',\n",
       " 'from',\n",
       " 'the',\n",
       " 'largest',\n",
       " 'banks',\n",
       " 'will',\n",
       " 'gather',\n",
       " 'for',\n",
       " 'a',\n",
       " 'conference,',\n",
       " '\"blockchain:',\n",
       " 'tapping',\n",
       " 'i',\n",
       " 'nto',\n",
       " 'the',\n",
       " 'real',\n",
       " 'potential',\n",
       " ',',\n",
       " 'cutting',\n",
       " 'through',\n",
       " 'the',\n",
       " 'hype.\"',\n",
       " 'many',\n",
       " 'of',\n",
       " 'these',\n",
       " 'banks',\n",
       " 'have',\n",
       " 'recently',\n",
       " 'been',\n",
       " 'looking',\n",
       " 'at',\n",
       " 'how',\n",
       " 'some',\n",
       " 'version',\n",
       " 'of',\n",
       " 'ethereum',\n",
       " 'might',\n",
       " 'be',\n",
       " 'put',\n",
       " 'to',\n",
       " 'use.',\n",
       " 'jpmorgan,',\n",
       " 'for',\n",
       " 'instance,',\n",
       " 'has',\n",
       " 'created',\n",
       " 'a',\n",
       " 'specific',\n",
       " 'tool,',\n",
       " 'masala,',\n",
       " 'that',\n",
       " 'allows',\n",
       " 'some',\n",
       " 'of',\n",
       " 'its',\n",
       " 'internal',\n",
       " 'databases',\n",
       " 'to',\n",
       " 'interact',\n",
       " 'with',\n",
       " 'an',\n",
       " 'ethereum',\n",
       " 'blockchain.',\n",
       " 'michael',\n",
       " 'novogratz,',\n",
       " 'a',\n",
       " 'former',\n",
       " 'top',\n",
       " 'executive',\n",
       " 'at',\n",
       " 'the',\n",
       " 'private',\n",
       " 'equity',\n",
       " 'firm',\n",
       " 'fortress',\n",
       " 'investing',\n",
       " 'group,',\n",
       " 'who',\n",
       " 'helped',\n",
       " 'lead',\n",
       " \"fortress's\",\n",
       " 'investment',\n",
       " 'in',\n",
       " 'bitcoin,',\n",
       " 'has',\n",
       " 'been',\n",
       " 'looking',\n",
       " 'at',\n",
       " 'ethereum',\n",
       " 'since',\n",
       " 'he',\n",
       " 'left',\n",
       " 'fortress',\n",
       " 'last',\n",
       " 'fall.',\n",
       " 'mr.',\n",
       " 'novogratz',\n",
       " 'said',\n",
       " 'that',\n",
       " 'he',\n",
       " 'made',\n",
       " 'a',\n",
       " '\"significant\"',\n",
       " 'purchase',\n",
       " 'of',\n",
       " 'ether',\n",
       " 'in',\n",
       " 'january.',\n",
       " 'he',\n",
       " 'has',\n",
       " 'also',\n",
       " 'heard',\n",
       " 'how',\n",
       " 'the',\n",
       " 'financial',\n",
       " \"industry's\",\n",
       " 'chatter',\n",
       " 'about',\n",
       " 'the',\n",
       " 'virtual',\n",
       " 'currency',\n",
       " 'has',\n",
       " 'evolved.',\n",
       " '\"a',\n",
       " 'lot',\n",
       " 'of',\n",
       " 'the',\n",
       " 'more',\n",
       " 'established',\n",
       " 'players',\n",
       " 'were',\n",
       " 'thinking,',\n",
       " \"'it's\",\n",
       " 'still',\n",
       " 'an',\n",
       " \"experiment,'\",\n",
       " '\"',\n",
       " 'he',\n",
       " 'said.',\n",
       " '\"it',\n",
       " 'feels',\n",
       " 'like',\n",
       " 'in',\n",
       " 'the',\n",
       " 'last',\n",
       " 'two',\n",
       " 'to',\n",
       " 'three',\n",
       " 'months',\n",
       " 'that',\n",
       " 'experiment',\n",
       " 'is',\n",
       " 'at',\n",
       " 'least',\n",
       " 'getting',\n",
       " 'a',\n",
       " 'lot',\n",
       " 'more',\n",
       " 'validation.\"',\n",
       " 'since',\n",
       " 'the',\n",
       " 'beginning',\n",
       " 'of',\n",
       " 'the',\n",
       " 'year,',\n",
       " 'the',\n",
       " 'value',\n",
       " 'of',\n",
       " 'an',\n",
       " 'individual',\n",
       " 'unit',\n",
       " 'of',\n",
       " 'ether',\n",
       " 'has',\n",
       " 'soared',\n",
       " 'as',\n",
       " 'high',\n",
       " 'as',\n",
       " '$12',\n",
       " 'from',\n",
       " 'around',\n",
       " '$1.',\n",
       " 'that',\n",
       " 'has',\n",
       " 'brought',\n",
       " 'the',\n",
       " 'value',\n",
       " 'of',\n",
       " 'all',\n",
       " 'existing',\n",
       " 'ether',\n",
       " 'to',\n",
       " 'over',\n",
       " '$1',\n",
       " 'billion',\n",
       " 'at',\n",
       " 'times,',\n",
       " 'significantly',\n",
       " 'more',\n",
       " 'than',\n",
       " 'any',\n",
       " 'virtual',\n",
       " 'currency',\n",
       " 'other',\n",
       " 'than',\n",
       " 'bitcoin,',\n",
       " 'which',\n",
       " 'had',\n",
       " 'over',\n",
       " '$6',\n",
       " 'billion',\n",
       " 'in',\n",
       " 'value',\n",
       " 'outstanding',\n",
       " 'last',\n",
       " 'week.',\n",
       " 'since',\n",
       " 'bitcoin',\n",
       " 'was',\n",
       " 'invented,',\n",
       " 'there',\n",
       " 'have',\n",
       " 'been',\n",
       " 'many',\n",
       " 'so-called',\n",
       " 'alt-coins',\n",
       " 'that',\n",
       " 'have',\n",
       " 'tried',\n",
       " 'to',\n",
       " 'improve',\n",
       " 'on',\n",
       " 'bitcoin,',\n",
       " 'but',\n",
       " 'none',\n",
       " 'have',\n",
       " 'won',\n",
       " 'the',\n",
       " 'following',\n",
       " 'of',\n",
       " 'ethereum.',\n",
       " 'unlike',\n",
       " 'bitcoin,',\n",
       " 'which',\n",
       " 'was',\n",
       " 'released',\n",
       " 'in',\n",
       " '2009',\n",
       " 'by',\n",
       " 'a',\n",
       " 'mysterious',\n",
       " 'creator',\n",
       " 'known',\n",
       " 'as',\n",
       " 'satoshi',\n",
       " 'nakamoto,',\n",
       " 'ethereum',\n",
       " 'was',\n",
       " 'created',\n",
       " 'in',\n",
       " 'a',\n",
       " 'more',\n",
       " 'transparent',\n",
       " 'fashion',\n",
       " 'by',\n",
       " 'a',\n",
       " '21-year-old',\n",
       " 'russian-canadian,',\n",
       " 'vitalik',\n",
       " 'buterin,',\n",
       " 'after',\n",
       " 'he',\n",
       " 'dropped',\n",
       " 'out',\n",
       " 'of',\n",
       " 'waterloo',\n",
       " 'university',\n",
       " 'in',\n",
       " 'ontario.',\n",
       " 'the',\n",
       " 'most',\n",
       " 'basic',\n",
       " 'aim',\n",
       " 'of',\n",
       " 'ethereum',\n",
       " 'was',\n",
       " 'to',\n",
       " 'make',\n",
       " 'it',\n",
       " 'possible',\n",
       " 'to',\n",
       " 'program',\n",
       " 'binding',\n",
       " 'agreements',\n",
       " 'into',\n",
       " 'the',\n",
       " 'blockchain',\n",
       " '-',\n",
       " 'the',\n",
       " 'smart',\n",
       " 'contract',\n",
       " 'concept.',\n",
       " 'two',\n",
       " 'people,',\n",
       " 'for',\n",
       " 'instance,',\n",
       " 'could',\n",
       " 'program',\n",
       " 'a',\n",
       " 'bet',\n",
       " 'on',\n",
       " 'a',\n",
       " 'sports',\n",
       " 'game',\n",
       " 'directly',\n",
       " 'into',\n",
       " 'the',\n",
       " 'ethereum',\n",
       " 'blockchain.',\n",
       " 'once',\n",
       " 'the',\n",
       " 'final',\n",
       " 'score',\n",
       " 'came',\n",
       " 'in',\n",
       " 'from',\n",
       " 'a',\n",
       " 'mutually',\n",
       " 'agreed',\n",
       " 'upon',\n",
       " 'source',\n",
       " '-',\n",
       " 'say,',\n",
       " 'the',\n",
       " 'associated',\n",
       " 'press',\n",
       " '-',\n",
       " 'the',\n",
       " 'money',\n",
       " 'would',\n",
       " 'be',\n",
       " 'automatically',\n",
       " 'transferred',\n",
       " 'to',\n",
       " 'the',\n",
       " 'winning',\n",
       " 'party.',\n",
       " 'ether',\n",
       " 'can',\n",
       " 'be',\n",
       " 'used',\n",
       " 'as',\n",
       " 'a',\n",
       " 'currency',\n",
       " 'in',\n",
       " 'this',\n",
       " 'system,',\n",
       " 'but',\n",
       " 'ether',\n",
       " 'are',\n",
       " 'also',\n",
       " 'necessary',\n",
       " 'to',\n",
       " 'pay',\n",
       " 'for',\n",
       " 'the',\n",
       " 'network',\n",
       " 'power',\n",
       " 'needed',\n",
       " 'to',\n",
       " 'process',\n",
       " 'the',\n",
       " 'bet.',\n",
       " 'the',\n",
       " 'ethereum',\n",
       " 'system',\n",
       " 'has',\n",
       " 'sometimes',\n",
       " 'been',\n",
       " 'described',\n",
       " 'as',\n",
       " 'a',\n",
       " 'single',\n",
       " 'shared',\n",
       " 'computer',\n",
       " 'that',\n",
       " 'is',\n",
       " 'run',\n",
       " 'by',\n",
       " 'the',\n",
       " 'network',\n",
       " 'of',\n",
       " 'users',\n",
       " 'and',\n",
       " 'on',\n",
       " 'which',\n",
       " 'resources',\n",
       " 'are',\n",
       " 'parceled',\n",
       " 'out',\n",
       " 'and',\n",
       " 'paid',\n",
       " 'for',\n",
       " 'by',\n",
       " 'ether.',\n",
       " 'a',\n",
       " 'team',\n",
       " 'of',\n",
       " 'seven',\n",
       " 'co-founders',\n",
       " 'helped',\n",
       " 'mr.',\n",
       " 'buterin',\n",
       " 'write',\n",
       " 'up',\n",
       " 'the',\n",
       " 'software',\n",
       " 'after',\n",
       " 'he',\n",
       " 'released',\n",
       " 'the',\n",
       " 'initial',\n",
       " 'description',\n",
       " 'of',\n",
       " 'the',\n",
       " 'system.',\n",
       " 'mr.',\n",
       " \"buterin's\",\n",
       " 'team',\n",
       " 'raised',\n",
       " '$18',\n",
       " 'million',\n",
       " 'in',\n",
       " '2014',\n",
       " 'through',\n",
       " 'a',\n",
       " 'presale',\n",
       " 'of',\n",
       " 'ether,',\n",
       " 'which',\n",
       " 'helped',\n",
       " 'fund',\n",
       " 'the',\n",
       " 'ethereum',\n",
       " 'foundation,',\n",
       " 'which',\n",
       " 'supports',\n",
       " 'the',\n",
       " \"software's\",\n",
       " 'development.',\n",
       " 'like',\n",
       " 'bitcoin,',\n",
       " 'ethereum',\n",
       " 'has',\n",
       " 'succeeded',\n",
       " 'by',\n",
       " 'attracting',\n",
       " 'a',\n",
       " 'dedicated',\n",
       " 'network',\n",
       " 'of',\n",
       " 'followers',\n",
       " 'who',\n",
       " 'have',\n",
       " 'helped',\n",
       " 'support',\n",
       " 'the',\n",
       " 'software,',\n",
       " 'partly',\n",
       " 'in',\n",
       " 'the',\n",
       " 'hope',\n",
       " 'that',\n",
       " 'their',\n",
       " 'ether',\n",
       " 'will',\n",
       " 'increase',\n",
       " 'in',\n",
       " 'value',\n",
       " 'if',\n",
       " 'the',\n",
       " 'system',\n",
       " 'succeeds.',\n",
       " 'last',\n",
       " 'week,',\n",
       " 'there',\n",
       " 'were',\n",
       " '5,800',\n",
       " 'computers',\n",
       " '-',\n",
       " 'or',\n",
       " 'nodes',\n",
       " '-',\n",
       " 'helping',\n",
       " 'support',\n",
       " 'the',\n",
       " 'network',\n",
       " 'around',\n",
       " 'the',\n",
       " 'world.',\n",
       " 'the',\n",
       " 'bitcoin',\n",
       " 'network',\n",
       " 'had',\n",
       " 'about',\n",
       " '7,400',\n",
       " 'nodes.',\n",
       " 'one',\n",
       " 'of',\n",
       " 'mr.',\n",
       " \"buterin's\",\n",
       " 'co-founders,',\n",
       " 'joseph',\n",
       " 'lubin,',\n",
       " 'has',\n",
       " 'set',\n",
       " 'up',\n",
       " 'consensys,',\n",
       " 'a',\n",
       " 'company',\n",
       " 'based',\n",
       " 'in',\n",
       " 'brooklyn',\n",
       " 'that',\n",
       " 'has',\n",
       " 'hired',\n",
       " 'over',\n",
       " '50',\n",
       " 'developers',\n",
       " 'to',\n",
       " 'build',\n",
       " 'applications',\n",
       " 'on',\n",
       " 'the',\n",
       " 'ethereum',\n",
       " 'system,',\n",
       " 'including',\n",
       " 'one',\n",
       " 'that',\n",
       " 'enables',\n",
       " 'music',\n",
       " 'distribution',\n",
       " 'and',\n",
       " 'another',\n",
       " 'that',\n",
       " 'allows',\n",
       " 'for',\n",
       " 'a',\n",
       " 'new',\n",
       " 'kind',\n",
       " 'of',\n",
       " 'financial',\n",
       " 'auditing.',\n",
       " 'the',\n",
       " 'consensys',\n",
       " 'offices',\n",
       " 'are',\n",
       " 'in',\n",
       " 'an',\n",
       " 'old',\n",
       " 'industrial',\n",
       " 'building',\n",
       " 'in',\n",
       " 'the',\n",
       " 'bushwick',\n",
       " 'section',\n",
       " 'of',\n",
       " 'brooklyn.',\n",
       " 'the',\n",
       " 'office',\n",
       " 'is',\n",
       " 'essentially',\n",
       " 'one',\n",
       " 'large',\n",
       " 'room,',\n",
       " 'with',\n",
       " 'all',\n",
       " 'the',\n",
       " 'messy',\n",
       " 'trademarks',\n",
       " 'of',\n",
       " 'a',\n",
       " 'start-up',\n",
       " 'operation,',\n",
       " 'including',\n",
       " 'white',\n",
       " 'boards',\n",
       " 'on',\n",
       " 'the',\n",
       " 'walls',\n",
       " 'and',\n",
       " 'computer',\n",
       " 'parts',\n",
       " 'lying',\n",
       " 'around.',\n",
       " 'mr.',\n",
       " 'lubin',\n",
       " 'said',\n",
       " 'he',\n",
       " 'had',\n",
       " 'thrown',\n",
       " 'himself',\n",
       " 'into',\n",
       " 'ethereum',\n",
       " 'after',\n",
       " 'starting',\n",
       " 'to',\n",
       " 'think',\n",
       " 'that',\n",
       " 'it',\n",
       " 'delivered',\n",
       " 'on',\n",
       " 'some',\n",
       " 'of',\n",
       " 'the',\n",
       " 'failed',\n",
       " 'promise',\n",
       " 'of',\n",
       " 'bitcoin,',\n",
       " 'especially',\n",
       " 'when',\n",
       " 'it',\n",
       " 'came',\n",
       " 'to',\n",
       " 'allowing',\n",
       " 'new',\n",
       " 'kinds',\n",
       " 'of',\n",
       " 'online',\n",
       " 'contracts',\n",
       " 'and',\n",
       " 'markets.',\n",
       " '\"bitcoin',\n",
       " 'presented',\n",
       " 'the',\n",
       " 'broad',\n",
       " 'strokes',\n",
       " 'vision,',\n",
       " 'and',\n",
       " 'ethereum',\n",
       " 'presented',\n",
       " 'the',\n",
       " 'crystallization',\n",
       " 'of',\n",
       " 'how',\n",
       " 'to',\n",
       " 'deliver',\n",
       " 'that',\n",
       " 'vision,\"',\n",
       " 'he',\n",
       " 'said.',\n",
       " 'joseph',\n",
       " 'bonneau,',\n",
       " 'a',\n",
       " 'computer',\n",
       " 'science',\n",
       " 'researcher',\n",
       " 'at',\n",
       " 'stanford',\n",
       " 'who',\n",
       " 'studies',\n",
       " ...]"
      ]
     },
     "execution_count": 117,
     "metadata": {},
     "output_type": "execute_result"
    }
   ],
   "source": [
    "word_list[0]"
   ]
  },
  {
   "cell_type": "code",
   "execution_count": 118,
   "id": "e19b758c",
   "metadata": {
    "id": "e19b758c"
   },
   "outputs": [
    {
     "data": {
      "text/plain": [
       "(2211, 1072, 311)"
      ]
     },
     "execution_count": 118,
     "metadata": {},
     "output_type": "execute_result"
    }
   ],
   "source": [
    "len(word_list), len(word_list[0]) , len(word_list[1])"
   ]
  },
  {
   "cell_type": "code",
   "execution_count": 119,
   "id": "b5570e22",
   "metadata": {
    "id": "b5570e22"
   },
   "outputs": [],
   "source": [
    "# Lets create dictionary\n",
    "dictionary = Dictionary(word_list)\n",
    "\n",
    "# Bag of Words\n",
    "bow = [dictionary.doc2bow(doc) for doc in word_list]\n",
    "\n",
    "# TFIDF model\n",
    "tfidf = TfidfModel(bow)\n",
    "\n",
    "# Similarity Matrix\n",
    "sims = MatrixSimilarity(tfidf[bow], num_features=len(dictionary))"
   ]
  },
  {
   "cell_type": "code",
   "execution_count": 120,
   "id": "FO1MprwCUr4K",
   "metadata": {
    "id": "FO1MprwCUr4K"
   },
   "outputs": [
    {
     "name": "stdout",
     "output_type": "stream",
     "text": [
      "MatrixSimilarity<2211 docs, 113134 features>\n"
     ]
    }
   ],
   "source": [
    "print(sims)"
   ]
  },
  {
   "cell_type": "code",
   "execution_count": 121,
   "id": "cf6ddaad",
   "metadata": {
    "id": "cf6ddaad"
   },
   "outputs": [],
   "source": [
    "def item_recommendation(items_title):\n",
    "    items = eng_items.loc[eng_items.title == items_title]\n",
    "    keywords = items.text_description.iloc[0].split()\n",
    "    query = keywords\n",
    "    query_bow = dictionary.doc2bow(query)\n",
    "    query_tfidf = tfidf[query_bow]\n",
    "    sim_array = sims[query_tfidf]\n",
    "    sim_series = pd.Series(sim_array.tolist(), index = eng_items.title.values)\n",
    "    sim_output = sim_series.sort_values(ascending=False)\n",
    "    return sim_output"
   ]
  },
  {
   "cell_type": "code",
   "execution_count": 122,
   "id": "b0f7f7a5",
   "metadata": {
    "id": "b0f7f7a5"
   },
   "outputs": [
    {
     "name": "stdout",
     "output_type": "stream",
     "text": [
      "Top 10 similar articles for \"Google Data Center 360° Tour\"\n",
      "----------------------------------------------------------------------------------------------------\n"
     ]
    },
    {
     "data": {
      "text/plain": [
       "Google Data Center 360° Tour                                                            0.802829\n",
       "Google shares data center security and design best practices                            0.158404\n",
       "Slack swips at Skype with video calls and reaction emoji                                0.119946\n",
       "[Tools] Free Business Video Conference with Screen Sharing, Permanent Room              0.103585\n",
       "Globo.com Uses NGINX for Streaming Media to 500,000+ Viewers                            0.093740\n",
       "Doing Data Science Right - Your Most Common Questions Answered                          0.091469\n",
       "[Tools] How to Record your Desktop Screen with YouTube                                  0.087743\n",
       "Google launches Duo video calling app, a dull cross-OS FaceTime rival                   0.082372\n",
       "Talking Payments - Article Profile - 93% of banks expect video to boost satisfaction    0.077295\n",
       "So long MVP. Hello Minimum Loveable Product.                                            0.074742\n",
       "dtype: float64"
      ]
     },
     "execution_count": 122,
     "metadata": {},
     "output_type": "execute_result"
    }
   ],
   "source": [
    "# Lets get top 10 similar articles for\n",
    "\n",
    "print('Top 10 similar articles for \\\"' + eng_items.title.iloc[2] + '\\\"')\n",
    "print('-' * 100)\n",
    "item_recommendation(eng_items.title.iloc[2])[:10]"
   ]
  },
  {
   "cell_type": "code",
   "execution_count": 123,
   "id": "eb7e5d50",
   "metadata": {
    "id": "eb7e5d50"
   },
   "outputs": [
    {
     "name": "stdout",
     "output_type": "stream",
     "text": [
      "Top 10 similar articles for \"Setting Up SSL proxy for Google Cloud Load Balancing\"\n",
      "----------------------------------------------------------------------------------------------------\n"
     ]
    },
    {
     "data": {
      "text/plain": [
       "Setting Up SSL proxy for Google Cloud Load Balancing                                                                                    0.781007\n",
       "Setting Up HTTP(S) Load Balancing                                                                                                       0.488556\n",
       "AWS Certified Solutions Architect Professional – Study Guide – Domain 4.0: Network Design for a complex large scale deployment (10%)    0.282943\n",
       "Introducing the new Google Cloud Load Balancing UI                                                                                      0.276180\n",
       "Calculating and searching 500 billion digits of Pi                                                                                      0.270947\n",
       "Google Cloud Platform for AWS Professionals                                                                                             0.240611\n",
       "Filtering and formatting fun with gcloud, GCP's command line interface                                                                  0.205432\n",
       "BrowserLab: Automated regression detection for the web                                                                                  0.153604\n",
       "AWS Certified Solutions Architect Professional – Study Guide – Domain 2.0 Costing                                                       0.137288\n",
       "Digital Health Coaching                                                                                                                 0.125815\n",
       "dtype: float64"
      ]
     },
     "execution_count": 123,
     "metadata": {},
     "output_type": "execute_result"
    }
   ],
   "source": [
    "# Lets get top 10 similar articles for\n",
    "\n",
    "print('Top 10 similar articles for \\\"' + eng_items.title.iloc[10] + '\\\"')\n",
    "print('-' * 100)\n",
    "item_recommendation(eng_items.title.iloc[10])[:10]"
   ]
  },
  {
   "cell_type": "code",
   "execution_count": 124,
   "id": "8SVYvVt8Ur4O",
   "metadata": {
    "id": "8SVYvVt8Ur4O"
   },
   "outputs": [
    {
     "data": {
      "text/plain": [
       "Hopper raises $16 million for a travel app that tells you the best time to fly                               0.693542\n",
       "A sneak peek at Google's upcoming travel app, Trips                                                          0.124992\n",
       "How to send better push notifications - the complete guide to push notifications - Growth Bug - App World    0.110059\n",
       "State of the Digital Nation 2016                                                                             0.089201\n",
       "Bots won't replace apps. Better apps will replace apps.                                                      0.086670\n",
       "                                                                                                               ...   \n",
       "Presenting to the Boss(es) | Pluralsight                                                                     0.000798\n",
       "Linus Torvalds: The mind behind Linux                                                                        0.000695\n",
       "Linus Torvalds: The mind behind Linux                                                                        0.000695\n",
       "Captain Fantastic (2016)                                                                                     0.000394\n",
       "[Webinar] PMI | Project Management Institute                                                                 0.000127\n",
       "Length: 2211, dtype: float64"
      ]
     },
     "execution_count": 124,
     "metadata": {},
     "output_type": "execute_result"
    }
   ],
   "source": [
    "#recommend_df=\n",
    "recommend_news=item_recommendation('Hopper raises $16 million for a travel app that tells you the best time to fly')\n",
    "recommend_news"
   ]
  },
  {
   "cell_type": "code",
   "execution_count": 125,
   "id": "w4OxNvkFUr4P",
   "metadata": {
    "id": "w4OxNvkFUr4P"
   },
   "outputs": [
    {
     "data": {
      "text/html": [
       "<div>\n",
       "<style scoped>\n",
       "    .dataframe tbody tr th:only-of-type {\n",
       "        vertical-align: middle;\n",
       "    }\n",
       "\n",
       "    .dataframe tbody tr th {\n",
       "        vertical-align: top;\n",
       "    }\n",
       "\n",
       "    .dataframe thead th {\n",
       "        text-align: right;\n",
       "    }\n",
       "</style>\n",
       "<table border=\"1\" class=\"dataframe\">\n",
       "  <thead>\n",
       "    <tr style=\"text-align: right;\">\n",
       "      <th></th>\n",
       "      <th>0</th>\n",
       "    </tr>\n",
       "  </thead>\n",
       "  <tbody>\n",
       "    <tr>\n",
       "      <th>Hopper raises $16 million for a travel app that tells you the best time to fly</th>\n",
       "      <td>0.693542</td>\n",
       "    </tr>\n",
       "    <tr>\n",
       "      <th>A sneak peek at Google's upcoming travel app, Trips</th>\n",
       "      <td>0.124992</td>\n",
       "    </tr>\n",
       "    <tr>\n",
       "      <th>How to send better push notifications - the complete guide to push notifications - Growth Bug - App World</th>\n",
       "      <td>0.110059</td>\n",
       "    </tr>\n",
       "    <tr>\n",
       "      <th>State of the Digital Nation 2016</th>\n",
       "      <td>0.089201</td>\n",
       "    </tr>\n",
       "    <tr>\n",
       "      <th>Bots won't replace apps. Better apps will replace apps.</th>\n",
       "      <td>0.086670</td>\n",
       "    </tr>\n",
       "  </tbody>\n",
       "</table>\n",
       "</div>"
      ],
      "text/plain": [
       "                                                                                                                  0\n",
       "Hopper raises $16 million for a travel app that tells you the best time to fly                             0.693542\n",
       "A sneak peek at Google's upcoming travel app, Trips                                                        0.124992\n",
       "How to send better push notifications - the complete guide to push notifications - Growth Bug - App World  0.110059\n",
       "State of the Digital Nation 2016                                                                           0.089201\n",
       "Bots won't replace apps. Better apps will replace apps.                                                    0.086670"
      ]
     },
     "execution_count": 125,
     "metadata": {},
     "output_type": "execute_result"
    }
   ],
   "source": [
    "recommend_news_df=pd.DataFrame(recommend_news)\n",
    "recommend_news_df.head()"
   ]
  },
  {
   "cell_type": "code",
   "execution_count": 126,
   "id": "d3sYq_DPUr4Q",
   "metadata": {
    "id": "d3sYq_DPUr4Q"
   },
   "outputs": [],
   "source": [
    "recommend_news_df.reset_index(inplace=True)"
   ]
  },
  {
   "cell_type": "code",
   "execution_count": 127,
   "id": "oyEw9_yvUr4S",
   "metadata": {
    "id": "oyEw9_yvUr4S"
   },
   "outputs": [
    {
     "data": {
      "text/html": [
       "<div>\n",
       "<style scoped>\n",
       "    .dataframe tbody tr th:only-of-type {\n",
       "        vertical-align: middle;\n",
       "    }\n",
       "\n",
       "    .dataframe tbody tr th {\n",
       "        vertical-align: top;\n",
       "    }\n",
       "\n",
       "    .dataframe thead th {\n",
       "        text-align: right;\n",
       "    }\n",
       "</style>\n",
       "<table border=\"1\" class=\"dataframe\">\n",
       "  <thead>\n",
       "    <tr style=\"text-align: right;\">\n",
       "      <th></th>\n",
       "      <th>index</th>\n",
       "      <th>0</th>\n",
       "    </tr>\n",
       "  </thead>\n",
       "  <tbody>\n",
       "    <tr>\n",
       "      <th>0</th>\n",
       "      <td>Hopper raises $16 million for a travel app that tells you the best time to fly</td>\n",
       "      <td>0.693542</td>\n",
       "    </tr>\n",
       "    <tr>\n",
       "      <th>1</th>\n",
       "      <td>A sneak peek at Google's upcoming travel app, Trips</td>\n",
       "      <td>0.124992</td>\n",
       "    </tr>\n",
       "    <tr>\n",
       "      <th>2</th>\n",
       "      <td>How to send better push notifications - the complete guide to push notifications - Growth Bug - App World</td>\n",
       "      <td>0.110059</td>\n",
       "    </tr>\n",
       "    <tr>\n",
       "      <th>3</th>\n",
       "      <td>State of the Digital Nation 2016</td>\n",
       "      <td>0.089201</td>\n",
       "    </tr>\n",
       "    <tr>\n",
       "      <th>4</th>\n",
       "      <td>Bots won't replace apps. Better apps will replace apps.</td>\n",
       "      <td>0.086670</td>\n",
       "    </tr>\n",
       "  </tbody>\n",
       "</table>\n",
       "</div>"
      ],
      "text/plain": [
       "                                                                                                       index  \\\n",
       "0                             Hopper raises $16 million for a travel app that tells you the best time to fly   \n",
       "1                                                        A sneak peek at Google's upcoming travel app, Trips   \n",
       "2  How to send better push notifications - the complete guide to push notifications - Growth Bug - App World   \n",
       "3                                                                           State of the Digital Nation 2016   \n",
       "4                                                    Bots won't replace apps. Better apps will replace apps.   \n",
       "\n",
       "          0  \n",
       "0  0.693542  \n",
       "1  0.124992  \n",
       "2  0.110059  \n",
       "3  0.089201  \n",
       "4  0.086670  "
      ]
     },
     "execution_count": 127,
     "metadata": {},
     "output_type": "execute_result"
    }
   ],
   "source": [
    "recommend_news_df.head()"
   ]
  },
  {
   "cell_type": "code",
   "execution_count": 128,
   "id": "lqM2ZNiwUr4T",
   "metadata": {
    "id": "lqM2ZNiwUr4T"
   },
   "outputs": [],
   "source": [
    "recommend_news_df.columns = ['title', 'score']"
   ]
  },
  {
   "cell_type": "code",
   "execution_count": 129,
   "id": "vTrRuxN4Ur4V",
   "metadata": {
    "id": "vTrRuxN4Ur4V"
   },
   "outputs": [
    {
     "data": {
      "text/html": [
       "<div>\n",
       "<style scoped>\n",
       "    .dataframe tbody tr th:only-of-type {\n",
       "        vertical-align: middle;\n",
       "    }\n",
       "\n",
       "    .dataframe tbody tr th {\n",
       "        vertical-align: top;\n",
       "    }\n",
       "\n",
       "    .dataframe thead th {\n",
       "        text-align: right;\n",
       "    }\n",
       "</style>\n",
       "<table border=\"1\" class=\"dataframe\">\n",
       "  <thead>\n",
       "    <tr style=\"text-align: right;\">\n",
       "      <th></th>\n",
       "      <th>title</th>\n",
       "      <th>score</th>\n",
       "    </tr>\n",
       "  </thead>\n",
       "  <tbody>\n",
       "    <tr>\n",
       "      <th>0</th>\n",
       "      <td>Hopper raises $16 million for a travel app that tells you the best time to fly</td>\n",
       "      <td>0.693542</td>\n",
       "    </tr>\n",
       "    <tr>\n",
       "      <th>1</th>\n",
       "      <td>A sneak peek at Google's upcoming travel app, Trips</td>\n",
       "      <td>0.124992</td>\n",
       "    </tr>\n",
       "    <tr>\n",
       "      <th>2</th>\n",
       "      <td>How to send better push notifications - the complete guide to push notifications - Growth Bug - App World</td>\n",
       "      <td>0.110059</td>\n",
       "    </tr>\n",
       "    <tr>\n",
       "      <th>3</th>\n",
       "      <td>State of the Digital Nation 2016</td>\n",
       "      <td>0.089201</td>\n",
       "    </tr>\n",
       "    <tr>\n",
       "      <th>4</th>\n",
       "      <td>Bots won't replace apps. Better apps will replace apps.</td>\n",
       "      <td>0.086670</td>\n",
       "    </tr>\n",
       "  </tbody>\n",
       "</table>\n",
       "</div>"
      ],
      "text/plain": [
       "                                                                                                       title  \\\n",
       "0                             Hopper raises $16 million for a travel app that tells you the best time to fly   \n",
       "1                                                        A sneak peek at Google's upcoming travel app, Trips   \n",
       "2  How to send better push notifications - the complete guide to push notifications - Growth Bug - App World   \n",
       "3                                                                           State of the Digital Nation 2016   \n",
       "4                                                    Bots won't replace apps. Better apps will replace apps.   \n",
       "\n",
       "      score  \n",
       "0  0.693542  \n",
       "1  0.124992  \n",
       "2  0.110059  \n",
       "3  0.089201  \n",
       "4  0.086670  "
      ]
     },
     "execution_count": 129,
     "metadata": {},
     "output_type": "execute_result"
    }
   ],
   "source": [
    "recommend_news_df.head()"
   ]
  },
  {
   "cell_type": "code",
   "execution_count": 130,
   "id": "nnR80a0AUr4W",
   "metadata": {
    "id": "nnR80a0AUr4W"
   },
   "outputs": [
    {
     "data": {
      "text/plain": [
       "(2211, 2)"
      ]
     },
     "execution_count": 130,
     "metadata": {},
     "output_type": "execute_result"
    }
   ],
   "source": [
    "recommend_news_df.shape"
   ]
  },
  {
   "cell_type": "code",
   "execution_count": 131,
   "id": "5nO-gOhSUr4Y",
   "metadata": {
    "id": "5nO-gOhSUr4Y"
   },
   "outputs": [],
   "source": [
    "recommend_news_df['content_score_normalized'] = (recommend_news_df['score']-min(recommend_news_df['score'])) / (max(recommend_news_df['score']) - min(recommend_news_df['score']))"
   ]
  },
  {
   "cell_type": "code",
   "execution_count": 132,
   "id": "95uiP2IuUr4Z",
   "metadata": {
    "id": "95uiP2IuUr4Z"
   },
   "outputs": [
    {
     "data": {
      "text/html": [
       "<div>\n",
       "<style scoped>\n",
       "    .dataframe tbody tr th:only-of-type {\n",
       "        vertical-align: middle;\n",
       "    }\n",
       "\n",
       "    .dataframe tbody tr th {\n",
       "        vertical-align: top;\n",
       "    }\n",
       "\n",
       "    .dataframe thead th {\n",
       "        text-align: right;\n",
       "    }\n",
       "</style>\n",
       "<table border=\"1\" class=\"dataframe\">\n",
       "  <thead>\n",
       "    <tr style=\"text-align: right;\">\n",
       "      <th></th>\n",
       "      <th>title</th>\n",
       "      <th>score</th>\n",
       "      <th>content_score_normalized</th>\n",
       "    </tr>\n",
       "  </thead>\n",
       "  <tbody>\n",
       "    <tr>\n",
       "      <th>0</th>\n",
       "      <td>Hopper raises $16 million for a travel app that tells you the best time to fly</td>\n",
       "      <td>0.693542</td>\n",
       "      <td>1.000000</td>\n",
       "    </tr>\n",
       "    <tr>\n",
       "      <th>1</th>\n",
       "      <td>A sneak peek at Google's upcoming travel app, Trips</td>\n",
       "      <td>0.124992</td>\n",
       "      <td>0.180072</td>\n",
       "    </tr>\n",
       "    <tr>\n",
       "      <th>2</th>\n",
       "      <td>How to send better push notifications - the complete guide to push notifications - Growth Bug - App World</td>\n",
       "      <td>0.110059</td>\n",
       "      <td>0.158537</td>\n",
       "    </tr>\n",
       "    <tr>\n",
       "      <th>3</th>\n",
       "      <td>State of the Digital Nation 2016</td>\n",
       "      <td>0.089201</td>\n",
       "      <td>0.128457</td>\n",
       "    </tr>\n",
       "    <tr>\n",
       "      <th>4</th>\n",
       "      <td>Bots won't replace apps. Better apps will replace apps.</td>\n",
       "      <td>0.086670</td>\n",
       "      <td>0.124807</td>\n",
       "    </tr>\n",
       "  </tbody>\n",
       "</table>\n",
       "</div>"
      ],
      "text/plain": [
       "                                                                                                       title  \\\n",
       "0                             Hopper raises $16 million for a travel app that tells you the best time to fly   \n",
       "1                                                        A sneak peek at Google's upcoming travel app, Trips   \n",
       "2  How to send better push notifications - the complete guide to push notifications - Growth Bug - App World   \n",
       "3                                                                           State of the Digital Nation 2016   \n",
       "4                                                    Bots won't replace apps. Better apps will replace apps.   \n",
       "\n",
       "      score  content_score_normalized  \n",
       "0  0.693542                  1.000000  \n",
       "1  0.124992                  0.180072  \n",
       "2  0.110059                  0.158537  \n",
       "3  0.089201                  0.128457  \n",
       "4  0.086670                  0.124807  "
      ]
     },
     "execution_count": 132,
     "metadata": {},
     "output_type": "execute_result"
    }
   ],
   "source": [
    "recommend_news_df.head()"
   ]
  },
  {
   "cell_type": "code",
   "execution_count": 133,
   "id": "Uj9YsvVjUr4a",
   "metadata": {
    "id": "Uj9YsvVjUr4a"
   },
   "outputs": [
    {
     "data": {
      "text/plain": [
       "pandas.core.frame.DataFrame"
      ]
     },
     "execution_count": 133,
     "metadata": {},
     "output_type": "execute_result"
    }
   ],
   "source": [
    "type(recommend_news_df)"
   ]
  },
  {
   "cell_type": "code",
   "execution_count": 134,
   "id": "lLca_by6Ur4d",
   "metadata": {
    "id": "lLca_by6Ur4d"
   },
   "outputs": [
    {
     "data": {
      "text/html": [
       "<div>\n",
       "<style scoped>\n",
       "    .dataframe tbody tr th:only-of-type {\n",
       "        vertical-align: middle;\n",
       "    }\n",
       "\n",
       "    .dataframe tbody tr th {\n",
       "        vertical-align: top;\n",
       "    }\n",
       "\n",
       "    .dataframe thead th {\n",
       "        text-align: right;\n",
       "    }\n",
       "</style>\n",
       "<table border=\"1\" class=\"dataframe\">\n",
       "  <thead>\n",
       "    <tr style=\"text-align: right;\">\n",
       "      <th></th>\n",
       "      <th>score</th>\n",
       "      <th>content_score_normalized</th>\n",
       "    </tr>\n",
       "  </thead>\n",
       "  <tbody>\n",
       "    <tr>\n",
       "      <th>count</th>\n",
       "      <td>2211.000000</td>\n",
       "      <td>2211.000000</td>\n",
       "    </tr>\n",
       "    <tr>\n",
       "      <th>mean</th>\n",
       "      <td>0.025237</td>\n",
       "      <td>0.036211</td>\n",
       "    </tr>\n",
       "    <tr>\n",
       "      <th>std</th>\n",
       "      <td>0.020025</td>\n",
       "      <td>0.028878</td>\n",
       "    </tr>\n",
       "    <tr>\n",
       "      <th>min</th>\n",
       "      <td>0.000127</td>\n",
       "      <td>0.000000</td>\n",
       "    </tr>\n",
       "    <tr>\n",
       "      <th>25%</th>\n",
       "      <td>0.014972</td>\n",
       "      <td>0.021408</td>\n",
       "    </tr>\n",
       "    <tr>\n",
       "      <th>50%</th>\n",
       "      <td>0.022800</td>\n",
       "      <td>0.032696</td>\n",
       "    </tr>\n",
       "    <tr>\n",
       "      <th>75%</th>\n",
       "      <td>0.032075</td>\n",
       "      <td>0.046072</td>\n",
       "    </tr>\n",
       "    <tr>\n",
       "      <th>max</th>\n",
       "      <td>0.693542</td>\n",
       "      <td>1.000000</td>\n",
       "    </tr>\n",
       "  </tbody>\n",
       "</table>\n",
       "</div>"
      ],
      "text/plain": [
       "             score  content_score_normalized\n",
       "count  2211.000000               2211.000000\n",
       "mean      0.025237                  0.036211\n",
       "std       0.020025                  0.028878\n",
       "min       0.000127                  0.000000\n",
       "25%       0.014972                  0.021408\n",
       "50%       0.022800                  0.032696\n",
       "75%       0.032075                  0.046072\n",
       "max       0.693542                  1.000000"
      ]
     },
     "execution_count": 134,
     "metadata": {},
     "output_type": "execute_result"
    }
   ],
   "source": [
    "recommend_news_df.describe()"
   ]
  },
  {
   "cell_type": "markdown",
   "id": "134036b7",
   "metadata": {
    "id": "134036b7"
   },
   "source": [
    "### Hybrid Recommendation\n",
    "##### Collaborative Item Based + Content Based"
   ]
  },
  {
   "cell_type": "code",
   "execution_count": 135,
   "id": "9c61632b",
   "metadata": {
    "id": "9c61632b"
   },
   "outputs": [
    {
     "data": {
      "text/html": [
       "<div>\n",
       "<style scoped>\n",
       "    .dataframe tbody tr th:only-of-type {\n",
       "        vertical-align: middle;\n",
       "    }\n",
       "\n",
       "    .dataframe tbody tr th {\n",
       "        vertical-align: top;\n",
       "    }\n",
       "\n",
       "    .dataframe thead th {\n",
       "        text-align: right;\n",
       "    }\n",
       "</style>\n",
       "<table border=\"1\" class=\"dataframe\">\n",
       "  <thead>\n",
       "    <tr style=\"text-align: right;\">\n",
       "      <th></th>\n",
       "      <th>news_id</th>\n",
       "      <th>item_id</th>\n",
       "      <th>title</th>\n",
       "      <th>value</th>\n",
       "      <th>normalized_score</th>\n",
       "    </tr>\n",
       "  </thead>\n",
       "  <tbody>\n",
       "    <tr>\n",
       "      <th>0</th>\n",
       "      <td>20</td>\n",
       "      <td>-9107331682787867601</td>\n",
       "      <td>Hopper raises $16 million for a travel app that tells you the best time to fly</td>\n",
       "      <td>1.0</td>\n",
       "      <td>1.0</td>\n",
       "    </tr>\n",
       "    <tr>\n",
       "      <th>1</th>\n",
       "      <td>2501</td>\n",
       "      <td>6237714845306489877</td>\n",
       "      <td>How CEOs Can Keep Their Analytics Programs from Being a Waste of Time</td>\n",
       "      <td>0.5</td>\n",
       "      <td>0.5</td>\n",
       "    </tr>\n",
       "    <tr>\n",
       "      <th>2</th>\n",
       "      <td>110</td>\n",
       "      <td>-8689461307495241608</td>\n",
       "      <td>Ebay's mobile Craigslist competitor Close5 has quietly grown to 7 million downloads</td>\n",
       "      <td>0.5</td>\n",
       "      <td>0.5</td>\n",
       "    </tr>\n",
       "    <tr>\n",
       "      <th>3</th>\n",
       "      <td>1172</td>\n",
       "      <td>-1852324383183073754</td>\n",
       "      <td>Load Your Steam Wallet Using Bitcoin</td>\n",
       "      <td>0.5</td>\n",
       "      <td>0.5</td>\n",
       "    </tr>\n",
       "    <tr>\n",
       "      <th>4</th>\n",
       "      <td>1487</td>\n",
       "      <td>1984587708208773</td>\n",
       "      <td>Heroínas de 'Estrelas além do tempo' inspiram garotas em trabalho de escola nos EUA</td>\n",
       "      <td>0.5</td>\n",
       "      <td>0.5</td>\n",
       "    </tr>\n",
       "  </tbody>\n",
       "</table>\n",
       "</div>"
      ],
      "text/plain": [
       "   news_id              item_id  \\\n",
       "0       20 -9107331682787867601   \n",
       "1     2501  6237714845306489877   \n",
       "2      110 -8689461307495241608   \n",
       "3     1172 -1852324383183073754   \n",
       "4     1487     1984587708208773   \n",
       "\n",
       "                                                                                 title  \\\n",
       "0       Hopper raises $16 million for a travel app that tells you the best time to fly   \n",
       "1                How CEOs Can Keep Their Analytics Programs from Being a Waste of Time   \n",
       "2  Ebay's mobile Craigslist competitor Close5 has quietly grown to 7 million downloads   \n",
       "3                                                 Load Your Steam Wallet Using Bitcoin   \n",
       "4  Heroínas de 'Estrelas além do tempo' inspiram garotas em trabalho de escola nos EUA   \n",
       "\n",
       "   value  normalized_score  \n",
       "0    1.0               1.0  \n",
       "1    0.5               0.5  \n",
       "2    0.5               0.5  \n",
       "3    0.5               0.5  \n",
       "4    0.5               0.5  "
      ]
     },
     "execution_count": 135,
     "metadata": {},
     "output_type": "execute_result"
    }
   ],
   "source": [
    "sim_articles_20.head()"
   ]
  },
  {
   "cell_type": "code",
   "execution_count": 136,
   "id": "42c20a8b",
   "metadata": {
    "id": "42c20a8b"
   },
   "outputs": [
    {
     "data": {
      "text/html": [
       "<div>\n",
       "<style scoped>\n",
       "    .dataframe tbody tr th:only-of-type {\n",
       "        vertical-align: middle;\n",
       "    }\n",
       "\n",
       "    .dataframe tbody tr th {\n",
       "        vertical-align: top;\n",
       "    }\n",
       "\n",
       "    .dataframe thead th {\n",
       "        text-align: right;\n",
       "    }\n",
       "</style>\n",
       "<table border=\"1\" class=\"dataframe\">\n",
       "  <thead>\n",
       "    <tr style=\"text-align: right;\">\n",
       "      <th></th>\n",
       "      <th>title</th>\n",
       "      <th>score</th>\n",
       "      <th>content_score_normalized</th>\n",
       "    </tr>\n",
       "  </thead>\n",
       "  <tbody>\n",
       "    <tr>\n",
       "      <th>0</th>\n",
       "      <td>Hopper raises $16 million for a travel app that tells you the best time to fly</td>\n",
       "      <td>0.693542</td>\n",
       "      <td>1.000000</td>\n",
       "    </tr>\n",
       "    <tr>\n",
       "      <th>1</th>\n",
       "      <td>A sneak peek at Google's upcoming travel app, Trips</td>\n",
       "      <td>0.124992</td>\n",
       "      <td>0.180072</td>\n",
       "    </tr>\n",
       "    <tr>\n",
       "      <th>2</th>\n",
       "      <td>How to send better push notifications - the complete guide to push notifications - Growth Bug - App World</td>\n",
       "      <td>0.110059</td>\n",
       "      <td>0.158537</td>\n",
       "    </tr>\n",
       "    <tr>\n",
       "      <th>3</th>\n",
       "      <td>State of the Digital Nation 2016</td>\n",
       "      <td>0.089201</td>\n",
       "      <td>0.128457</td>\n",
       "    </tr>\n",
       "    <tr>\n",
       "      <th>4</th>\n",
       "      <td>Bots won't replace apps. Better apps will replace apps.</td>\n",
       "      <td>0.086670</td>\n",
       "      <td>0.124807</td>\n",
       "    </tr>\n",
       "  </tbody>\n",
       "</table>\n",
       "</div>"
      ],
      "text/plain": [
       "                                                                                                       title  \\\n",
       "0                             Hopper raises $16 million for a travel app that tells you the best time to fly   \n",
       "1                                                        A sneak peek at Google's upcoming travel app, Trips   \n",
       "2  How to send better push notifications - the complete guide to push notifications - Growth Bug - App World   \n",
       "3                                                                           State of the Digital Nation 2016   \n",
       "4                                                    Bots won't replace apps. Better apps will replace apps.   \n",
       "\n",
       "      score  content_score_normalized  \n",
       "0  0.693542                  1.000000  \n",
       "1  0.124992                  0.180072  \n",
       "2  0.110059                  0.158537  \n",
       "3  0.089201                  0.128457  \n",
       "4  0.086670                  0.124807  "
      ]
     },
     "execution_count": 136,
     "metadata": {},
     "output_type": "execute_result"
    }
   ],
   "source": [
    "recommend_news_df.head()"
   ]
  },
  {
   "cell_type": "code",
   "execution_count": 137,
   "id": "hbhiNA6WUr4i",
   "metadata": {
    "id": "hbhiNA6WUr4i"
   },
   "outputs": [],
   "source": [
    "hybrid_output = pd.merge(sim_articles_20, recommend_news_df, how='left', on='title')"
   ]
  },
  {
   "cell_type": "code",
   "execution_count": 138,
   "id": "FkTgQfteUr4i",
   "metadata": {
    "id": "FkTgQfteUr4i"
   },
   "outputs": [
    {
     "data": {
      "text/html": [
       "<div>\n",
       "<style scoped>\n",
       "    .dataframe tbody tr th:only-of-type {\n",
       "        vertical-align: middle;\n",
       "    }\n",
       "\n",
       "    .dataframe tbody tr th {\n",
       "        vertical-align: top;\n",
       "    }\n",
       "\n",
       "    .dataframe thead th {\n",
       "        text-align: right;\n",
       "    }\n",
       "</style>\n",
       "<table border=\"1\" class=\"dataframe\">\n",
       "  <thead>\n",
       "    <tr style=\"text-align: right;\">\n",
       "      <th></th>\n",
       "      <th>news_id</th>\n",
       "      <th>item_id</th>\n",
       "      <th>title</th>\n",
       "      <th>value</th>\n",
       "      <th>normalized_score</th>\n",
       "      <th>score</th>\n",
       "      <th>content_score_normalized</th>\n",
       "    </tr>\n",
       "  </thead>\n",
       "  <tbody>\n",
       "    <tr>\n",
       "      <th>0</th>\n",
       "      <td>20</td>\n",
       "      <td>-9107331682787867601</td>\n",
       "      <td>Hopper raises $16 million for a travel app that tells you the best time to fly</td>\n",
       "      <td>1.0</td>\n",
       "      <td>1.0</td>\n",
       "      <td>0.693542</td>\n",
       "      <td>1.000000</td>\n",
       "    </tr>\n",
       "    <tr>\n",
       "      <th>1</th>\n",
       "      <td>2501</td>\n",
       "      <td>6237714845306489877</td>\n",
       "      <td>How CEOs Can Keep Their Analytics Programs from Being a Waste of Time</td>\n",
       "      <td>0.5</td>\n",
       "      <td>0.5</td>\n",
       "      <td>0.013186</td>\n",
       "      <td>0.018832</td>\n",
       "    </tr>\n",
       "    <tr>\n",
       "      <th>2</th>\n",
       "      <td>110</td>\n",
       "      <td>-8689461307495241608</td>\n",
       "      <td>Ebay's mobile Craigslist competitor Close5 has quietly grown to 7 million downloads</td>\n",
       "      <td>0.5</td>\n",
       "      <td>0.5</td>\n",
       "      <td>0.055619</td>\n",
       "      <td>0.080026</td>\n",
       "    </tr>\n",
       "    <tr>\n",
       "      <th>3</th>\n",
       "      <td>1172</td>\n",
       "      <td>-1852324383183073754</td>\n",
       "      <td>Load Your Steam Wallet Using Bitcoin</td>\n",
       "      <td>0.5</td>\n",
       "      <td>0.5</td>\n",
       "      <td>0.017541</td>\n",
       "      <td>0.025113</td>\n",
       "    </tr>\n",
       "    <tr>\n",
       "      <th>4</th>\n",
       "      <td>1487</td>\n",
       "      <td>1984587708208773</td>\n",
       "      <td>Heroínas de 'Estrelas além do tempo' inspiram garotas em trabalho de escola nos EUA</td>\n",
       "      <td>0.5</td>\n",
       "      <td>0.5</td>\n",
       "      <td>NaN</td>\n",
       "      <td>NaN</td>\n",
       "    </tr>\n",
       "  </tbody>\n",
       "</table>\n",
       "</div>"
      ],
      "text/plain": [
       "   news_id              item_id  \\\n",
       "0       20 -9107331682787867601   \n",
       "1     2501  6237714845306489877   \n",
       "2      110 -8689461307495241608   \n",
       "3     1172 -1852324383183073754   \n",
       "4     1487     1984587708208773   \n",
       "\n",
       "                                                                                 title  \\\n",
       "0       Hopper raises $16 million for a travel app that tells you the best time to fly   \n",
       "1                How CEOs Can Keep Their Analytics Programs from Being a Waste of Time   \n",
       "2  Ebay's mobile Craigslist competitor Close5 has quietly grown to 7 million downloads   \n",
       "3                                                 Load Your Steam Wallet Using Bitcoin   \n",
       "4  Heroínas de 'Estrelas além do tempo' inspiram garotas em trabalho de escola nos EUA   \n",
       "\n",
       "   value  normalized_score     score  content_score_normalized  \n",
       "0    1.0               1.0  0.693542                  1.000000  \n",
       "1    0.5               0.5  0.013186                  0.018832  \n",
       "2    0.5               0.5  0.055619                  0.080026  \n",
       "3    0.5               0.5  0.017541                  0.025113  \n",
       "4    0.5               0.5       NaN                       NaN  "
      ]
     },
     "execution_count": 138,
     "metadata": {},
     "output_type": "execute_result"
    }
   ],
   "source": [
    "hybrid_output.head()"
   ]
  },
  {
   "cell_type": "code",
   "execution_count": 139,
   "id": "V1nBf6umUr4k",
   "metadata": {
    "id": "V1nBf6umUr4k"
   },
   "outputs": [
    {
     "data": {
      "text/plain": [
       "(3180, 7)"
      ]
     },
     "execution_count": 139,
     "metadata": {},
     "output_type": "execute_result"
    }
   ],
   "source": [
    "hybrid_output.shape"
   ]
  },
  {
   "cell_type": "code",
   "execution_count": 140,
   "id": "wUSxlGmqUr4l",
   "metadata": {
    "id": "wUSxlGmqUr4l"
   },
   "outputs": [],
   "source": [
    "hybrid_output['final_score'] = (hybrid_output['normalized_score'] + hybrid_output['content_score_normalized'])/2"
   ]
  },
  {
   "cell_type": "code",
   "execution_count": 141,
   "id": "YK89pSlGUr4l",
   "metadata": {
    "id": "YK89pSlGUr4l"
   },
   "outputs": [
    {
     "data": {
      "text/html": [
       "<div>\n",
       "<style scoped>\n",
       "    .dataframe tbody tr th:only-of-type {\n",
       "        vertical-align: middle;\n",
       "    }\n",
       "\n",
       "    .dataframe tbody tr th {\n",
       "        vertical-align: top;\n",
       "    }\n",
       "\n",
       "    .dataframe thead th {\n",
       "        text-align: right;\n",
       "    }\n",
       "</style>\n",
       "<table border=\"1\" class=\"dataframe\">\n",
       "  <thead>\n",
       "    <tr style=\"text-align: right;\">\n",
       "      <th></th>\n",
       "      <th>news_id</th>\n",
       "      <th>item_id</th>\n",
       "      <th>title</th>\n",
       "      <th>value</th>\n",
       "      <th>normalized_score</th>\n",
       "      <th>score</th>\n",
       "      <th>content_score_normalized</th>\n",
       "      <th>final_score</th>\n",
       "    </tr>\n",
       "  </thead>\n",
       "  <tbody>\n",
       "    <tr>\n",
       "      <th>0</th>\n",
       "      <td>20</td>\n",
       "      <td>-9107331682787867601</td>\n",
       "      <td>Hopper raises $16 million for a travel app that tells you the best time to fly</td>\n",
       "      <td>1.0</td>\n",
       "      <td>1.0</td>\n",
       "      <td>0.693542</td>\n",
       "      <td>1.000000</td>\n",
       "      <td>1.000000</td>\n",
       "    </tr>\n",
       "    <tr>\n",
       "      <th>1</th>\n",
       "      <td>2501</td>\n",
       "      <td>6237714845306489877</td>\n",
       "      <td>How CEOs Can Keep Their Analytics Programs from Being a Waste of Time</td>\n",
       "      <td>0.5</td>\n",
       "      <td>0.5</td>\n",
       "      <td>0.013186</td>\n",
       "      <td>0.018832</td>\n",
       "      <td>0.259416</td>\n",
       "    </tr>\n",
       "    <tr>\n",
       "      <th>2</th>\n",
       "      <td>110</td>\n",
       "      <td>-8689461307495241608</td>\n",
       "      <td>Ebay's mobile Craigslist competitor Close5 has quietly grown to 7 million downloads</td>\n",
       "      <td>0.5</td>\n",
       "      <td>0.5</td>\n",
       "      <td>0.055619</td>\n",
       "      <td>0.080026</td>\n",
       "      <td>0.290013</td>\n",
       "    </tr>\n",
       "    <tr>\n",
       "      <th>3</th>\n",
       "      <td>1172</td>\n",
       "      <td>-1852324383183073754</td>\n",
       "      <td>Load Your Steam Wallet Using Bitcoin</td>\n",
       "      <td>0.5</td>\n",
       "      <td>0.5</td>\n",
       "      <td>0.017541</td>\n",
       "      <td>0.025113</td>\n",
       "      <td>0.262556</td>\n",
       "    </tr>\n",
       "    <tr>\n",
       "      <th>4</th>\n",
       "      <td>1487</td>\n",
       "      <td>1984587708208773</td>\n",
       "      <td>Heroínas de 'Estrelas além do tempo' inspiram garotas em trabalho de escola nos EUA</td>\n",
       "      <td>0.5</td>\n",
       "      <td>0.5</td>\n",
       "      <td>NaN</td>\n",
       "      <td>NaN</td>\n",
       "      <td>NaN</td>\n",
       "    </tr>\n",
       "  </tbody>\n",
       "</table>\n",
       "</div>"
      ],
      "text/plain": [
       "   news_id              item_id  \\\n",
       "0       20 -9107331682787867601   \n",
       "1     2501  6237714845306489877   \n",
       "2      110 -8689461307495241608   \n",
       "3     1172 -1852324383183073754   \n",
       "4     1487     1984587708208773   \n",
       "\n",
       "                                                                                 title  \\\n",
       "0       Hopper raises $16 million for a travel app that tells you the best time to fly   \n",
       "1                How CEOs Can Keep Their Analytics Programs from Being a Waste of Time   \n",
       "2  Ebay's mobile Craigslist competitor Close5 has quietly grown to 7 million downloads   \n",
       "3                                                 Load Your Steam Wallet Using Bitcoin   \n",
       "4  Heroínas de 'Estrelas além do tempo' inspiram garotas em trabalho de escola nos EUA   \n",
       "\n",
       "   value  normalized_score     score  content_score_normalized  final_score  \n",
       "0    1.0               1.0  0.693542                  1.000000     1.000000  \n",
       "1    0.5               0.5  0.013186                  0.018832     0.259416  \n",
       "2    0.5               0.5  0.055619                  0.080026     0.290013  \n",
       "3    0.5               0.5  0.017541                  0.025113     0.262556  \n",
       "4    0.5               0.5       NaN                       NaN          NaN  "
      ]
     },
     "execution_count": 141,
     "metadata": {},
     "output_type": "execute_result"
    }
   ],
   "source": [
    "hybrid_output.head()"
   ]
  },
  {
   "cell_type": "code",
   "execution_count": 142,
   "id": "MKWs6RNhUr4m",
   "metadata": {
    "id": "MKWs6RNhUr4m"
   },
   "outputs": [],
   "source": [
    "hybrid_output = hybrid_output[['title','final_score']]"
   ]
  },
  {
   "cell_type": "code",
   "execution_count": 143,
   "id": "NAHCMTbjUr4n",
   "metadata": {
    "id": "NAHCMTbjUr4n"
   },
   "outputs": [
    {
     "data": {
      "text/html": [
       "<div>\n",
       "<style scoped>\n",
       "    .dataframe tbody tr th:only-of-type {\n",
       "        vertical-align: middle;\n",
       "    }\n",
       "\n",
       "    .dataframe tbody tr th {\n",
       "        vertical-align: top;\n",
       "    }\n",
       "\n",
       "    .dataframe thead th {\n",
       "        text-align: right;\n",
       "    }\n",
       "</style>\n",
       "<table border=\"1\" class=\"dataframe\">\n",
       "  <thead>\n",
       "    <tr style=\"text-align: right;\">\n",
       "      <th></th>\n",
       "      <th>title</th>\n",
       "      <th>final_score</th>\n",
       "    </tr>\n",
       "  </thead>\n",
       "  <tbody>\n",
       "    <tr>\n",
       "      <th>0</th>\n",
       "      <td>Hopper raises $16 million for a travel app that tells you the best time to fly</td>\n",
       "      <td>1.000000</td>\n",
       "    </tr>\n",
       "    <tr>\n",
       "      <th>1</th>\n",
       "      <td>How CEOs Can Keep Their Analytics Programs from Being a Waste of Time</td>\n",
       "      <td>0.259416</td>\n",
       "    </tr>\n",
       "    <tr>\n",
       "      <th>2</th>\n",
       "      <td>Ebay's mobile Craigslist competitor Close5 has quietly grown to 7 million downloads</td>\n",
       "      <td>0.290013</td>\n",
       "    </tr>\n",
       "    <tr>\n",
       "      <th>3</th>\n",
       "      <td>Load Your Steam Wallet Using Bitcoin</td>\n",
       "      <td>0.262556</td>\n",
       "    </tr>\n",
       "    <tr>\n",
       "      <th>4</th>\n",
       "      <td>Heroínas de 'Estrelas além do tempo' inspiram garotas em trabalho de escola nos EUA</td>\n",
       "      <td>NaN</td>\n",
       "    </tr>\n",
       "  </tbody>\n",
       "</table>\n",
       "</div>"
      ],
      "text/plain": [
       "                                                                                 title  \\\n",
       "0       Hopper raises $16 million for a travel app that tells you the best time to fly   \n",
       "1                How CEOs Can Keep Their Analytics Programs from Being a Waste of Time   \n",
       "2  Ebay's mobile Craigslist competitor Close5 has quietly grown to 7 million downloads   \n",
       "3                                                 Load Your Steam Wallet Using Bitcoin   \n",
       "4  Heroínas de 'Estrelas além do tempo' inspiram garotas em trabalho de escola nos EUA   \n",
       "\n",
       "   final_score  \n",
       "0     1.000000  \n",
       "1     0.259416  \n",
       "2     0.290013  \n",
       "3     0.262556  \n",
       "4          NaN  "
      ]
     },
     "execution_count": 143,
     "metadata": {},
     "output_type": "execute_result"
    }
   ],
   "source": [
    "hybrid_output.head()"
   ]
  },
  {
   "cell_type": "code",
   "execution_count": 144,
   "id": "ZqoehZRjUr4o",
   "metadata": {
    "id": "ZqoehZRjUr4o"
   },
   "outputs": [
    {
     "data": {
      "text/html": [
       "<div>\n",
       "<style scoped>\n",
       "    .dataframe tbody tr th:only-of-type {\n",
       "        vertical-align: middle;\n",
       "    }\n",
       "\n",
       "    .dataframe tbody tr th {\n",
       "        vertical-align: top;\n",
       "    }\n",
       "\n",
       "    .dataframe thead th {\n",
       "        text-align: right;\n",
       "    }\n",
       "</style>\n",
       "<table border=\"1\" class=\"dataframe\">\n",
       "  <thead>\n",
       "    <tr style=\"text-align: right;\">\n",
       "      <th></th>\n",
       "      <th>title</th>\n",
       "      <th>final_score</th>\n",
       "    </tr>\n",
       "  </thead>\n",
       "  <tbody>\n",
       "    <tr>\n",
       "      <th>0</th>\n",
       "      <td>Hopper raises $16 million for a travel app that tells you the best time to fly</td>\n",
       "      <td>1.000000</td>\n",
       "    </tr>\n",
       "    <tr>\n",
       "      <th>2</th>\n",
       "      <td>Ebay's mobile Craigslist competitor Close5 has quietly grown to 7 million downloads</td>\n",
       "      <td>0.290013</td>\n",
       "    </tr>\n",
       "    <tr>\n",
       "      <th>3</th>\n",
       "      <td>Load Your Steam Wallet Using Bitcoin</td>\n",
       "      <td>0.262556</td>\n",
       "    </tr>\n",
       "    <tr>\n",
       "      <th>5</th>\n",
       "      <td>The omnichannel customer experience is poised to take off in regulated industries</td>\n",
       "      <td>0.261284</td>\n",
       "    </tr>\n",
       "    <tr>\n",
       "      <th>1</th>\n",
       "      <td>How CEOs Can Keep Their Analytics Programs from Being a Waste of Time</td>\n",
       "      <td>0.259416</td>\n",
       "    </tr>\n",
       "    <tr>\n",
       "      <th>7</th>\n",
       "      <td>The new tech talent you need to succeed in digital</td>\n",
       "      <td>0.255510</td>\n",
       "    </tr>\n",
       "    <tr>\n",
       "      <th>6</th>\n",
       "      <td>Finding The Meaning Of Artificial Intelligence At Google I/O</td>\n",
       "      <td>0.244078</td>\n",
       "    </tr>\n",
       "    <tr>\n",
       "      <th>27</th>\n",
       "      <td>Building a digital-banking business</td>\n",
       "      <td>0.225837</td>\n",
       "    </tr>\n",
       "    <tr>\n",
       "      <th>12</th>\n",
       "      <td>Tutorial: How to build a GraphQL server - Building Apollo</td>\n",
       "      <td>0.221737</td>\n",
       "    </tr>\n",
       "    <tr>\n",
       "      <th>11</th>\n",
       "      <td>GPU Acceleration in Databricks</td>\n",
       "      <td>0.220287</td>\n",
       "    </tr>\n",
       "  </tbody>\n",
       "</table>\n",
       "</div>"
      ],
      "text/plain": [
       "                                                                                  title  \\\n",
       "0        Hopper raises $16 million for a travel app that tells you the best time to fly   \n",
       "2   Ebay's mobile Craigslist competitor Close5 has quietly grown to 7 million downloads   \n",
       "3                                                  Load Your Steam Wallet Using Bitcoin   \n",
       "5     The omnichannel customer experience is poised to take off in regulated industries   \n",
       "1                 How CEOs Can Keep Their Analytics Programs from Being a Waste of Time   \n",
       "7                                    The new tech talent you need to succeed in digital   \n",
       "6                          Finding The Meaning Of Artificial Intelligence At Google I/O   \n",
       "27                                                  Building a digital-banking business   \n",
       "12                            Tutorial: How to build a GraphQL server - Building Apollo   \n",
       "11                                                       GPU Acceleration in Databricks   \n",
       "\n",
       "    final_score  \n",
       "0      1.000000  \n",
       "2      0.290013  \n",
       "3      0.262556  \n",
       "5      0.261284  \n",
       "1      0.259416  \n",
       "7      0.255510  \n",
       "6      0.244078  \n",
       "27     0.225837  \n",
       "12     0.221737  \n",
       "11     0.220287  "
      ]
     },
     "execution_count": 144,
     "metadata": {},
     "output_type": "execute_result"
    }
   ],
   "source": [
    "hybrid_output.sort_values(by='final_score', ascending=False)[:10]"
   ]
  },
  {
   "cell_type": "code",
   "execution_count": 145,
   "id": "hszb64frUr4t",
   "metadata": {
    "id": "hszb64frUr4t"
   },
   "outputs": [],
   "source": [
    "hybrid_output = hybrid_output.drop_duplicates()"
   ]
  },
  {
   "cell_type": "code",
   "execution_count": 146,
   "id": "Ui_DolLpUr4u",
   "metadata": {
    "id": "Ui_DolLpUr4u"
   },
   "outputs": [
    {
     "data": {
      "text/plain": [
       "(2968, 2)"
      ]
     },
     "execution_count": 146,
     "metadata": {},
     "output_type": "execute_result"
    }
   ],
   "source": [
    "hybrid_output.shape"
   ]
  },
  {
   "cell_type": "code",
   "execution_count": 147,
   "id": "3axj9yxZUr4v",
   "metadata": {
    "id": "3axj9yxZUr4v"
   },
   "outputs": [
    {
     "data": {
      "text/html": [
       "<div>\n",
       "<style scoped>\n",
       "    .dataframe tbody tr th:only-of-type {\n",
       "        vertical-align: middle;\n",
       "    }\n",
       "\n",
       "    .dataframe tbody tr th {\n",
       "        vertical-align: top;\n",
       "    }\n",
       "\n",
       "    .dataframe thead th {\n",
       "        text-align: right;\n",
       "    }\n",
       "</style>\n",
       "<table border=\"1\" class=\"dataframe\">\n",
       "  <thead>\n",
       "    <tr style=\"text-align: right;\">\n",
       "      <th></th>\n",
       "      <th>title</th>\n",
       "      <th>final_score</th>\n",
       "    </tr>\n",
       "  </thead>\n",
       "  <tbody>\n",
       "    <tr>\n",
       "      <th>0</th>\n",
       "      <td>Hopper raises $16 million for a travel app that tells you the best time to fly</td>\n",
       "      <td>1.000000</td>\n",
       "    </tr>\n",
       "    <tr>\n",
       "      <th>2</th>\n",
       "      <td>Ebay's mobile Craigslist competitor Close5 has quietly grown to 7 million downloads</td>\n",
       "      <td>0.290013</td>\n",
       "    </tr>\n",
       "    <tr>\n",
       "      <th>3</th>\n",
       "      <td>Load Your Steam Wallet Using Bitcoin</td>\n",
       "      <td>0.262556</td>\n",
       "    </tr>\n",
       "    <tr>\n",
       "      <th>5</th>\n",
       "      <td>The omnichannel customer experience is poised to take off in regulated industries</td>\n",
       "      <td>0.261284</td>\n",
       "    </tr>\n",
       "    <tr>\n",
       "      <th>1</th>\n",
       "      <td>How CEOs Can Keep Their Analytics Programs from Being a Waste of Time</td>\n",
       "      <td>0.259416</td>\n",
       "    </tr>\n",
       "    <tr>\n",
       "      <th>7</th>\n",
       "      <td>The new tech talent you need to succeed in digital</td>\n",
       "      <td>0.255510</td>\n",
       "    </tr>\n",
       "    <tr>\n",
       "      <th>6</th>\n",
       "      <td>Finding The Meaning Of Artificial Intelligence At Google I/O</td>\n",
       "      <td>0.244078</td>\n",
       "    </tr>\n",
       "    <tr>\n",
       "      <th>27</th>\n",
       "      <td>Building a digital-banking business</td>\n",
       "      <td>0.225837</td>\n",
       "    </tr>\n",
       "    <tr>\n",
       "      <th>12</th>\n",
       "      <td>Tutorial: How to build a GraphQL server - Building Apollo</td>\n",
       "      <td>0.221737</td>\n",
       "    </tr>\n",
       "    <tr>\n",
       "      <th>11</th>\n",
       "      <td>GPU Acceleration in Databricks</td>\n",
       "      <td>0.220287</td>\n",
       "    </tr>\n",
       "  </tbody>\n",
       "</table>\n",
       "</div>"
      ],
      "text/plain": [
       "                                                                                  title  \\\n",
       "0        Hopper raises $16 million for a travel app that tells you the best time to fly   \n",
       "2   Ebay's mobile Craigslist competitor Close5 has quietly grown to 7 million downloads   \n",
       "3                                                  Load Your Steam Wallet Using Bitcoin   \n",
       "5     The omnichannel customer experience is poised to take off in regulated industries   \n",
       "1                 How CEOs Can Keep Their Analytics Programs from Being a Waste of Time   \n",
       "7                                    The new tech talent you need to succeed in digital   \n",
       "6                          Finding The Meaning Of Artificial Intelligence At Google I/O   \n",
       "27                                                  Building a digital-banking business   \n",
       "12                            Tutorial: How to build a GraphQL server - Building Apollo   \n",
       "11                                                       GPU Acceleration in Databricks   \n",
       "\n",
       "    final_score  \n",
       "0      1.000000  \n",
       "2      0.290013  \n",
       "3      0.262556  \n",
       "5      0.261284  \n",
       "1      0.259416  \n",
       "7      0.255510  \n",
       "6      0.244078  \n",
       "27     0.225837  \n",
       "12     0.221737  \n",
       "11     0.220287  "
      ]
     },
     "execution_count": 147,
     "metadata": {},
     "output_type": "execute_result"
    }
   ],
   "source": [
    "hybrid_output.sort_values(by='final_score', ascending=False)[:10]"
   ]
  },
  {
   "cell_type": "code",
   "execution_count": 148,
   "id": "2Zcz8IOxUr4w",
   "metadata": {
    "id": "2Zcz8IOxUr4w"
   },
   "outputs": [],
   "source": [
    "#!pip install libpython 3.6-dev"
   ]
  },
  {
   "cell_type": "markdown",
   "id": "_6dBhh-yUr4x",
   "metadata": {
    "id": "_6dBhh-yUr4x"
   },
   "source": [
    "## Now let us evalue ALS"
   ]
  },
  {
   "cell_type": "code",
   "execution_count": 149,
   "id": "zSjMcJd1Ur4z",
   "metadata": {
    "id": "zSjMcJd1Ur4z"
   },
   "outputs": [
    {
     "name": "stdout",
     "output_type": "stream",
     "text": [
      "Collecting implicit\n",
      "  Downloading implicit-0.6.2-cp39-cp39-win_amd64.whl (647 kB)\n",
      "     -------------------------------------- 647.2/647.2 kB 3.4 MB/s eta 0:00:00\n",
      "Requirement already satisfied: scipy>=0.16 in c:\\users\\a719084\\new folder\\lib\\site-packages (from implicit) (1.9.1)\n",
      "Requirement already satisfied: numpy in c:\\users\\a719084\\new folder\\lib\\site-packages (from implicit) (1.21.5)\n",
      "Requirement already satisfied: tqdm>=4.27 in c:\\users\\a719084\\new folder\\lib\\site-packages (from implicit) (4.64.1)\n",
      "Requirement already satisfied: colorama in c:\\users\\a719084\\new folder\\lib\\site-packages (from tqdm>=4.27->implicit) (0.4.5)\n",
      "Installing collected packages: implicit\n",
      "Successfully installed implicit-0.6.2\n"
     ]
    }
   ],
   "source": [
    "# !pip install implicit"
   ]
  },
  {
   "cell_type": "code",
   "execution_count": 150,
   "id": "I3CpMlxGUr40",
   "metadata": {
    "id": "I3CpMlxGUr40"
   },
   "outputs": [],
   "source": [
    "from scipy.sparse import csr_matrix\n",
    "import implicit\n",
    "from implicit.evaluation import train_test_split"
   ]
  },
  {
   "cell_type": "code",
   "execution_count": 151,
   "id": "8BV2WoxPUr42",
   "metadata": {
    "id": "8BV2WoxPUr42"
   },
   "outputs": [
    {
     "data": {
      "text/html": [
       "<div>\n",
       "<style scoped>\n",
       "    .dataframe tbody tr th:only-of-type {\n",
       "        vertical-align: middle;\n",
       "    }\n",
       "\n",
       "    .dataframe tbody tr th {\n",
       "        vertical-align: top;\n",
       "    }\n",
       "\n",
       "    .dataframe thead th {\n",
       "        text-align: right;\n",
       "    }\n",
       "</style>\n",
       "<table border=\"1\" class=\"dataframe\">\n",
       "  <thead>\n",
       "    <tr style=\"text-align: right;\">\n",
       "      <th></th>\n",
       "      <th>consumer_id</th>\n",
       "      <th>item_id</th>\n",
       "      <th>user_id</th>\n",
       "      <th>news_id</th>\n",
       "      <th>ratings</th>\n",
       "    </tr>\n",
       "  </thead>\n",
       "  <tbody>\n",
       "    <tr>\n",
       "      <th>0</th>\n",
       "      <td>-8845298781299428018</td>\n",
       "      <td>-3499919498720038879</td>\n",
       "      <td>33</td>\n",
       "      <td>933</td>\n",
       "      <td>1</td>\n",
       "    </tr>\n",
       "    <tr>\n",
       "      <th>1</th>\n",
       "      <td>-1032019229384696495</td>\n",
       "      <td>8890720798209849691</td>\n",
       "      <td>831</td>\n",
       "      <td>2933</td>\n",
       "      <td>1</td>\n",
       "    </tr>\n",
       "    <tr>\n",
       "      <th>2</th>\n",
       "      <td>-1130272294246983140</td>\n",
       "      <td>310515487419366995</td>\n",
       "      <td>826</td>\n",
       "      <td>1537</td>\n",
       "      <td>1</td>\n",
       "    </tr>\n",
       "    <tr>\n",
       "      <th>3</th>\n",
       "      <td>344280948527967603</td>\n",
       "      <td>310515487419366995</td>\n",
       "      <td>974</td>\n",
       "      <td>1537</td>\n",
       "      <td>5</td>\n",
       "    </tr>\n",
       "    <tr>\n",
       "      <th>4</th>\n",
       "      <td>-445337111692715325</td>\n",
       "      <td>-7820640624231356730</td>\n",
       "      <td>887</td>\n",
       "      <td>246</td>\n",
       "      <td>1</td>\n",
       "    </tr>\n",
       "  </tbody>\n",
       "</table>\n",
       "</div>"
      ],
      "text/plain": [
       "           consumer_id              item_id  user_id  news_id  ratings\n",
       "0 -8845298781299428018 -3499919498720038879       33      933        1\n",
       "1 -1032019229384696495  8890720798209849691      831     2933        1\n",
       "2 -1130272294246983140   310515487419366995      826     1537        1\n",
       "3   344280948527967603   310515487419366995      974     1537        5\n",
       "4  -445337111692715325 -7820640624231356730      887      246        1"
      ]
     },
     "execution_count": 151,
     "metadata": {},
     "output_type": "execute_result"
    }
   ],
   "source": [
    "consumer_ratings.head()"
   ]
  },
  {
   "cell_type": "code",
   "execution_count": 152,
   "id": "GHFOevisUr43",
   "metadata": {
    "id": "GHFOevisUr43"
   },
   "outputs": [
    {
     "data": {
      "text/plain": [
       "(50938, 5)"
      ]
     },
     "execution_count": 152,
     "metadata": {},
     "output_type": "execute_result"
    }
   ],
   "source": [
    "consumer_ratings.shape"
   ]
  },
  {
   "cell_type": "markdown",
   "id": "VEGdg6PBUr44",
   "metadata": {
    "id": "VEGdg6PBUr44"
   },
   "source": [
    "## Create Sparse User-Item Matrix"
   ]
  },
  {
   "cell_type": "code",
   "execution_count": 153,
   "id": "3LVMIMKMUr45",
   "metadata": {
    "id": "3LVMIMKMUr45"
   },
   "outputs": [],
   "source": [
    "alpha = 40"
   ]
  },
  {
   "cell_type": "code",
   "execution_count": 154,
   "id": "2GvFGvgNUr46",
   "metadata": {
    "id": "2GvFGvgNUr46"
   },
   "outputs": [
    {
     "data": {
      "text/html": [
       "<div>\n",
       "<style scoped>\n",
       "    .dataframe tbody tr th:only-of-type {\n",
       "        vertical-align: middle;\n",
       "    }\n",
       "\n",
       "    .dataframe tbody tr th {\n",
       "        vertical-align: top;\n",
       "    }\n",
       "\n",
       "    .dataframe thead th {\n",
       "        text-align: right;\n",
       "    }\n",
       "</style>\n",
       "<table border=\"1\" class=\"dataframe\">\n",
       "  <thead>\n",
       "    <tr style=\"text-align: right;\">\n",
       "      <th></th>\n",
       "      <th>user_id</th>\n",
       "      <th>news_id</th>\n",
       "      <th>ratings</th>\n",
       "    </tr>\n",
       "  </thead>\n",
       "  <tbody>\n",
       "    <tr>\n",
       "      <th>0</th>\n",
       "      <td>33</td>\n",
       "      <td>933</td>\n",
       "      <td>1</td>\n",
       "    </tr>\n",
       "    <tr>\n",
       "      <th>1</th>\n",
       "      <td>831</td>\n",
       "      <td>2933</td>\n",
       "      <td>1</td>\n",
       "    </tr>\n",
       "    <tr>\n",
       "      <th>2</th>\n",
       "      <td>826</td>\n",
       "      <td>1537</td>\n",
       "      <td>1</td>\n",
       "    </tr>\n",
       "    <tr>\n",
       "      <th>3</th>\n",
       "      <td>974</td>\n",
       "      <td>1537</td>\n",
       "      <td>5</td>\n",
       "    </tr>\n",
       "    <tr>\n",
       "      <th>4</th>\n",
       "      <td>887</td>\n",
       "      <td>246</td>\n",
       "      <td>1</td>\n",
       "    </tr>\n",
       "  </tbody>\n",
       "</table>\n",
       "</div>"
      ],
      "text/plain": [
       "   user_id  news_id  ratings\n",
       "0       33      933        1\n",
       "1      831     2933        1\n",
       "2      826     1537        1\n",
       "3      974     1537        5\n",
       "4      887      246        1"
      ]
     },
     "execution_count": 154,
     "metadata": {},
     "output_type": "execute_result"
    }
   ],
   "source": [
    "ratings.head()"
   ]
  },
  {
   "cell_type": "code",
   "execution_count": 155,
   "id": "KPEZh2q_Ur47",
   "metadata": {
    "id": "KPEZh2q_Ur47"
   },
   "outputs": [
    {
     "data": {
      "text/plain": [
       "50938"
      ]
     },
     "execution_count": 155,
     "metadata": {},
     "output_type": "execute_result"
    }
   ],
   "source": [
    "ratings.shape[0]"
   ]
  },
  {
   "cell_type": "code",
   "execution_count": 156,
   "id": "wHaQwYa-Ur48",
   "metadata": {
    "id": "wHaQwYa-Ur48"
   },
   "outputs": [],
   "source": [
    "sparse_user_item = csr_matrix(([alpha]*consumer_ratings.shape[0], (consumer_ratings['user_id'], consumer_ratings['news_id']) ))"
   ]
  },
  {
   "cell_type": "code",
   "execution_count": 157,
   "id": "QtyzGsaVUr48",
   "metadata": {
    "id": "QtyzGsaVUr48"
   },
   "outputs": [
    {
     "data": {
      "text/plain": [
       "<1895x2987 sparse matrix of type '<class 'numpy.intc'>'\n",
       "\twith 40710 stored elements in Compressed Sparse Row format>"
      ]
     },
     "execution_count": 157,
     "metadata": {},
     "output_type": "execute_result"
    }
   ],
   "source": [
    "sparse_user_item"
   ]
  },
  {
   "cell_type": "markdown",
   "id": "jByMYoXNUr49",
   "metadata": {
    "id": "jByMYoXNUr49"
   },
   "source": [
    "#### shape : 1895x2987.  since Total No of users = 1895, No of News = 2987"
   ]
  },
  {
   "cell_type": "markdown",
   "id": "dn9v8F38Ur4-",
   "metadata": {
    "id": "dn9v8F38Ur4-"
   },
   "source": [
    "### Convert to Array"
   ]
  },
  {
   "cell_type": "code",
   "execution_count": 158,
   "id": "JfZzS7dIUr4_",
   "metadata": {
    "id": "JfZzS7dIUr4_"
   },
   "outputs": [],
   "source": [
    "csr_user_array = sparse_user_item.toarray()"
   ]
  },
  {
   "cell_type": "code",
   "execution_count": 159,
   "id": "3FqnE6HeUr5A",
   "metadata": {
    "id": "3FqnE6HeUr5A"
   },
   "outputs": [
    {
     "data": {
      "text/plain": [
       "array([[ 0,  0,  0, ...,  0,  0,  0],\n",
       "       [ 0,  0,  0, ...,  0,  0,  0],\n",
       "       [ 0, 80,  0, ...,  0,  0,  0],\n",
       "       ...,\n",
       "       [ 0,  0,  0, ...,  0,  0,  0],\n",
       "       [ 0,  0,  0, ...,  0,  0,  0],\n",
       "       [ 0,  0,  0, ...,  0,  0,  0]], dtype=int32)"
      ]
     },
     "execution_count": 159,
     "metadata": {},
     "output_type": "execute_result"
    }
   ],
   "source": [
    "csr_user_array"
   ]
  },
  {
   "cell_type": "code",
   "execution_count": 160,
   "id": "zOlsFgAKUr5B",
   "metadata": {
    "id": "zOlsFgAKUr5B"
   },
   "outputs": [
    {
     "data": {
      "text/plain": [
       "(1895, 2987, 0)"
      ]
     },
     "execution_count": 160,
     "metadata": {},
     "output_type": "execute_result"
    }
   ],
   "source": [
    "len(csr_user_array), len(csr_user_array[0]), csr_user_array[1][1]"
   ]
  },
  {
   "cell_type": "code",
   "execution_count": 161,
   "id": "yImzIFPLUr5D",
   "metadata": {
    "id": "yImzIFPLUr5D"
   },
   "outputs": [
    {
     "data": {
      "text/plain": [
       "80"
      ]
     },
     "execution_count": 161,
     "metadata": {},
     "output_type": "execute_result"
    }
   ],
   "source": [
    "max(csr_user_array[1])"
   ]
  },
  {
   "cell_type": "markdown",
   "id": "ztIzC5tnUr5F",
   "metadata": {
    "id": "ztIzC5tnUr5F"
   },
   "source": [
    "### Create item-user sparse matrix"
   ]
  },
  {
   "cell_type": "code",
   "execution_count": 162,
   "id": "YbVS0TkHUr5G",
   "metadata": {
    "id": "YbVS0TkHUr5G"
   },
   "outputs": [],
   "source": [
    "sparse_item_user = sparse_user_item.T.tocsr()"
   ]
  },
  {
   "cell_type": "code",
   "execution_count": 163,
   "id": "--QtDYwlUr5G",
   "metadata": {
    "id": "--QtDYwlUr5G"
   },
   "outputs": [
    {
     "data": {
      "text/plain": [
       "<2987x1895 sparse matrix of type '<class 'numpy.intc'>'\n",
       "\twith 40710 stored elements in Compressed Sparse Row format>"
      ]
     },
     "execution_count": 163,
     "metadata": {},
     "output_type": "execute_result"
    }
   ],
   "source": [
    "sparse_item_user"
   ]
  },
  {
   "cell_type": "code",
   "execution_count": 164,
   "id": "Jl5XyznEUr5H",
   "metadata": {
    "id": "Jl5XyznEUr5H"
   },
   "outputs": [],
   "source": [
    "csr_item_array = sparse_item_user.toarray()"
   ]
  },
  {
   "cell_type": "code",
   "execution_count": 165,
   "id": "YE4reo1dUr5I",
   "metadata": {
    "id": "YE4reo1dUr5I"
   },
   "outputs": [
    {
     "data": {
      "text/plain": [
       "array([[ 0,  0,  0, ...,  0,  0,  0],\n",
       "       [ 0,  0, 80, ...,  0,  0,  0],\n",
       "       [ 0,  0,  0, ...,  0,  0,  0],\n",
       "       ...,\n",
       "       [ 0,  0,  0, ...,  0,  0,  0],\n",
       "       [ 0,  0,  0, ...,  0,  0,  0],\n",
       "       [ 0,  0,  0, ...,  0,  0,  0]], dtype=int32)"
      ]
     },
     "execution_count": 165,
     "metadata": {},
     "output_type": "execute_result"
    }
   ],
   "source": [
    "csr_item_array"
   ]
  },
  {
   "cell_type": "code",
   "execution_count": 166,
   "id": "HYdrcM84Ur5K",
   "metadata": {
    "id": "HYdrcM84Ur5K"
   },
   "outputs": [
    {
     "data": {
      "text/plain": [
       "(2987, 1895, 0)"
      ]
     },
     "execution_count": 166,
     "metadata": {},
     "output_type": "execute_result"
    }
   ],
   "source": [
    "len(csr_item_array), len(csr_item_array[0]), csr_item_array[1][1]"
   ]
  },
  {
   "cell_type": "markdown",
   "id": "OKLD9-K4Ur5L",
   "metadata": {
    "id": "OKLD9-K4Ur5L"
   },
   "source": [
    "## Create Train, Test data"
   ]
  },
  {
   "cell_type": "code",
   "execution_count": 167,
   "id": "xaCtXe59Ur5M",
   "metadata": {
    "id": "xaCtXe59Ur5M"
   },
   "outputs": [],
   "source": [
    "train, test = train_test_split(sparse_item_user, train_percentage = 0.8)"
   ]
  },
  {
   "cell_type": "markdown",
   "id": "1q4jV5OhUr5N",
   "metadata": {
    "id": "1q4jV5OhUr5N"
   },
   "source": [
    "## Building ALS Model"
   ]
  },
  {
   "cell_type": "code",
   "execution_count": 168,
   "id": "FPCR32LdUr5O",
   "metadata": {
    "id": "FPCR32LdUr5O"
   },
   "outputs": [
    {
     "name": "stderr",
     "output_type": "stream",
     "text": [
      "C:\\Users\\A719084\\New folder\\lib\\site-packages\\implicit\\utils.py:33: UserWarning: Intel MKL BLAS detected. Its highly recommend to set the environment variable 'export MKL_NUM_THREADS=1' to disable its internal multithreading\n",
      "  warnings.warn(\n"
     ]
    }
   ],
   "source": [
    "als_model = implicit.als.AlternatingLeastSquares(factors=100, regularization=0.1, iterations=20, calculate_training_loss=False)"
   ]
  },
  {
   "cell_type": "code",
   "execution_count": 169,
   "id": "vzqS9ChCUr5P",
   "metadata": {
    "id": "vzqS9ChCUr5P"
   },
   "outputs": [
    {
     "data": {
      "text/plain": [
       "<implicit.cpu.als.AlternatingLeastSquares at 0x286a440a520>"
      ]
     },
     "execution_count": 169,
     "metadata": {},
     "output_type": "execute_result"
    }
   ],
   "source": [
    "als_model"
   ]
  },
  {
   "cell_type": "code",
   "execution_count": 170,
   "id": "Y0HDAUwOUr5Q",
   "metadata": {
    "id": "Y0HDAUwOUr5Q"
   },
   "outputs": [
    {
     "data": {
      "application/vnd.jupyter.widget-view+json": {
       "model_id": "cc03002be8a14216a51304976b8dbc5a",
       "version_major": 2,
       "version_minor": 0
      },
      "text/plain": [
       "  0%|          | 0/20 [00:00<?, ?it/s]"
      ]
     },
     "metadata": {},
     "output_type": "display_data"
    }
   ],
   "source": [
    "# Lets train the model\n",
    "\n",
    "als_model.fit(train)"
   ]
  },
  {
   "cell_type": "markdown",
   "id": "0lctAM7dUr5R",
   "metadata": {
    "id": "0lctAM7dUr5R"
   },
   "source": [
    "## Generating recommendations for a user_id"
   ]
  },
  {
   "cell_type": "code",
   "execution_count": 171,
   "id": "hvoMF5qHUr5S",
   "metadata": {
    "id": "hvoMF5qHUr5S"
   },
   "outputs": [],
   "source": [
    "user_id = 70"
   ]
  },
  {
   "cell_type": "code",
   "execution_count": 172,
   "id": "LCrk6p5BUr5T",
   "metadata": {
    "id": "LCrk6p5BUr5T"
   },
   "outputs": [
    {
     "data": {
      "text/plain": [
       "(array([1267,  798,  945,  505]),\n",
       " array([0.5477271 , 0.5379933 , 0.52592283, 0.5075324 ], dtype=float32))"
      ]
     },
     "execution_count": 172,
     "metadata": {},
     "output_type": "execute_result"
    }
   ],
   "source": [
    "als_model.recommend(user_id, sparse_item_user[user_id], N = 4)"
   ]
  },
  {
   "cell_type": "code",
   "execution_count": 173,
   "id": "amUfxYp-Ur5V",
   "metadata": {
    "id": "amUfxYp-Ur5V"
   },
   "outputs": [
    {
     "data": {
      "text/plain": [
       "(array([1267,  798,  945, ...,    0,    0,    0]),\n",
       " array([0.5477271 , 0.5379933 , 0.52592283, ..., 0.        , 0.        ,\n",
       "        0.        ], dtype=float32))"
      ]
     },
     "execution_count": 173,
     "metadata": {},
     "output_type": "execute_result"
    }
   ],
   "source": [
    "als_model.recommend(user_id, sparse_item_user[user_id], N=3000)"
   ]
  },
  {
   "cell_type": "code",
   "execution_count": 174,
   "id": "3Y4xsrxxUr5W",
   "metadata": {
    "id": "3Y4xsrxxUr5W"
   },
   "outputs": [
    {
     "data": {
      "text/plain": [
       "(array([1267,  798,  945,  505, 1880, 1585,  660,  536, 1223, 1147]),\n",
       " array([0.5477271 , 0.5379933 , 0.52592283, 0.5075324 , 0.50059736,\n",
       "        0.49700904, 0.49600503, 0.4879679 , 0.47200465, 0.46654895],\n",
       "       dtype=float32))"
      ]
     },
     "execution_count": 174,
     "metadata": {},
     "output_type": "execute_result"
    }
   ],
   "source": [
    "als_model.recommend(user_id, sparse_item_user[user_id], N=10)"
   ]
  },
  {
   "cell_type": "markdown",
   "id": "TLDmPvkxUr5X",
   "metadata": {
    "id": "TLDmPvkxUr5X"
   },
   "source": [
    "## Generating recommendations for News_id"
   ]
  },
  {
   "cell_type": "code",
   "execution_count": 175,
   "id": "jR7fwhgFUr5Y",
   "metadata": {
    "id": "jR7fwhgFUr5Y"
   },
   "outputs": [],
   "source": [
    "## recommendation for item id 20\n",
    "item_id = 20\n",
    "n_similar = 2987"
   ]
  },
  {
   "cell_type": "code",
   "execution_count": 176,
   "id": "wjAgGMRNUr5Y",
   "metadata": {
    "id": "wjAgGMRNUr5Y"
   },
   "outputs": [],
   "source": [
    "similar_news = als_model.similar_items(item_id, n_similar)"
   ]
  },
  {
   "cell_type": "code",
   "execution_count": 177,
   "id": "ppm71XgpUr5Z",
   "metadata": {
    "id": "ppm71XgpUr5Z"
   },
   "outputs": [
    {
     "data": {
      "text/plain": [
       "2987"
      ]
     },
     "execution_count": 177,
     "metadata": {},
     "output_type": "execute_result"
    }
   ],
   "source": [
    "len(similar_news[1])"
   ]
  },
  {
   "cell_type": "code",
   "execution_count": 178,
   "id": "aqv3zfzFUr5a",
   "metadata": {
    "id": "aqv3zfzFUr5a"
   },
   "outputs": [
    {
     "data": {
      "text/plain": [
       "(array([  20, 1513, 1445, ...,    0,    0,    0]),\n",
       " array([0.99999994, 0.4876899 , 0.46517345, ..., 0.        , 0.        ,\n",
       "        0.        ], dtype=float32))"
      ]
     },
     "execution_count": 178,
     "metadata": {},
     "output_type": "execute_result"
    }
   ],
   "source": [
    "similar_news"
   ]
  },
  {
   "cell_type": "code",
   "execution_count": 179,
   "id": "sjpUALfWUr5b",
   "metadata": {
    "id": "sjpUALfWUr5b"
   },
   "outputs": [],
   "source": [
    "news_output = pd.DataFrame(similar_news[1], similar_news[0]).reset_index()"
   ]
  },
  {
   "cell_type": "code",
   "execution_count": 180,
   "id": "6O6PoxI7Ur5c",
   "metadata": {
    "id": "6O6PoxI7Ur5c"
   },
   "outputs": [],
   "source": [
    "news_output.columns = ['news_id', 'als_score']"
   ]
  },
  {
   "cell_type": "code",
   "execution_count": 181,
   "id": "9TX5s5piUr5d",
   "metadata": {
    "id": "9TX5s5piUr5d"
   },
   "outputs": [
    {
     "data": {
      "text/html": [
       "<div>\n",
       "<style scoped>\n",
       "    .dataframe tbody tr th:only-of-type {\n",
       "        vertical-align: middle;\n",
       "    }\n",
       "\n",
       "    .dataframe tbody tr th {\n",
       "        vertical-align: top;\n",
       "    }\n",
       "\n",
       "    .dataframe thead th {\n",
       "        text-align: right;\n",
       "    }\n",
       "</style>\n",
       "<table border=\"1\" class=\"dataframe\">\n",
       "  <thead>\n",
       "    <tr style=\"text-align: right;\">\n",
       "      <th></th>\n",
       "      <th>news_id</th>\n",
       "      <th>als_score</th>\n",
       "    </tr>\n",
       "  </thead>\n",
       "  <tbody>\n",
       "    <tr>\n",
       "      <th>0</th>\n",
       "      <td>20</td>\n",
       "      <td>1.000000</td>\n",
       "    </tr>\n",
       "    <tr>\n",
       "      <th>1</th>\n",
       "      <td>1513</td>\n",
       "      <td>0.487690</td>\n",
       "    </tr>\n",
       "    <tr>\n",
       "      <th>2</th>\n",
       "      <td>1445</td>\n",
       "      <td>0.465173</td>\n",
       "    </tr>\n",
       "    <tr>\n",
       "      <th>3</th>\n",
       "      <td>388</td>\n",
       "      <td>0.394824</td>\n",
       "    </tr>\n",
       "    <tr>\n",
       "      <th>4</th>\n",
       "      <td>948</td>\n",
       "      <td>0.386423</td>\n",
       "    </tr>\n",
       "  </tbody>\n",
       "</table>\n",
       "</div>"
      ],
      "text/plain": [
       "   news_id  als_score\n",
       "0       20   1.000000\n",
       "1     1513   0.487690\n",
       "2     1445   0.465173\n",
       "3      388   0.394824\n",
       "4      948   0.386423"
      ]
     },
     "execution_count": 181,
     "metadata": {},
     "output_type": "execute_result"
    }
   ],
   "source": [
    "news_output.head()"
   ]
  },
  {
   "cell_type": "code",
   "execution_count": 182,
   "id": "8ccO46m5Ur5f",
   "metadata": {
    "id": "8ccO46m5Ur5f"
   },
   "outputs": [
    {
     "data": {
      "text/plain": [
       "(2987, 2)"
      ]
     },
     "execution_count": 182,
     "metadata": {},
     "output_type": "execute_result"
    }
   ],
   "source": [
    "news_output.shape"
   ]
  },
  {
   "cell_type": "code",
   "execution_count": 183,
   "id": "T98BhZLbUr5g",
   "metadata": {
    "id": "T98BhZLbUr5g"
   },
   "outputs": [
    {
     "data": {
      "text/html": [
       "<div>\n",
       "<style scoped>\n",
       "    .dataframe tbody tr th:only-of-type {\n",
       "        vertical-align: middle;\n",
       "    }\n",
       "\n",
       "    .dataframe tbody tr th {\n",
       "        vertical-align: top;\n",
       "    }\n",
       "\n",
       "    .dataframe thead th {\n",
       "        text-align: right;\n",
       "    }\n",
       "</style>\n",
       "<table border=\"1\" class=\"dataframe\">\n",
       "  <thead>\n",
       "    <tr style=\"text-align: right;\">\n",
       "      <th></th>\n",
       "      <th>item_id</th>\n",
       "      <th>news_id</th>\n",
       "    </tr>\n",
       "  </thead>\n",
       "  <tbody>\n",
       "    <tr>\n",
       "      <th>0</th>\n",
       "      <td>-3499919498720038879</td>\n",
       "      <td>933</td>\n",
       "    </tr>\n",
       "    <tr>\n",
       "      <th>1</th>\n",
       "      <td>8890720798209849691</td>\n",
       "      <td>2933</td>\n",
       "    </tr>\n",
       "    <tr>\n",
       "      <th>2</th>\n",
       "      <td>310515487419366995</td>\n",
       "      <td>1537</td>\n",
       "    </tr>\n",
       "    <tr>\n",
       "      <th>4</th>\n",
       "      <td>-7820640624231356730</td>\n",
       "      <td>246</td>\n",
       "    </tr>\n",
       "    <tr>\n",
       "      <th>6</th>\n",
       "      <td>-8864073373672512525</td>\n",
       "      <td>82</td>\n",
       "    </tr>\n",
       "  </tbody>\n",
       "</table>\n",
       "</div>"
      ],
      "text/plain": [
       "               item_id  news_id\n",
       "0 -3499919498720038879      933\n",
       "1  8890720798209849691     2933\n",
       "2   310515487419366995     1537\n",
       "4 -7820640624231356730      246\n",
       "6 -8864073373672512525       82"
      ]
     },
     "execution_count": 183,
     "metadata": {},
     "output_type": "execute_result"
    }
   ],
   "source": [
    "ids.head()"
   ]
  },
  {
   "cell_type": "code",
   "execution_count": 184,
   "id": "9VVhvLH3Ur5h",
   "metadata": {
    "id": "9VVhvLH3Ur5h"
   },
   "outputs": [],
   "source": [
    "als_output = pd.merge(news_output, ids, on='news_id', how='left')"
   ]
  },
  {
   "cell_type": "code",
   "execution_count": 185,
   "id": "lw0bDXYuUr5i",
   "metadata": {
    "id": "lw0bDXYuUr5i"
   },
   "outputs": [
    {
     "data": {
      "text/html": [
       "<div>\n",
       "<style scoped>\n",
       "    .dataframe tbody tr th:only-of-type {\n",
       "        vertical-align: middle;\n",
       "    }\n",
       "\n",
       "    .dataframe tbody tr th {\n",
       "        vertical-align: top;\n",
       "    }\n",
       "\n",
       "    .dataframe thead th {\n",
       "        text-align: right;\n",
       "    }\n",
       "</style>\n",
       "<table border=\"1\" class=\"dataframe\">\n",
       "  <thead>\n",
       "    <tr style=\"text-align: right;\">\n",
       "      <th></th>\n",
       "      <th>news_id</th>\n",
       "      <th>als_score</th>\n",
       "      <th>item_id</th>\n",
       "    </tr>\n",
       "  </thead>\n",
       "  <tbody>\n",
       "    <tr>\n",
       "      <th>0</th>\n",
       "      <td>20</td>\n",
       "      <td>1.000000</td>\n",
       "      <td>-9107331682787867601</td>\n",
       "    </tr>\n",
       "    <tr>\n",
       "      <th>1</th>\n",
       "      <td>1513</td>\n",
       "      <td>0.487690</td>\n",
       "      <td>161784308223385549</td>\n",
       "    </tr>\n",
       "    <tr>\n",
       "      <th>2</th>\n",
       "      <td>1445</td>\n",
       "      <td>0.465173</td>\n",
       "      <td>-229081393244987789</td>\n",
       "    </tr>\n",
       "    <tr>\n",
       "      <th>3</th>\n",
       "      <td>388</td>\n",
       "      <td>0.394824</td>\n",
       "      <td>-6859363289291329827</td>\n",
       "    </tr>\n",
       "    <tr>\n",
       "      <th>4</th>\n",
       "      <td>948</td>\n",
       "      <td>0.386423</td>\n",
       "      <td>-3395906801262755897</td>\n",
       "    </tr>\n",
       "  </tbody>\n",
       "</table>\n",
       "</div>"
      ],
      "text/plain": [
       "   news_id  als_score              item_id\n",
       "0       20   1.000000 -9107331682787867601\n",
       "1     1513   0.487690   161784308223385549\n",
       "2     1445   0.465173  -229081393244987789\n",
       "3      388   0.394824 -6859363289291329827\n",
       "4      948   0.386423 -3395906801262755897"
      ]
     },
     "execution_count": 185,
     "metadata": {},
     "output_type": "execute_result"
    }
   ],
   "source": [
    "als_output.head()"
   ]
  },
  {
   "cell_type": "code",
   "execution_count": 186,
   "id": "0tI6dUUhUr5k",
   "metadata": {
    "id": "0tI6dUUhUr5k"
   },
   "outputs": [
    {
     "data": {
      "text/html": [
       "<div>\n",
       "<style scoped>\n",
       "    .dataframe tbody tr th:only-of-type {\n",
       "        vertical-align: middle;\n",
       "    }\n",
       "\n",
       "    .dataframe tbody tr th {\n",
       "        vertical-align: top;\n",
       "    }\n",
       "\n",
       "    .dataframe thead th {\n",
       "        text-align: right;\n",
       "    }\n",
       "</style>\n",
       "<table border=\"1\" class=\"dataframe\">\n",
       "  <thead>\n",
       "    <tr style=\"text-align: right;\">\n",
       "      <th></th>\n",
       "      <th>item_id</th>\n",
       "      <th>title</th>\n",
       "    </tr>\n",
       "  </thead>\n",
       "  <tbody>\n",
       "    <tr>\n",
       "      <th>0</th>\n",
       "      <td>-6451309518266745024</td>\n",
       "      <td>Ethereum, a Virtual Currency, Enables Transactions That Rival Bitcoin's</td>\n",
       "    </tr>\n",
       "    <tr>\n",
       "      <th>1</th>\n",
       "      <td>-4110354420726924665</td>\n",
       "      <td>Ethereum, a Virtual Currency, Enables Transactions That Rival Bitcoin's</td>\n",
       "    </tr>\n",
       "    <tr>\n",
       "      <th>2</th>\n",
       "      <td>-7292285110016212249</td>\n",
       "      <td>Bitcoin Future: When GBPcoin of Branson Wins Over USDcoin of Trump</td>\n",
       "    </tr>\n",
       "    <tr>\n",
       "      <th>3</th>\n",
       "      <td>-6151852268067518688</td>\n",
       "      <td>Google Data Center 360° Tour</td>\n",
       "    </tr>\n",
       "    <tr>\n",
       "      <th>4</th>\n",
       "      <td>2448026894306402386</td>\n",
       "      <td>IBM Wants to \"Evolve the Internet\" With Blockchain Technology</td>\n",
       "    </tr>\n",
       "  </tbody>\n",
       "</table>\n",
       "</div>"
      ],
      "text/plain": [
       "               item_id  \\\n",
       "0 -6451309518266745024   \n",
       "1 -4110354420726924665   \n",
       "2 -7292285110016212249   \n",
       "3 -6151852268067518688   \n",
       "4  2448026894306402386   \n",
       "\n",
       "                                                                     title  \n",
       "0  Ethereum, a Virtual Currency, Enables Transactions That Rival Bitcoin's  \n",
       "1  Ethereum, a Virtual Currency, Enables Transactions That Rival Bitcoin's  \n",
       "2       Bitcoin Future: When GBPcoin of Branson Wins Over USDcoin of Trump  \n",
       "3                                             Google Data Center 360° Tour  \n",
       "4            IBM Wants to \"Evolve the Internet\" With Blockchain Technology  "
      ]
     },
     "execution_count": 186,
     "metadata": {},
     "output_type": "execute_result"
    }
   ],
   "source": [
    "titles.head()"
   ]
  },
  {
   "cell_type": "code",
   "execution_count": 187,
   "id": "XocBm7b0Ur5l",
   "metadata": {
    "id": "XocBm7b0Ur5l"
   },
   "outputs": [
    {
     "data": {
      "text/plain": [
       "(3122, 2)"
      ]
     },
     "execution_count": 187,
     "metadata": {},
     "output_type": "execute_result"
    }
   ],
   "source": [
    "titles.shape"
   ]
  },
  {
   "cell_type": "code",
   "execution_count": 188,
   "id": "4M8LA-rjUr5n",
   "metadata": {
    "id": "4M8LA-rjUr5n"
   },
   "outputs": [],
   "source": [
    "## Get a new data set by merging ALS output with item and title \n",
    "als_output_title = pd.merge(als_output, titles, on='item_id', how='left')"
   ]
  },
  {
   "cell_type": "code",
   "execution_count": 189,
   "id": "T0Rbc8skUr5o",
   "metadata": {
    "id": "T0Rbc8skUr5o"
   },
   "outputs": [
    {
     "data": {
      "text/html": [
       "<div>\n",
       "<style scoped>\n",
       "    .dataframe tbody tr th:only-of-type {\n",
       "        vertical-align: middle;\n",
       "    }\n",
       "\n",
       "    .dataframe tbody tr th {\n",
       "        vertical-align: top;\n",
       "    }\n",
       "\n",
       "    .dataframe thead th {\n",
       "        text-align: right;\n",
       "    }\n",
       "</style>\n",
       "<table border=\"1\" class=\"dataframe\">\n",
       "  <thead>\n",
       "    <tr style=\"text-align: right;\">\n",
       "      <th></th>\n",
       "      <th>news_id</th>\n",
       "      <th>als_score</th>\n",
       "      <th>item_id</th>\n",
       "      <th>title</th>\n",
       "    </tr>\n",
       "  </thead>\n",
       "  <tbody>\n",
       "    <tr>\n",
       "      <th>0</th>\n",
       "      <td>20</td>\n",
       "      <td>1.000000</td>\n",
       "      <td>-9107331682787867601</td>\n",
       "      <td>Hopper raises $16 million for a travel app that tells you the best time to fly</td>\n",
       "    </tr>\n",
       "    <tr>\n",
       "      <th>1</th>\n",
       "      <td>1513</td>\n",
       "      <td>0.487690</td>\n",
       "      <td>161784308223385549</td>\n",
       "      <td>Sompo Seguros aproveita \"onda\" do Pokémon Go para alertar sobre segurança no trânsito | Sonho Seguro</td>\n",
       "    </tr>\n",
       "    <tr>\n",
       "      <th>2</th>\n",
       "      <td>1445</td>\n",
       "      <td>0.465173</td>\n",
       "      <td>-229081393244987789</td>\n",
       "      <td>Building AI Is Hard-So Facebook Is Building AI That Builds AI</td>\n",
       "    </tr>\n",
       "    <tr>\n",
       "      <th>3</th>\n",
       "      <td>388</td>\n",
       "      <td>0.394824</td>\n",
       "      <td>-6859363289291329827</td>\n",
       "      <td>Confira as novidades apresentadas no Google I/O 2016</td>\n",
       "    </tr>\n",
       "    <tr>\n",
       "      <th>4</th>\n",
       "      <td>948</td>\n",
       "      <td>0.386423</td>\n",
       "      <td>-3395906801262755897</td>\n",
       "      <td>CHATBOTS EXPLAINED: Why businesses should be paying attention to the chatbot revolution</td>\n",
       "    </tr>\n",
       "  </tbody>\n",
       "</table>\n",
       "</div>"
      ],
      "text/plain": [
       "   news_id  als_score              item_id  \\\n",
       "0       20   1.000000 -9107331682787867601   \n",
       "1     1513   0.487690   161784308223385549   \n",
       "2     1445   0.465173  -229081393244987789   \n",
       "3      388   0.394824 -6859363289291329827   \n",
       "4      948   0.386423 -3395906801262755897   \n",
       "\n",
       "                                                                                                  title  \n",
       "0                        Hopper raises $16 million for a travel app that tells you the best time to fly  \n",
       "1  Sompo Seguros aproveita \"onda\" do Pokémon Go para alertar sobre segurança no trânsito | Sonho Seguro  \n",
       "2                                         Building AI Is Hard-So Facebook Is Building AI That Builds AI  \n",
       "3                                                  Confira as novidades apresentadas no Google I/O 2016  \n",
       "4               CHATBOTS EXPLAINED: Why businesses should be paying attention to the chatbot revolution  "
      ]
     },
     "execution_count": 189,
     "metadata": {},
     "output_type": "execute_result"
    }
   ],
   "source": [
    "als_output_title.head()"
   ]
  },
  {
   "cell_type": "code",
   "execution_count": 190,
   "id": "6Vu23FWGUr5p",
   "metadata": {
    "id": "6Vu23FWGUr5p"
   },
   "outputs": [
    {
     "data": {
      "text/plain": [
       "(3022, 4)"
      ]
     },
     "execution_count": 190,
     "metadata": {},
     "output_type": "execute_result"
    }
   ],
   "source": [
    "als_output_title.shape"
   ]
  },
  {
   "cell_type": "code",
   "execution_count": 191,
   "id": "qSqvu14hUr5r",
   "metadata": {
    "id": "qSqvu14hUr5r"
   },
   "outputs": [],
   "source": [
    "## Arrive at the normalized score for ALS Model\n",
    "als_output_title['als_score_normalized'] = (als_output_title['als_score']-min(als_output_title['als_score'])) / (max(als_output_title['als_score']) - min(als_output_title['als_score']))"
   ]
  },
  {
   "cell_type": "code",
   "execution_count": 200,
   "id": "0167053b",
   "metadata": {},
   "outputs": [
    {
     "data": {
      "text/html": [
       "<div>\n",
       "<style scoped>\n",
       "    .dataframe tbody tr th:only-of-type {\n",
       "        vertical-align: middle;\n",
       "    }\n",
       "\n",
       "    .dataframe tbody tr th {\n",
       "        vertical-align: top;\n",
       "    }\n",
       "\n",
       "    .dataframe thead th {\n",
       "        text-align: right;\n",
       "    }\n",
       "</style>\n",
       "<table border=\"1\" class=\"dataframe\">\n",
       "  <thead>\n",
       "    <tr style=\"text-align: right;\">\n",
       "      <th></th>\n",
       "      <th>news_id</th>\n",
       "      <th>als_score</th>\n",
       "      <th>item_id</th>\n",
       "      <th>title</th>\n",
       "      <th>als_score_normalized</th>\n",
       "    </tr>\n",
       "  </thead>\n",
       "  <tbody>\n",
       "    <tr>\n",
       "      <th>0</th>\n",
       "      <td>20</td>\n",
       "      <td>1.000000</td>\n",
       "      <td>-9107331682787867601</td>\n",
       "      <td>Hopper raises $16 million for a travel app that tells you the best time to fly</td>\n",
       "      <td>1.000000</td>\n",
       "    </tr>\n",
       "    <tr>\n",
       "      <th>1</th>\n",
       "      <td>1513</td>\n",
       "      <td>0.487690</td>\n",
       "      <td>161784308223385549</td>\n",
       "      <td>Sompo Seguros aproveita \"onda\" do Pokémon Go para alertar sobre segurança no trânsito | Sonho Seguro</td>\n",
       "      <td>0.604442</td>\n",
       "    </tr>\n",
       "    <tr>\n",
       "      <th>2</th>\n",
       "      <td>1445</td>\n",
       "      <td>0.465173</td>\n",
       "      <td>-229081393244987789</td>\n",
       "      <td>Building AI Is Hard-So Facebook Is Building AI That Builds AI</td>\n",
       "      <td>0.587057</td>\n",
       "    </tr>\n",
       "    <tr>\n",
       "      <th>3</th>\n",
       "      <td>388</td>\n",
       "      <td>0.394824</td>\n",
       "      <td>-6859363289291329827</td>\n",
       "      <td>Confira as novidades apresentadas no Google I/O 2016</td>\n",
       "      <td>0.532740</td>\n",
       "    </tr>\n",
       "    <tr>\n",
       "      <th>4</th>\n",
       "      <td>948</td>\n",
       "      <td>0.386423</td>\n",
       "      <td>-3395906801262755897</td>\n",
       "      <td>CHATBOTS EXPLAINED: Why businesses should be paying attention to the chatbot revolution</td>\n",
       "      <td>0.526253</td>\n",
       "    </tr>\n",
       "  </tbody>\n",
       "</table>\n",
       "</div>"
      ],
      "text/plain": [
       "   news_id  als_score              item_id  \\\n",
       "0       20   1.000000 -9107331682787867601   \n",
       "1     1513   0.487690   161784308223385549   \n",
       "2     1445   0.465173  -229081393244987789   \n",
       "3      388   0.394824 -6859363289291329827   \n",
       "4      948   0.386423 -3395906801262755897   \n",
       "\n",
       "                                                                                                  title  \\\n",
       "0                        Hopper raises $16 million for a travel app that tells you the best time to fly   \n",
       "1  Sompo Seguros aproveita \"onda\" do Pokémon Go para alertar sobre segurança no trânsito | Sonho Seguro   \n",
       "2                                         Building AI Is Hard-So Facebook Is Building AI That Builds AI   \n",
       "3                                                  Confira as novidades apresentadas no Google I/O 2016   \n",
       "4               CHATBOTS EXPLAINED: Why businesses should be paying attention to the chatbot revolution   \n",
       "\n",
       "   als_score_normalized  \n",
       "0              1.000000  \n",
       "1              0.604442  \n",
       "2              0.587057  \n",
       "3              0.532740  \n",
       "4              0.526253  "
      ]
     },
     "execution_count": 200,
     "metadata": {},
     "output_type": "execute_result"
    }
   ],
   "source": [
    "als_output_title.head()"
   ]
  },
  {
   "cell_type": "markdown",
   "id": "y8icnKINUr5s",
   "metadata": {
    "id": "y8icnKINUr5s"
   },
   "source": [
    "### Hybrid: ALS and Item Based Collaborative Filtering"
   ]
  },
  {
   "cell_type": "code",
   "execution_count": 192,
   "id": "ry1CP-x9Ur5t",
   "metadata": {
    "id": "ry1CP-x9Ur5t"
   },
   "outputs": [],
   "source": [
    "hybrid_als_item = pd.merge(sim_articles_20, als_output_title, how='left', on='title')"
   ]
  },
  {
   "cell_type": "code",
   "execution_count": 193,
   "id": "JF2Zh55tUr5u",
   "metadata": {
    "id": "JF2Zh55tUr5u"
   },
   "outputs": [
    {
     "data": {
      "text/html": [
       "<div>\n",
       "<style scoped>\n",
       "    .dataframe tbody tr th:only-of-type {\n",
       "        vertical-align: middle;\n",
       "    }\n",
       "\n",
       "    .dataframe tbody tr th {\n",
       "        vertical-align: top;\n",
       "    }\n",
       "\n",
       "    .dataframe thead th {\n",
       "        text-align: right;\n",
       "    }\n",
       "</style>\n",
       "<table border=\"1\" class=\"dataframe\">\n",
       "  <thead>\n",
       "    <tr style=\"text-align: right;\">\n",
       "      <th></th>\n",
       "      <th>news_id_x</th>\n",
       "      <th>item_id_x</th>\n",
       "      <th>title</th>\n",
       "      <th>value</th>\n",
       "      <th>normalized_score</th>\n",
       "      <th>news_id_y</th>\n",
       "      <th>als_score</th>\n",
       "      <th>item_id_y</th>\n",
       "      <th>als_score_normalized</th>\n",
       "    </tr>\n",
       "  </thead>\n",
       "  <tbody>\n",
       "    <tr>\n",
       "      <th>0</th>\n",
       "      <td>20</td>\n",
       "      <td>-9107331682787867601</td>\n",
       "      <td>Hopper raises $16 million for a travel app that tells you the best time to fly</td>\n",
       "      <td>1.0</td>\n",
       "      <td>1.0</td>\n",
       "      <td>20.0</td>\n",
       "      <td>1.000000</td>\n",
       "      <td>-9.107332e+18</td>\n",
       "      <td>1.000000</td>\n",
       "    </tr>\n",
       "    <tr>\n",
       "      <th>1</th>\n",
       "      <td>2501</td>\n",
       "      <td>6237714845306489877</td>\n",
       "      <td>How CEOs Can Keep Their Analytics Programs from Being a Waste of Time</td>\n",
       "      <td>0.5</td>\n",
       "      <td>0.5</td>\n",
       "      <td>NaN</td>\n",
       "      <td>NaN</td>\n",
       "      <td>NaN</td>\n",
       "      <td>NaN</td>\n",
       "    </tr>\n",
       "    <tr>\n",
       "      <th>2</th>\n",
       "      <td>110</td>\n",
       "      <td>-8689461307495241608</td>\n",
       "      <td>Ebay's mobile Craigslist competitor Close5 has quietly grown to 7 million downloads</td>\n",
       "      <td>0.5</td>\n",
       "      <td>0.5</td>\n",
       "      <td>110.0</td>\n",
       "      <td>0.195977</td>\n",
       "      <td>-8.689461e+18</td>\n",
       "      <td>0.379209</td>\n",
       "    </tr>\n",
       "    <tr>\n",
       "      <th>3</th>\n",
       "      <td>1172</td>\n",
       "      <td>-1852324383183073754</td>\n",
       "      <td>Load Your Steam Wallet Using Bitcoin</td>\n",
       "      <td>0.5</td>\n",
       "      <td>0.5</td>\n",
       "      <td>1172.0</td>\n",
       "      <td>0.061881</td>\n",
       "      <td>-1.852324e+18</td>\n",
       "      <td>0.275672</td>\n",
       "    </tr>\n",
       "    <tr>\n",
       "      <th>4</th>\n",
       "      <td>1487</td>\n",
       "      <td>1984587708208773</td>\n",
       "      <td>Heroínas de 'Estrelas além do tempo' inspiram garotas em trabalho de escola nos EUA</td>\n",
       "      <td>0.5</td>\n",
       "      <td>0.5</td>\n",
       "      <td>1487.0</td>\n",
       "      <td>0.048054</td>\n",
       "      <td>1.984588e+15</td>\n",
       "      <td>0.264996</td>\n",
       "    </tr>\n",
       "  </tbody>\n",
       "</table>\n",
       "</div>"
      ],
      "text/plain": [
       "   news_id_x            item_id_x  \\\n",
       "0         20 -9107331682787867601   \n",
       "1       2501  6237714845306489877   \n",
       "2        110 -8689461307495241608   \n",
       "3       1172 -1852324383183073754   \n",
       "4       1487     1984587708208773   \n",
       "\n",
       "                                                                                 title  \\\n",
       "0       Hopper raises $16 million for a travel app that tells you the best time to fly   \n",
       "1                How CEOs Can Keep Their Analytics Programs from Being a Waste of Time   \n",
       "2  Ebay's mobile Craigslist competitor Close5 has quietly grown to 7 million downloads   \n",
       "3                                                 Load Your Steam Wallet Using Bitcoin   \n",
       "4  Heroínas de 'Estrelas além do tempo' inspiram garotas em trabalho de escola nos EUA   \n",
       "\n",
       "   value  normalized_score  news_id_y  als_score     item_id_y  \\\n",
       "0    1.0               1.0       20.0   1.000000 -9.107332e+18   \n",
       "1    0.5               0.5        NaN        NaN           NaN   \n",
       "2    0.5               0.5      110.0   0.195977 -8.689461e+18   \n",
       "3    0.5               0.5     1172.0   0.061881 -1.852324e+18   \n",
       "4    0.5               0.5     1487.0   0.048054  1.984588e+15   \n",
       "\n",
       "   als_score_normalized  \n",
       "0              1.000000  \n",
       "1                   NaN  \n",
       "2              0.379209  \n",
       "3              0.275672  \n",
       "4              0.264996  "
      ]
     },
     "execution_count": 193,
     "metadata": {},
     "output_type": "execute_result"
    }
   ],
   "source": [
    "hybrid_als_item.head()"
   ]
  },
  {
   "cell_type": "code",
   "execution_count": 194,
   "id": "bQ8k8g2NUr5u",
   "metadata": {
    "id": "bQ8k8g2NUr5u"
   },
   "outputs": [
    {
     "data": {
      "text/plain": [
       "(4306, 9)"
      ]
     },
     "execution_count": 194,
     "metadata": {},
     "output_type": "execute_result"
    }
   ],
   "source": [
    "hybrid_als_item.shape"
   ]
  },
  {
   "cell_type": "code",
   "execution_count": 195,
   "id": "cBhzdT7eUr5v",
   "metadata": {
    "id": "cBhzdT7eUr5v"
   },
   "outputs": [],
   "source": [
    "## Normalized score for Hybrid Model\n",
    "hybrid_als_item['final_score'] = (hybrid_als_item['normalized_score'] + hybrid_als_item['als_score_normalized'])/2"
   ]
  },
  {
   "cell_type": "code",
   "execution_count": 196,
   "id": "ACKGlVvSUr5w",
   "metadata": {
    "id": "ACKGlVvSUr5w"
   },
   "outputs": [
    {
     "data": {
      "text/html": [
       "<div>\n",
       "<style scoped>\n",
       "    .dataframe tbody tr th:only-of-type {\n",
       "        vertical-align: middle;\n",
       "    }\n",
       "\n",
       "    .dataframe tbody tr th {\n",
       "        vertical-align: top;\n",
       "    }\n",
       "\n",
       "    .dataframe thead th {\n",
       "        text-align: right;\n",
       "    }\n",
       "</style>\n",
       "<table border=\"1\" class=\"dataframe\">\n",
       "  <thead>\n",
       "    <tr style=\"text-align: right;\">\n",
       "      <th></th>\n",
       "      <th>news_id_x</th>\n",
       "      <th>item_id_x</th>\n",
       "      <th>title</th>\n",
       "      <th>value</th>\n",
       "      <th>normalized_score</th>\n",
       "      <th>news_id_y</th>\n",
       "      <th>als_score</th>\n",
       "      <th>item_id_y</th>\n",
       "      <th>als_score_normalized</th>\n",
       "      <th>final_score</th>\n",
       "    </tr>\n",
       "  </thead>\n",
       "  <tbody>\n",
       "    <tr>\n",
       "      <th>0</th>\n",
       "      <td>20</td>\n",
       "      <td>-9107331682787867601</td>\n",
       "      <td>Hopper raises $16 million for a travel app that tells you the best time to fly</td>\n",
       "      <td>1.0</td>\n",
       "      <td>1.0</td>\n",
       "      <td>20.0</td>\n",
       "      <td>1.000000</td>\n",
       "      <td>-9.107332e+18</td>\n",
       "      <td>1.000000</td>\n",
       "      <td>1.000000</td>\n",
       "    </tr>\n",
       "    <tr>\n",
       "      <th>1</th>\n",
       "      <td>2501</td>\n",
       "      <td>6237714845306489877</td>\n",
       "      <td>How CEOs Can Keep Their Analytics Programs from Being a Waste of Time</td>\n",
       "      <td>0.5</td>\n",
       "      <td>0.5</td>\n",
       "      <td>NaN</td>\n",
       "      <td>NaN</td>\n",
       "      <td>NaN</td>\n",
       "      <td>NaN</td>\n",
       "      <td>NaN</td>\n",
       "    </tr>\n",
       "    <tr>\n",
       "      <th>2</th>\n",
       "      <td>110</td>\n",
       "      <td>-8689461307495241608</td>\n",
       "      <td>Ebay's mobile Craigslist competitor Close5 has quietly grown to 7 million downloads</td>\n",
       "      <td>0.5</td>\n",
       "      <td>0.5</td>\n",
       "      <td>110.0</td>\n",
       "      <td>0.195977</td>\n",
       "      <td>-8.689461e+18</td>\n",
       "      <td>0.379209</td>\n",
       "      <td>0.439604</td>\n",
       "    </tr>\n",
       "    <tr>\n",
       "      <th>3</th>\n",
       "      <td>1172</td>\n",
       "      <td>-1852324383183073754</td>\n",
       "      <td>Load Your Steam Wallet Using Bitcoin</td>\n",
       "      <td>0.5</td>\n",
       "      <td>0.5</td>\n",
       "      <td>1172.0</td>\n",
       "      <td>0.061881</td>\n",
       "      <td>-1.852324e+18</td>\n",
       "      <td>0.275672</td>\n",
       "      <td>0.387836</td>\n",
       "    </tr>\n",
       "    <tr>\n",
       "      <th>4</th>\n",
       "      <td>1487</td>\n",
       "      <td>1984587708208773</td>\n",
       "      <td>Heroínas de 'Estrelas além do tempo' inspiram garotas em trabalho de escola nos EUA</td>\n",
       "      <td>0.5</td>\n",
       "      <td>0.5</td>\n",
       "      <td>1487.0</td>\n",
       "      <td>0.048054</td>\n",
       "      <td>1.984588e+15</td>\n",
       "      <td>0.264996</td>\n",
       "      <td>0.382498</td>\n",
       "    </tr>\n",
       "  </tbody>\n",
       "</table>\n",
       "</div>"
      ],
      "text/plain": [
       "   news_id_x            item_id_x  \\\n",
       "0         20 -9107331682787867601   \n",
       "1       2501  6237714845306489877   \n",
       "2        110 -8689461307495241608   \n",
       "3       1172 -1852324383183073754   \n",
       "4       1487     1984587708208773   \n",
       "\n",
       "                                                                                 title  \\\n",
       "0       Hopper raises $16 million for a travel app that tells you the best time to fly   \n",
       "1                How CEOs Can Keep Their Analytics Programs from Being a Waste of Time   \n",
       "2  Ebay's mobile Craigslist competitor Close5 has quietly grown to 7 million downloads   \n",
       "3                                                 Load Your Steam Wallet Using Bitcoin   \n",
       "4  Heroínas de 'Estrelas além do tempo' inspiram garotas em trabalho de escola nos EUA   \n",
       "\n",
       "   value  normalized_score  news_id_y  als_score     item_id_y  \\\n",
       "0    1.0               1.0       20.0   1.000000 -9.107332e+18   \n",
       "1    0.5               0.5        NaN        NaN           NaN   \n",
       "2    0.5               0.5      110.0   0.195977 -8.689461e+18   \n",
       "3    0.5               0.5     1172.0   0.061881 -1.852324e+18   \n",
       "4    0.5               0.5     1487.0   0.048054  1.984588e+15   \n",
       "\n",
       "   als_score_normalized  final_score  \n",
       "0              1.000000     1.000000  \n",
       "1                   NaN          NaN  \n",
       "2              0.379209     0.439604  \n",
       "3              0.275672     0.387836  \n",
       "4              0.264996     0.382498  "
      ]
     },
     "execution_count": 196,
     "metadata": {},
     "output_type": "execute_result"
    }
   ],
   "source": [
    "hybrid_als_item.head()"
   ]
  },
  {
   "cell_type": "code",
   "execution_count": 197,
   "id": "xNkNqkABUr5x",
   "metadata": {
    "id": "xNkNqkABUr5x"
   },
   "outputs": [],
   "source": [
    "hybrid_als_item = hybrid_als_item[['title','final_score']]"
   ]
  },
  {
   "cell_type": "code",
   "execution_count": 198,
   "id": "KMcPrlmpUr5y",
   "metadata": {
    "id": "KMcPrlmpUr5y"
   },
   "outputs": [
    {
     "data": {
      "text/html": [
       "<div>\n",
       "<style scoped>\n",
       "    .dataframe tbody tr th:only-of-type {\n",
       "        vertical-align: middle;\n",
       "    }\n",
       "\n",
       "    .dataframe tbody tr th {\n",
       "        vertical-align: top;\n",
       "    }\n",
       "\n",
       "    .dataframe thead th {\n",
       "        text-align: right;\n",
       "    }\n",
       "</style>\n",
       "<table border=\"1\" class=\"dataframe\">\n",
       "  <thead>\n",
       "    <tr style=\"text-align: right;\">\n",
       "      <th></th>\n",
       "      <th>title</th>\n",
       "      <th>final_score</th>\n",
       "    </tr>\n",
       "  </thead>\n",
       "  <tbody>\n",
       "    <tr>\n",
       "      <th>0</th>\n",
       "      <td>Hopper raises $16 million for a travel app that tells you the best time to fly</td>\n",
       "      <td>1.000000</td>\n",
       "    </tr>\n",
       "    <tr>\n",
       "      <th>1</th>\n",
       "      <td>How CEOs Can Keep Their Analytics Programs from Being a Waste of Time</td>\n",
       "      <td>NaN</td>\n",
       "    </tr>\n",
       "    <tr>\n",
       "      <th>2</th>\n",
       "      <td>Ebay's mobile Craigslist competitor Close5 has quietly grown to 7 million downloads</td>\n",
       "      <td>0.439604</td>\n",
       "    </tr>\n",
       "    <tr>\n",
       "      <th>3</th>\n",
       "      <td>Load Your Steam Wallet Using Bitcoin</td>\n",
       "      <td>0.387836</td>\n",
       "    </tr>\n",
       "    <tr>\n",
       "      <th>4</th>\n",
       "      <td>Heroínas de 'Estrelas além do tempo' inspiram garotas em trabalho de escola nos EUA</td>\n",
       "      <td>0.382498</td>\n",
       "    </tr>\n",
       "  </tbody>\n",
       "</table>\n",
       "</div>"
      ],
      "text/plain": [
       "                                                                                 title  \\\n",
       "0       Hopper raises $16 million for a travel app that tells you the best time to fly   \n",
       "1                How CEOs Can Keep Their Analytics Programs from Being a Waste of Time   \n",
       "2  Ebay's mobile Craigslist competitor Close5 has quietly grown to 7 million downloads   \n",
       "3                                                 Load Your Steam Wallet Using Bitcoin   \n",
       "4  Heroínas de 'Estrelas além do tempo' inspiram garotas em trabalho de escola nos EUA   \n",
       "\n",
       "   final_score  \n",
       "0     1.000000  \n",
       "1          NaN  \n",
       "2     0.439604  \n",
       "3     0.387836  \n",
       "4     0.382498  "
      ]
     },
     "execution_count": 198,
     "metadata": {},
     "output_type": "execute_result"
    }
   ],
   "source": [
    "hybrid_als_item.head()"
   ]
  },
  {
   "cell_type": "markdown",
   "id": "fa7dce9b",
   "metadata": {},
   "source": [
    "## Top 10 News recommendation from Hybrid Model"
   ]
  },
  {
   "cell_type": "code",
   "execution_count": 199,
   "id": "PJILyD1CUr5z",
   "metadata": {
    "id": "PJILyD1CUr5z"
   },
   "outputs": [
    {
     "data": {
      "text/html": [
       "<div>\n",
       "<style scoped>\n",
       "    .dataframe tbody tr th:only-of-type {\n",
       "        vertical-align: middle;\n",
       "    }\n",
       "\n",
       "    .dataframe tbody tr th {\n",
       "        vertical-align: top;\n",
       "    }\n",
       "\n",
       "    .dataframe thead th {\n",
       "        text-align: right;\n",
       "    }\n",
       "</style>\n",
       "<table border=\"1\" class=\"dataframe\">\n",
       "  <thead>\n",
       "    <tr style=\"text-align: right;\">\n",
       "      <th></th>\n",
       "      <th>title</th>\n",
       "      <th>final_score</th>\n",
       "    </tr>\n",
       "  </thead>\n",
       "  <tbody>\n",
       "    <tr>\n",
       "      <th>0</th>\n",
       "      <td>Hopper raises $16 million for a travel app that tells you the best time to fly</td>\n",
       "      <td>1.000000</td>\n",
       "    </tr>\n",
       "    <tr>\n",
       "      <th>2</th>\n",
       "      <td>Ebay's mobile Craigslist competitor Close5 has quietly grown to 7 million downloads</td>\n",
       "      <td>0.439604</td>\n",
       "    </tr>\n",
       "    <tr>\n",
       "      <th>65</th>\n",
       "      <td>Building AI Is Hard-So Facebook Is Building AI That Builds AI</td>\n",
       "      <td>0.434164</td>\n",
       "    </tr>\n",
       "    <tr>\n",
       "      <th>3</th>\n",
       "      <td>Load Your Steam Wallet Using Bitcoin</td>\n",
       "      <td>0.387836</td>\n",
       "    </tr>\n",
       "    <tr>\n",
       "      <th>4</th>\n",
       "      <td>Heroínas de 'Estrelas além do tempo' inspiram garotas em trabalho de escola nos EUA</td>\n",
       "      <td>0.382498</td>\n",
       "    </tr>\n",
       "    <tr>\n",
       "      <th>62</th>\n",
       "      <td>CMO interview: Putting IBM's marketing technology under the microscope</td>\n",
       "      <td>0.351651</td>\n",
       "    </tr>\n",
       "    <tr>\n",
       "      <th>12</th>\n",
       "      <td>Tutorial: How to build a GraphQL server - Building Apollo</td>\n",
       "      <td>0.343993</td>\n",
       "    </tr>\n",
       "    <tr>\n",
       "      <th>21</th>\n",
       "      <td>Carrinho de criança carrega seu smartphone usando geradores instalados nas rodas</td>\n",
       "      <td>0.341018</td>\n",
       "    </tr>\n",
       "    <tr>\n",
       "      <th>148</th>\n",
       "      <td>Como integrar marketing de impressos e marketing digital no e-commerce | EXAME.com</td>\n",
       "      <td>0.323096</td>\n",
       "    </tr>\n",
       "    <tr>\n",
       "      <th>13</th>\n",
       "      <td>[Tools] Planejamento Pessoal a Vista</td>\n",
       "      <td>0.318229</td>\n",
       "    </tr>\n",
       "  </tbody>\n",
       "</table>\n",
       "</div>"
      ],
      "text/plain": [
       "                                                                                   title  \\\n",
       "0         Hopper raises $16 million for a travel app that tells you the best time to fly   \n",
       "2    Ebay's mobile Craigslist competitor Close5 has quietly grown to 7 million downloads   \n",
       "65                         Building AI Is Hard-So Facebook Is Building AI That Builds AI   \n",
       "3                                                   Load Your Steam Wallet Using Bitcoin   \n",
       "4    Heroínas de 'Estrelas além do tempo' inspiram garotas em trabalho de escola nos EUA   \n",
       "62                CMO interview: Putting IBM's marketing technology under the microscope   \n",
       "12                             Tutorial: How to build a GraphQL server - Building Apollo   \n",
       "21      Carrinho de criança carrega seu smartphone usando geradores instalados nas rodas   \n",
       "148   Como integrar marketing de impressos e marketing digital no e-commerce | EXAME.com   \n",
       "13                                                  [Tools] Planejamento Pessoal a Vista   \n",
       "\n",
       "     final_score  \n",
       "0       1.000000  \n",
       "2       0.439604  \n",
       "65      0.434164  \n",
       "3       0.387836  \n",
       "4       0.382498  \n",
       "62      0.351651  \n",
       "12      0.343993  \n",
       "21      0.341018  \n",
       "148     0.323096  \n",
       "13      0.318229  "
      ]
     },
     "execution_count": 199,
     "metadata": {},
     "output_type": "execute_result"
    }
   ],
   "source": [
    "## top 10 news recommendation from hybrid model\n",
    "hybrid_als_item.sort_values(by='final_score', ascending=False)[:10]"
   ]
  }
 ],
 "metadata": {
  "colab": {
   "provenance": []
  },
  "kernelspec": {
   "display_name": "Python 3 (ipykernel)",
   "language": "python",
   "name": "python3"
  },
  "language_info": {
   "codemirror_mode": {
    "name": "ipython",
    "version": 3
   },
   "file_extension": ".py",
   "mimetype": "text/x-python",
   "name": "python",
   "nbconvert_exporter": "python",
   "pygments_lexer": "ipython3",
   "version": "3.9.13"
  }
 },
 "nbformat": 4,
 "nbformat_minor": 5
}
